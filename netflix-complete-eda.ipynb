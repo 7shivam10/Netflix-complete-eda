{
 "cells": [
  {
   "cell_type": "markdown",
   "id": "0bd4100d",
   "metadata": {
    "_cell_guid": "b1076dfc-b9ad-4769-8c92-a6c4dae69d19",
    "_uuid": "8f2839f25d086af736a60e9eeb907d3b93b6e0e5",
    "papermill": {
     "duration": 0.014227,
     "end_time": "2022-07-21T14:28:22.516726",
     "exception": false,
     "start_time": "2022-07-21T14:28:22.502499",
     "status": "completed"
    },
    "tags": []
   },
   "source": [
    " # # Netflix EDA project"
   ]
  },
  {
   "cell_type": "markdown",
   "id": "82916168",
   "metadata": {
    "papermill": {
     "duration": 0.02417,
     "end_time": "2022-07-21T14:28:22.556644",
     "exception": false,
     "start_time": "2022-07-21T14:28:22.532474",
     "status": "completed"
    },
    "tags": []
   },
   "source": [
    "# importing libraries and data"
   ]
  },
  {
   "cell_type": "code",
   "execution_count": 1,
   "id": "9fd77b14",
   "metadata": {
    "execution": {
     "iopub.execute_input": "2022-07-21T14:28:22.604208Z",
     "iopub.status.busy": "2022-07-21T14:28:22.600934Z",
     "iopub.status.idle": "2022-07-21T14:28:24.944237Z",
     "shell.execute_reply": "2022-07-21T14:28:24.943141Z"
    },
    "papermill": {
     "duration": 2.370155,
     "end_time": "2022-07-21T14:28:24.947320",
     "exception": false,
     "start_time": "2022-07-21T14:28:22.577165",
     "status": "completed"
    },
    "tags": []
   },
   "outputs": [],
   "source": [
    "import pandas as pd \n",
    "import numpy as np \n",
    "import plotly.express as px\n",
    "import seaborn as sns\n",
    "import matplotlib.pyplot as plt \n",
    "data=pd.read_csv(\"../input/netflix-shows/netflix_titles.csv\")\n",
    "\n"
   ]
  },
  {
   "cell_type": "markdown",
   "id": "ba16862c",
   "metadata": {
    "papermill": {
     "duration": 0.014729,
     "end_time": "2022-07-21T14:28:24.976116",
     "exception": false,
     "start_time": "2022-07-21T14:28:24.961387",
     "status": "completed"
    },
    "tags": []
   },
   "source": [
    "# Data Acquisition & Descrition"
   ]
  },
  {
   "cell_type": "code",
   "execution_count": 2,
   "id": "4d529ce7",
   "metadata": {
    "execution": {
     "iopub.execute_input": "2022-07-21T14:28:25.004660Z",
     "iopub.status.busy": "2022-07-21T14:28:25.004305Z",
     "iopub.status.idle": "2022-07-21T14:28:25.029496Z",
     "shell.execute_reply": "2022-07-21T14:28:25.028276Z"
    },
    "papermill": {
     "duration": 0.041934,
     "end_time": "2022-07-21T14:28:25.031749",
     "exception": false,
     "start_time": "2022-07-21T14:28:24.989815",
     "status": "completed"
    },
    "tags": []
   },
   "outputs": [
    {
     "data": {
      "text/html": [
       "<div>\n",
       "<style scoped>\n",
       "    .dataframe tbody tr th:only-of-type {\n",
       "        vertical-align: middle;\n",
       "    }\n",
       "\n",
       "    .dataframe tbody tr th {\n",
       "        vertical-align: top;\n",
       "    }\n",
       "\n",
       "    .dataframe thead th {\n",
       "        text-align: right;\n",
       "    }\n",
       "</style>\n",
       "<table border=\"1\" class=\"dataframe\">\n",
       "  <thead>\n",
       "    <tr style=\"text-align: right;\">\n",
       "      <th></th>\n",
       "      <th>show_id</th>\n",
       "      <th>type</th>\n",
       "      <th>title</th>\n",
       "      <th>director</th>\n",
       "      <th>cast</th>\n",
       "      <th>country</th>\n",
       "      <th>date_added</th>\n",
       "      <th>release_year</th>\n",
       "      <th>rating</th>\n",
       "      <th>duration</th>\n",
       "      <th>listed_in</th>\n",
       "      <th>description</th>\n",
       "    </tr>\n",
       "  </thead>\n",
       "  <tbody>\n",
       "    <tr>\n",
       "      <th>0</th>\n",
       "      <td>s1</td>\n",
       "      <td>Movie</td>\n",
       "      <td>Dick Johnson Is Dead</td>\n",
       "      <td>Kirsten Johnson</td>\n",
       "      <td>NaN</td>\n",
       "      <td>United States</td>\n",
       "      <td>September 25, 2021</td>\n",
       "      <td>2020</td>\n",
       "      <td>PG-13</td>\n",
       "      <td>90 min</td>\n",
       "      <td>Documentaries</td>\n",
       "      <td>As her father nears the end of his life, filmm...</td>\n",
       "    </tr>\n",
       "    <tr>\n",
       "      <th>1</th>\n",
       "      <td>s2</td>\n",
       "      <td>TV Show</td>\n",
       "      <td>Blood &amp; Water</td>\n",
       "      <td>NaN</td>\n",
       "      <td>Ama Qamata, Khosi Ngema, Gail Mabalane, Thaban...</td>\n",
       "      <td>South Africa</td>\n",
       "      <td>September 24, 2021</td>\n",
       "      <td>2021</td>\n",
       "      <td>TV-MA</td>\n",
       "      <td>2 Seasons</td>\n",
       "      <td>International TV Shows, TV Dramas, TV Mysteries</td>\n",
       "      <td>After crossing paths at a party, a Cape Town t...</td>\n",
       "    </tr>\n",
       "  </tbody>\n",
       "</table>\n",
       "</div>"
      ],
      "text/plain": [
       "  show_id     type                 title         director  \\\n",
       "0      s1    Movie  Dick Johnson Is Dead  Kirsten Johnson   \n",
       "1      s2  TV Show         Blood & Water              NaN   \n",
       "\n",
       "                                                cast        country  \\\n",
       "0                                                NaN  United States   \n",
       "1  Ama Qamata, Khosi Ngema, Gail Mabalane, Thaban...   South Africa   \n",
       "\n",
       "           date_added  release_year rating   duration  \\\n",
       "0  September 25, 2021          2020  PG-13     90 min   \n",
       "1  September 24, 2021          2021  TV-MA  2 Seasons   \n",
       "\n",
       "                                         listed_in  \\\n",
       "0                                    Documentaries   \n",
       "1  International TV Shows, TV Dramas, TV Mysteries   \n",
       "\n",
       "                                         description  \n",
       "0  As her father nears the end of his life, filmm...  \n",
       "1  After crossing paths at a party, a Cape Town t...  "
      ]
     },
     "execution_count": 2,
     "metadata": {},
     "output_type": "execute_result"
    }
   ],
   "source": [
    "data.head(2)"
   ]
  },
  {
   "cell_type": "code",
   "execution_count": 3,
   "id": "64f37ffd",
   "metadata": {
    "execution": {
     "iopub.execute_input": "2022-07-21T14:28:25.059832Z",
     "iopub.status.busy": "2022-07-21T14:28:25.059400Z",
     "iopub.status.idle": "2022-07-21T14:28:25.076282Z",
     "shell.execute_reply": "2022-07-21T14:28:25.075012Z"
    },
    "papermill": {
     "duration": 0.033814,
     "end_time": "2022-07-21T14:28:25.078766",
     "exception": false,
     "start_time": "2022-07-21T14:28:25.044952",
     "status": "completed"
    },
    "tags": []
   },
   "outputs": [
    {
     "data": {
      "text/html": [
       "<div>\n",
       "<style scoped>\n",
       "    .dataframe tbody tr th:only-of-type {\n",
       "        vertical-align: middle;\n",
       "    }\n",
       "\n",
       "    .dataframe tbody tr th {\n",
       "        vertical-align: top;\n",
       "    }\n",
       "\n",
       "    .dataframe thead th {\n",
       "        text-align: right;\n",
       "    }\n",
       "</style>\n",
       "<table border=\"1\" class=\"dataframe\">\n",
       "  <thead>\n",
       "    <tr style=\"text-align: right;\">\n",
       "      <th></th>\n",
       "      <th>show_id</th>\n",
       "      <th>type</th>\n",
       "      <th>title</th>\n",
       "      <th>director</th>\n",
       "      <th>cast</th>\n",
       "      <th>country</th>\n",
       "      <th>date_added</th>\n",
       "      <th>release_year</th>\n",
       "      <th>rating</th>\n",
       "      <th>duration</th>\n",
       "      <th>listed_in</th>\n",
       "      <th>description</th>\n",
       "    </tr>\n",
       "  </thead>\n",
       "  <tbody>\n",
       "    <tr>\n",
       "      <th>8805</th>\n",
       "      <td>s8806</td>\n",
       "      <td>Movie</td>\n",
       "      <td>Zoom</td>\n",
       "      <td>Peter Hewitt</td>\n",
       "      <td>Tim Allen, Courteney Cox, Chevy Chase, Kate Ma...</td>\n",
       "      <td>United States</td>\n",
       "      <td>January 11, 2020</td>\n",
       "      <td>2006</td>\n",
       "      <td>PG</td>\n",
       "      <td>88 min</td>\n",
       "      <td>Children &amp; Family Movies, Comedies</td>\n",
       "      <td>Dragged from civilian life, a former superhero...</td>\n",
       "    </tr>\n",
       "    <tr>\n",
       "      <th>8806</th>\n",
       "      <td>s8807</td>\n",
       "      <td>Movie</td>\n",
       "      <td>Zubaan</td>\n",
       "      <td>Mozez Singh</td>\n",
       "      <td>Vicky Kaushal, Sarah-Jane Dias, Raaghav Chanan...</td>\n",
       "      <td>India</td>\n",
       "      <td>March 2, 2019</td>\n",
       "      <td>2015</td>\n",
       "      <td>TV-14</td>\n",
       "      <td>111 min</td>\n",
       "      <td>Dramas, International Movies, Music &amp; Musicals</td>\n",
       "      <td>A scrappy but poor boy worms his way into a ty...</td>\n",
       "    </tr>\n",
       "  </tbody>\n",
       "</table>\n",
       "</div>"
      ],
      "text/plain": [
       "     show_id   type   title      director  \\\n",
       "8805   s8806  Movie    Zoom  Peter Hewitt   \n",
       "8806   s8807  Movie  Zubaan   Mozez Singh   \n",
       "\n",
       "                                                   cast        country  \\\n",
       "8805  Tim Allen, Courteney Cox, Chevy Chase, Kate Ma...  United States   \n",
       "8806  Vicky Kaushal, Sarah-Jane Dias, Raaghav Chanan...          India   \n",
       "\n",
       "            date_added  release_year rating duration  \\\n",
       "8805  January 11, 2020          2006     PG   88 min   \n",
       "8806     March 2, 2019          2015  TV-14  111 min   \n",
       "\n",
       "                                           listed_in  \\\n",
       "8805              Children & Family Movies, Comedies   \n",
       "8806  Dramas, International Movies, Music & Musicals   \n",
       "\n",
       "                                            description  \n",
       "8805  Dragged from civilian life, a former superhero...  \n",
       "8806  A scrappy but poor boy worms his way into a ty...  "
      ]
     },
     "execution_count": 3,
     "metadata": {},
     "output_type": "execute_result"
    }
   ],
   "source": [
    "data.tail(2)"
   ]
  },
  {
   "cell_type": "code",
   "execution_count": 4,
   "id": "bae04454",
   "metadata": {
    "execution": {
     "iopub.execute_input": "2022-07-21T14:28:25.109036Z",
     "iopub.status.busy": "2022-07-21T14:28:25.107901Z",
     "iopub.status.idle": "2022-07-21T14:28:25.141629Z",
     "shell.execute_reply": "2022-07-21T14:28:25.139961Z"
    },
    "papermill": {
     "duration": 0.051229,
     "end_time": "2022-07-21T14:28:25.144042",
     "exception": false,
     "start_time": "2022-07-21T14:28:25.092813",
     "status": "completed"
    },
    "tags": []
   },
   "outputs": [
    {
     "name": "stdout",
     "output_type": "stream",
     "text": [
      "<class 'pandas.core.frame.DataFrame'>\n",
      "RangeIndex: 8807 entries, 0 to 8806\n",
      "Data columns (total 12 columns):\n",
      " #   Column        Non-Null Count  Dtype \n",
      "---  ------        --------------  ----- \n",
      " 0   show_id       8807 non-null   object\n",
      " 1   type          8807 non-null   object\n",
      " 2   title         8807 non-null   object\n",
      " 3   director      6173 non-null   object\n",
      " 4   cast          7982 non-null   object\n",
      " 5   country       7976 non-null   object\n",
      " 6   date_added    8797 non-null   object\n",
      " 7   release_year  8807 non-null   int64 \n",
      " 8   rating        8803 non-null   object\n",
      " 9   duration      8804 non-null   object\n",
      " 10  listed_in     8807 non-null   object\n",
      " 11  description   8807 non-null   object\n",
      "dtypes: int64(1), object(11)\n",
      "memory usage: 825.8+ KB\n"
     ]
    }
   ],
   "source": [
    "data.info()"
   ]
  },
  {
   "cell_type": "code",
   "execution_count": 5,
   "id": "8f57d561",
   "metadata": {
    "execution": {
     "iopub.execute_input": "2022-07-21T14:28:25.173762Z",
     "iopub.status.busy": "2022-07-21T14:28:25.172820Z",
     "iopub.status.idle": "2022-07-21T14:28:25.189754Z",
     "shell.execute_reply": "2022-07-21T14:28:25.188532Z"
    },
    "papermill": {
     "duration": 0.034425,
     "end_time": "2022-07-21T14:28:25.192096",
     "exception": false,
     "start_time": "2022-07-21T14:28:25.157671",
     "status": "completed"
    },
    "tags": []
   },
   "outputs": [
    {
     "data": {
      "text/html": [
       "<div>\n",
       "<style scoped>\n",
       "    .dataframe tbody tr th:only-of-type {\n",
       "        vertical-align: middle;\n",
       "    }\n",
       "\n",
       "    .dataframe tbody tr th {\n",
       "        vertical-align: top;\n",
       "    }\n",
       "\n",
       "    .dataframe thead th {\n",
       "        text-align: right;\n",
       "    }\n",
       "</style>\n",
       "<table border=\"1\" class=\"dataframe\">\n",
       "  <thead>\n",
       "    <tr style=\"text-align: right;\">\n",
       "      <th></th>\n",
       "      <th>release_year</th>\n",
       "    </tr>\n",
       "  </thead>\n",
       "  <tbody>\n",
       "    <tr>\n",
       "      <th>count</th>\n",
       "      <td>8807.000000</td>\n",
       "    </tr>\n",
       "    <tr>\n",
       "      <th>mean</th>\n",
       "      <td>2014.180198</td>\n",
       "    </tr>\n",
       "    <tr>\n",
       "      <th>std</th>\n",
       "      <td>8.819312</td>\n",
       "    </tr>\n",
       "    <tr>\n",
       "      <th>min</th>\n",
       "      <td>1925.000000</td>\n",
       "    </tr>\n",
       "    <tr>\n",
       "      <th>25%</th>\n",
       "      <td>2013.000000</td>\n",
       "    </tr>\n",
       "    <tr>\n",
       "      <th>50%</th>\n",
       "      <td>2017.000000</td>\n",
       "    </tr>\n",
       "    <tr>\n",
       "      <th>75%</th>\n",
       "      <td>2019.000000</td>\n",
       "    </tr>\n",
       "    <tr>\n",
       "      <th>max</th>\n",
       "      <td>2021.000000</td>\n",
       "    </tr>\n",
       "  </tbody>\n",
       "</table>\n",
       "</div>"
      ],
      "text/plain": [
       "       release_year\n",
       "count   8807.000000\n",
       "mean    2014.180198\n",
       "std        8.819312\n",
       "min     1925.000000\n",
       "25%     2013.000000\n",
       "50%     2017.000000\n",
       "75%     2019.000000\n",
       "max     2021.000000"
      ]
     },
     "execution_count": 5,
     "metadata": {},
     "output_type": "execute_result"
    }
   ],
   "source": [
    "data.describe()"
   ]
  },
  {
   "cell_type": "markdown",
   "id": "43c5e143",
   "metadata": {
    "papermill": {
     "duration": 0.013186,
     "end_time": "2022-07-21T14:28:25.218987",
     "exception": false,
     "start_time": "2022-07-21T14:28:25.205801",
     "status": "completed"
    },
    "tags": []
   },
   "source": [
    "# Data Processing"
   ]
  },
  {
   "cell_type": "code",
   "execution_count": 6,
   "id": "ef0d4dff",
   "metadata": {
    "execution": {
     "iopub.execute_input": "2022-07-21T14:28:25.248617Z",
     "iopub.status.busy": "2022-07-21T14:28:25.247835Z",
     "iopub.status.idle": "2022-07-21T14:28:25.263596Z",
     "shell.execute_reply": "2022-07-21T14:28:25.262402Z"
    },
    "papermill": {
     "duration": 0.03318,
     "end_time": "2022-07-21T14:28:25.265853",
     "exception": false,
     "start_time": "2022-07-21T14:28:25.232673",
     "status": "completed"
    },
    "tags": []
   },
   "outputs": [
    {
     "data": {
      "text/html": [
       "<div>\n",
       "<style scoped>\n",
       "    .dataframe tbody tr th:only-of-type {\n",
       "        vertical-align: middle;\n",
       "    }\n",
       "\n",
       "    .dataframe tbody tr th {\n",
       "        vertical-align: top;\n",
       "    }\n",
       "\n",
       "    .dataframe thead th {\n",
       "        text-align: right;\n",
       "    }\n",
       "</style>\n",
       "<table border=\"1\" class=\"dataframe\">\n",
       "  <thead>\n",
       "    <tr style=\"text-align: right;\">\n",
       "      <th></th>\n",
       "      <th>show_id</th>\n",
       "      <th>type</th>\n",
       "      <th>title</th>\n",
       "      <th>director</th>\n",
       "      <th>cast</th>\n",
       "      <th>country</th>\n",
       "      <th>date_added</th>\n",
       "      <th>release_year</th>\n",
       "      <th>rating</th>\n",
       "      <th>duration</th>\n",
       "      <th>listed_in</th>\n",
       "      <th>description</th>\n",
       "    </tr>\n",
       "  </thead>\n",
       "  <tbody>\n",
       "    <tr>\n",
       "      <th>0</th>\n",
       "      <td>s1</td>\n",
       "      <td>Movie</td>\n",
       "      <td>Dick Johnson Is Dead</td>\n",
       "      <td>Kirsten Johnson</td>\n",
       "      <td>NaN</td>\n",
       "      <td>United States</td>\n",
       "      <td>September 25, 2021</td>\n",
       "      <td>2020</td>\n",
       "      <td>PG-13</td>\n",
       "      <td>90 min</td>\n",
       "      <td>Documentaries</td>\n",
       "      <td>As her father nears the end of his life, filmm...</td>\n",
       "    </tr>\n",
       "    <tr>\n",
       "      <th>1</th>\n",
       "      <td>s2</td>\n",
       "      <td>TV Show</td>\n",
       "      <td>Blood &amp; Water</td>\n",
       "      <td>NaN</td>\n",
       "      <td>Ama Qamata, Khosi Ngema, Gail Mabalane, Thaban...</td>\n",
       "      <td>South Africa</td>\n",
       "      <td>September 24, 2021</td>\n",
       "      <td>2021</td>\n",
       "      <td>TV-MA</td>\n",
       "      <td>2 Seasons</td>\n",
       "      <td>International TV Shows, TV Dramas, TV Mysteries</td>\n",
       "      <td>After crossing paths at a party, a Cape Town t...</td>\n",
       "    </tr>\n",
       "  </tbody>\n",
       "</table>\n",
       "</div>"
      ],
      "text/plain": [
       "  show_id     type                 title         director  \\\n",
       "0      s1    Movie  Dick Johnson Is Dead  Kirsten Johnson   \n",
       "1      s2  TV Show         Blood & Water              NaN   \n",
       "\n",
       "                                                cast        country  \\\n",
       "0                                                NaN  United States   \n",
       "1  Ama Qamata, Khosi Ngema, Gail Mabalane, Thaban...   South Africa   \n",
       "\n",
       "           date_added  release_year rating   duration  \\\n",
       "0  September 25, 2021          2020  PG-13     90 min   \n",
       "1  September 24, 2021          2021  TV-MA  2 Seasons   \n",
       "\n",
       "                                         listed_in  \\\n",
       "0                                    Documentaries   \n",
       "1  International TV Shows, TV Dramas, TV Mysteries   \n",
       "\n",
       "                                         description  \n",
       "0  As her father nears the end of his life, filmm...  \n",
       "1  After crossing paths at a party, a Cape Town t...  "
      ]
     },
     "execution_count": 6,
     "metadata": {},
     "output_type": "execute_result"
    }
   ],
   "source": [
    "data.head(2)"
   ]
  },
  {
   "cell_type": "code",
   "execution_count": 7,
   "id": "e02c9754",
   "metadata": {
    "execution": {
     "iopub.execute_input": "2022-07-21T14:28:25.295969Z",
     "iopub.status.busy": "2022-07-21T14:28:25.295179Z",
     "iopub.status.idle": "2022-07-21T14:28:25.310252Z",
     "shell.execute_reply": "2022-07-21T14:28:25.309058Z"
    },
    "papermill": {
     "duration": 0.032664,
     "end_time": "2022-07-21T14:28:25.312513",
     "exception": false,
     "start_time": "2022-07-21T14:28:25.279849",
     "status": "completed"
    },
    "tags": []
   },
   "outputs": [
    {
     "data": {
      "text/html": [
       "<div>\n",
       "<style scoped>\n",
       "    .dataframe tbody tr th:only-of-type {\n",
       "        vertical-align: middle;\n",
       "    }\n",
       "\n",
       "    .dataframe tbody tr th {\n",
       "        vertical-align: top;\n",
       "    }\n",
       "\n",
       "    .dataframe thead th {\n",
       "        text-align: right;\n",
       "    }\n",
       "</style>\n",
       "<table border=\"1\" class=\"dataframe\">\n",
       "  <thead>\n",
       "    <tr style=\"text-align: right;\">\n",
       "      <th></th>\n",
       "      <th>show_id</th>\n",
       "      <th>type</th>\n",
       "      <th>title</th>\n",
       "      <th>director</th>\n",
       "      <th>cast</th>\n",
       "      <th>country</th>\n",
       "      <th>date_added</th>\n",
       "      <th>release_year</th>\n",
       "      <th>rating</th>\n",
       "      <th>duration</th>\n",
       "      <th>listed_in</th>\n",
       "      <th>description</th>\n",
       "    </tr>\n",
       "  </thead>\n",
       "  <tbody>\n",
       "    <tr>\n",
       "      <th>8805</th>\n",
       "      <td>s8806</td>\n",
       "      <td>Movie</td>\n",
       "      <td>Zoom</td>\n",
       "      <td>Peter Hewitt</td>\n",
       "      <td>Tim Allen, Courteney Cox, Chevy Chase, Kate Ma...</td>\n",
       "      <td>United States</td>\n",
       "      <td>January 11, 2020</td>\n",
       "      <td>2006</td>\n",
       "      <td>PG</td>\n",
       "      <td>88 min</td>\n",
       "      <td>Children &amp; Family Movies, Comedies</td>\n",
       "      <td>Dragged from civilian life, a former superhero...</td>\n",
       "    </tr>\n",
       "    <tr>\n",
       "      <th>8806</th>\n",
       "      <td>s8807</td>\n",
       "      <td>Movie</td>\n",
       "      <td>Zubaan</td>\n",
       "      <td>Mozez Singh</td>\n",
       "      <td>Vicky Kaushal, Sarah-Jane Dias, Raaghav Chanan...</td>\n",
       "      <td>India</td>\n",
       "      <td>March 2, 2019</td>\n",
       "      <td>2015</td>\n",
       "      <td>TV-14</td>\n",
       "      <td>111 min</td>\n",
       "      <td>Dramas, International Movies, Music &amp; Musicals</td>\n",
       "      <td>A scrappy but poor boy worms his way into a ty...</td>\n",
       "    </tr>\n",
       "  </tbody>\n",
       "</table>\n",
       "</div>"
      ],
      "text/plain": [
       "     show_id   type   title      director  \\\n",
       "8805   s8806  Movie    Zoom  Peter Hewitt   \n",
       "8806   s8807  Movie  Zubaan   Mozez Singh   \n",
       "\n",
       "                                                   cast        country  \\\n",
       "8805  Tim Allen, Courteney Cox, Chevy Chase, Kate Ma...  United States   \n",
       "8806  Vicky Kaushal, Sarah-Jane Dias, Raaghav Chanan...          India   \n",
       "\n",
       "            date_added  release_year rating duration  \\\n",
       "8805  January 11, 2020          2006     PG   88 min   \n",
       "8806     March 2, 2019          2015  TV-14  111 min   \n",
       "\n",
       "                                           listed_in  \\\n",
       "8805              Children & Family Movies, Comedies   \n",
       "8806  Dramas, International Movies, Music & Musicals   \n",
       "\n",
       "                                            description  \n",
       "8805  Dragged from civilian life, a former superhero...  \n",
       "8806  A scrappy but poor boy worms his way into a ty...  "
      ]
     },
     "execution_count": 7,
     "metadata": {},
     "output_type": "execute_result"
    }
   ],
   "source": [
    "data.tail(2)"
   ]
  },
  {
   "cell_type": "code",
   "execution_count": 8,
   "id": "f7f2b32e",
   "metadata": {
    "execution": {
     "iopub.execute_input": "2022-07-21T14:28:25.342914Z",
     "iopub.status.busy": "2022-07-21T14:28:25.342170Z",
     "iopub.status.idle": "2022-07-21T14:28:25.359651Z",
     "shell.execute_reply": "2022-07-21T14:28:25.358009Z"
    },
    "papermill": {
     "duration": 0.036355,
     "end_time": "2022-07-21T14:28:25.363168",
     "exception": false,
     "start_time": "2022-07-21T14:28:25.326813",
     "status": "completed"
    },
    "tags": []
   },
   "outputs": [
    {
     "name": "stdout",
     "output_type": "stream",
     "text": [
      "<class 'pandas.core.frame.DataFrame'>\n",
      "RangeIndex: 8807 entries, 0 to 8806\n",
      "Data columns (total 12 columns):\n",
      " #   Column        Non-Null Count  Dtype \n",
      "---  ------        --------------  ----- \n",
      " 0   show_id       8807 non-null   object\n",
      " 1   type          8807 non-null   object\n",
      " 2   title         8807 non-null   object\n",
      " 3   director      6173 non-null   object\n",
      " 4   cast          7982 non-null   object\n",
      " 5   country       7976 non-null   object\n",
      " 6   date_added    8797 non-null   object\n",
      " 7   release_year  8807 non-null   int64 \n",
      " 8   rating        8803 non-null   object\n",
      " 9   duration      8804 non-null   object\n",
      " 10  listed_in     8807 non-null   object\n",
      " 11  description   8807 non-null   object\n",
      "dtypes: int64(1), object(11)\n",
      "memory usage: 825.8+ KB\n"
     ]
    }
   ],
   "source": [
    "data.info()"
   ]
  },
  {
   "cell_type": "code",
   "execution_count": 9,
   "id": "b31c6072",
   "metadata": {
    "execution": {
     "iopub.execute_input": "2022-07-21T14:28:25.394213Z",
     "iopub.status.busy": "2022-07-21T14:28:25.393440Z",
     "iopub.status.idle": "2022-07-21T14:28:25.407457Z",
     "shell.execute_reply": "2022-07-21T14:28:25.406210Z"
    },
    "papermill": {
     "duration": 0.031671,
     "end_time": "2022-07-21T14:28:25.409629",
     "exception": false,
     "start_time": "2022-07-21T14:28:25.377958",
     "status": "completed"
    },
    "tags": []
   },
   "outputs": [
    {
     "data": {
      "text/html": [
       "<div>\n",
       "<style scoped>\n",
       "    .dataframe tbody tr th:only-of-type {\n",
       "        vertical-align: middle;\n",
       "    }\n",
       "\n",
       "    .dataframe tbody tr th {\n",
       "        vertical-align: top;\n",
       "    }\n",
       "\n",
       "    .dataframe thead th {\n",
       "        text-align: right;\n",
       "    }\n",
       "</style>\n",
       "<table border=\"1\" class=\"dataframe\">\n",
       "  <thead>\n",
       "    <tr style=\"text-align: right;\">\n",
       "      <th></th>\n",
       "      <th>release_year</th>\n",
       "    </tr>\n",
       "  </thead>\n",
       "  <tbody>\n",
       "    <tr>\n",
       "      <th>count</th>\n",
       "      <td>8807.000000</td>\n",
       "    </tr>\n",
       "    <tr>\n",
       "      <th>mean</th>\n",
       "      <td>2014.180198</td>\n",
       "    </tr>\n",
       "    <tr>\n",
       "      <th>std</th>\n",
       "      <td>8.819312</td>\n",
       "    </tr>\n",
       "    <tr>\n",
       "      <th>min</th>\n",
       "      <td>1925.000000</td>\n",
       "    </tr>\n",
       "    <tr>\n",
       "      <th>25%</th>\n",
       "      <td>2013.000000</td>\n",
       "    </tr>\n",
       "    <tr>\n",
       "      <th>50%</th>\n",
       "      <td>2017.000000</td>\n",
       "    </tr>\n",
       "    <tr>\n",
       "      <th>75%</th>\n",
       "      <td>2019.000000</td>\n",
       "    </tr>\n",
       "    <tr>\n",
       "      <th>max</th>\n",
       "      <td>2021.000000</td>\n",
       "    </tr>\n",
       "  </tbody>\n",
       "</table>\n",
       "</div>"
      ],
      "text/plain": [
       "       release_year\n",
       "count   8807.000000\n",
       "mean    2014.180198\n",
       "std        8.819312\n",
       "min     1925.000000\n",
       "25%     2013.000000\n",
       "50%     2017.000000\n",
       "75%     2019.000000\n",
       "max     2021.000000"
      ]
     },
     "execution_count": 9,
     "metadata": {},
     "output_type": "execute_result"
    }
   ],
   "source": [
    "data.describe()"
   ]
  },
  {
   "cell_type": "code",
   "execution_count": 10,
   "id": "330b1d8e",
   "metadata": {
    "execution": {
     "iopub.execute_input": "2022-07-21T14:28:25.440276Z",
     "iopub.status.busy": "2022-07-21T14:28:25.439496Z",
     "iopub.status.idle": "2022-07-21T14:28:25.446581Z",
     "shell.execute_reply": "2022-07-21T14:28:25.445748Z"
    },
    "papermill": {
     "duration": 0.024789,
     "end_time": "2022-07-21T14:28:25.448629",
     "exception": false,
     "start_time": "2022-07-21T14:28:25.423840",
     "status": "completed"
    },
    "tags": []
   },
   "outputs": [
    {
     "data": {
      "text/plain": [
       "Index(['show_id', 'type', 'title', 'director', 'cast', 'country', 'date_added',\n",
       "       'release_year', 'rating', 'duration', 'listed_in', 'description'],\n",
       "      dtype='object')"
      ]
     },
     "execution_count": 10,
     "metadata": {},
     "output_type": "execute_result"
    }
   ],
   "source": [
    "data.columns"
   ]
  },
  {
   "cell_type": "markdown",
   "id": "03a162b9",
   "metadata": {
    "papermill": {
     "duration": 0.013795,
     "end_time": "2022-07-21T14:28:25.476602",
     "exception": false,
     "start_time": "2022-07-21T14:28:25.462807",
     "status": "completed"
    },
    "tags": []
   },
   "source": [
    "# Data Processing"
   ]
  },
  {
   "cell_type": "markdown",
   "id": "f5dce7b6",
   "metadata": {
    "papermill": {
     "duration": 0.013881,
     "end_time": "2022-07-21T14:28:25.504734",
     "exception": false,
     "start_time": "2022-07-21T14:28:25.490853",
     "status": "completed"
    },
    "tags": []
   },
   "source": [
    "Converting date to its formatted date "
   ]
  },
  {
   "cell_type": "code",
   "execution_count": 11,
   "id": "590c0d92",
   "metadata": {
    "execution": {
     "iopub.execute_input": "2022-07-21T14:28:25.536071Z",
     "iopub.status.busy": "2022-07-21T14:28:25.535379Z",
     "iopub.status.idle": "2022-07-21T14:28:25.723354Z",
     "shell.execute_reply": "2022-07-21T14:28:25.721987Z"
    },
    "papermill": {
     "duration": 0.207036,
     "end_time": "2022-07-21T14:28:25.726388",
     "exception": false,
     "start_time": "2022-07-21T14:28:25.519352",
     "status": "completed"
    },
    "tags": []
   },
   "outputs": [
    {
     "name": "stdout",
     "output_type": "stream",
     "text": [
      "<class 'pandas.core.frame.DataFrame'>\n",
      "RangeIndex: 8807 entries, 0 to 8806\n",
      "Data columns (total 12 columns):\n",
      " #   Column        Non-Null Count  Dtype         \n",
      "---  ------        --------------  -----         \n",
      " 0   show_id       8807 non-null   object        \n",
      " 1   type          8807 non-null   object        \n",
      " 2   title         8807 non-null   object        \n",
      " 3   director      6173 non-null   object        \n",
      " 4   cast          7982 non-null   object        \n",
      " 5   country       7976 non-null   object        \n",
      " 6   date_added    8797 non-null   datetime64[ns]\n",
      " 7   release_year  8807 non-null   int64         \n",
      " 8   rating        8803 non-null   object        \n",
      " 9   duration      8804 non-null   object        \n",
      " 10  listed_in     8807 non-null   object        \n",
      " 11  description   8807 non-null   object        \n",
      "dtypes: datetime64[ns](1), int64(1), object(10)\n",
      "memory usage: 825.8+ KB\n"
     ]
    }
   ],
   "source": [
    "data[\"date_added\"]=pd.to_datetime(data[\"date_added\"])\n",
    "data.info()"
   ]
  },
  {
   "cell_type": "code",
   "execution_count": 12,
   "id": "f194aa72",
   "metadata": {
    "execution": {
     "iopub.execute_input": "2022-07-21T14:28:25.757402Z",
     "iopub.status.busy": "2022-07-21T14:28:25.756604Z",
     "iopub.status.idle": "2022-07-21T14:28:25.778624Z",
     "shell.execute_reply": "2022-07-21T14:28:25.777335Z"
    },
    "papermill": {
     "duration": 0.040412,
     "end_time": "2022-07-21T14:28:25.781182",
     "exception": false,
     "start_time": "2022-07-21T14:28:25.740770",
     "status": "completed"
    },
    "tags": []
   },
   "outputs": [
    {
     "name": "stdout",
     "output_type": "stream",
     "text": [
      "<class 'pandas.core.frame.DataFrame'>\n",
      "RangeIndex: 8807 entries, 0 to 8806\n",
      "Data columns (total 14 columns):\n",
      " #   Column         Non-Null Count  Dtype         \n",
      "---  ------         --------------  -----         \n",
      " 0   show_id        8807 non-null   object        \n",
      " 1   type           8807 non-null   object        \n",
      " 2   title          8807 non-null   object        \n",
      " 3   director       6173 non-null   object        \n",
      " 4   cast           7982 non-null   object        \n",
      " 5   country        7976 non-null   object        \n",
      " 6   date_added     8797 non-null   datetime64[ns]\n",
      " 7   release_year   8807 non-null   int64         \n",
      " 8   rating         8803 non-null   object        \n",
      " 9   duration       8804 non-null   object        \n",
      " 10  listed_in      8807 non-null   object        \n",
      " 11  description    8807 non-null   object        \n",
      " 12  added_in_year  8797 non-null   float64       \n",
      " 13  added_in_day   8797 non-null   float64       \n",
      "dtypes: datetime64[ns](1), float64(2), int64(1), object(10)\n",
      "memory usage: 963.4+ KB\n"
     ]
    }
   ],
   "source": [
    "data[\"added_in_year\"]=data[\"date_added\"].dt.year\n",
    "data[\"added_in_day\"]=data[\"date_added\"].dt.day\n",
    "data.info()"
   ]
  },
  {
   "cell_type": "code",
   "execution_count": 13,
   "id": "13687868",
   "metadata": {
    "execution": {
     "iopub.execute_input": "2022-07-21T14:28:25.812417Z",
     "iopub.status.busy": "2022-07-21T14:28:25.811892Z",
     "iopub.status.idle": "2022-07-21T14:28:25.824143Z",
     "shell.execute_reply": "2022-07-21T14:28:25.822802Z"
    },
    "papermill": {
     "duration": 0.030852,
     "end_time": "2022-07-21T14:28:25.826785",
     "exception": false,
     "start_time": "2022-07-21T14:28:25.795933",
     "status": "completed"
    },
    "tags": []
   },
   "outputs": [
    {
     "data": {
      "text/plain": [
       "2019.0    2016\n",
       "2020.0    1879\n",
       "2018.0    1649\n",
       "2021.0    1498\n",
       "2017.0    1188\n",
       "2016.0     429\n",
       "2015.0      82\n",
       "2014.0      24\n",
       "2011.0      13\n",
       "2013.0      11\n",
       "2012.0       3\n",
       "2009.0       2\n",
       "2008.0       2\n",
       "2010.0       1\n",
       "Name: added_in_year, dtype: int64"
      ]
     },
     "execution_count": 13,
     "metadata": {},
     "output_type": "execute_result"
    }
   ],
   "source": [
    "data['added_in_year'].value_counts()"
   ]
  },
  {
   "cell_type": "code",
   "execution_count": 14,
   "id": "55d695f6",
   "metadata": {
    "execution": {
     "iopub.execute_input": "2022-07-21T14:28:25.859641Z",
     "iopub.status.busy": "2022-07-21T14:28:25.859201Z",
     "iopub.status.idle": "2022-07-21T14:28:25.881646Z",
     "shell.execute_reply": "2022-07-21T14:28:25.880497Z"
    },
    "papermill": {
     "duration": 0.042265,
     "end_time": "2022-07-21T14:28:25.883938",
     "exception": false,
     "start_time": "2022-07-21T14:28:25.841673",
     "status": "completed"
    },
    "tags": []
   },
   "outputs": [
    {
     "data": {
      "text/html": [
       "<div>\n",
       "<style scoped>\n",
       "    .dataframe tbody tr th:only-of-type {\n",
       "        vertical-align: middle;\n",
       "    }\n",
       "\n",
       "    .dataframe tbody tr th {\n",
       "        vertical-align: top;\n",
       "    }\n",
       "\n",
       "    .dataframe thead th {\n",
       "        text-align: right;\n",
       "    }\n",
       "</style>\n",
       "<table border=\"1\" class=\"dataframe\">\n",
       "  <thead>\n",
       "    <tr style=\"text-align: right;\">\n",
       "      <th></th>\n",
       "      <th>show_id</th>\n",
       "      <th>type</th>\n",
       "      <th>title</th>\n",
       "      <th>director</th>\n",
       "      <th>cast</th>\n",
       "      <th>country</th>\n",
       "      <th>date_added</th>\n",
       "      <th>release_year</th>\n",
       "      <th>rating</th>\n",
       "      <th>duration</th>\n",
       "      <th>listed_in</th>\n",
       "      <th>description</th>\n",
       "      <th>added_in_year</th>\n",
       "      <th>added_in_day</th>\n",
       "    </tr>\n",
       "  </thead>\n",
       "  <tbody>\n",
       "    <tr>\n",
       "      <th>0</th>\n",
       "      <td>s1</td>\n",
       "      <td>Movie</td>\n",
       "      <td>Dick Johnson Is Dead</td>\n",
       "      <td>Kirsten Johnson</td>\n",
       "      <td>NaN</td>\n",
       "      <td>United States</td>\n",
       "      <td>2021-09-25</td>\n",
       "      <td>2020</td>\n",
       "      <td>PG-13</td>\n",
       "      <td>90 min</td>\n",
       "      <td>Documentaries</td>\n",
       "      <td>As her father nears the end of his life, filmm...</td>\n",
       "      <td>2021.0</td>\n",
       "      <td>25.0</td>\n",
       "    </tr>\n",
       "    <tr>\n",
       "      <th>6</th>\n",
       "      <td>s7</td>\n",
       "      <td>Movie</td>\n",
       "      <td>My Little Pony: A New Generation</td>\n",
       "      <td>Robert Cullen, José Luis Ucha</td>\n",
       "      <td>Vanessa Hudgens, Kimiko Glenn, James Marsden, ...</td>\n",
       "      <td>NaN</td>\n",
       "      <td>2021-09-24</td>\n",
       "      <td>2021</td>\n",
       "      <td>PG</td>\n",
       "      <td>91 min</td>\n",
       "      <td>Children &amp; Family Movies</td>\n",
       "      <td>Equestria's divided. But a bright-eyed hero be...</td>\n",
       "      <td>2021.0</td>\n",
       "      <td>24.0</td>\n",
       "    </tr>\n",
       "  </tbody>\n",
       "</table>\n",
       "</div>"
      ],
      "text/plain": [
       "  show_id   type                             title  \\\n",
       "0      s1  Movie              Dick Johnson Is Dead   \n",
       "6      s7  Movie  My Little Pony: A New Generation   \n",
       "\n",
       "                        director  \\\n",
       "0                Kirsten Johnson   \n",
       "6  Robert Cullen, José Luis Ucha   \n",
       "\n",
       "                                                cast        country  \\\n",
       "0                                                NaN  United States   \n",
       "6  Vanessa Hudgens, Kimiko Glenn, James Marsden, ...            NaN   \n",
       "\n",
       "  date_added  release_year rating duration                 listed_in  \\\n",
       "0 2021-09-25          2020  PG-13   90 min             Documentaries   \n",
       "6 2021-09-24          2021     PG   91 min  Children & Family Movies   \n",
       "\n",
       "                                         description  added_in_year  \\\n",
       "0  As her father nears the end of his life, filmm...         2021.0   \n",
       "6  Equestria's divided. But a bright-eyed hero be...         2021.0   \n",
       "\n",
       "   added_in_day  \n",
       "0          25.0  \n",
       "6          24.0  "
      ]
     },
     "execution_count": 14,
     "metadata": {},
     "output_type": "execute_result"
    }
   ],
   "source": [
    "moovies_data= data[data.type=='Movie']\n",
    "moovies_data.head(2)"
   ]
  },
  {
   "cell_type": "code",
   "execution_count": 15,
   "id": "5fba7e1d",
   "metadata": {
    "execution": {
     "iopub.execute_input": "2022-07-21T14:28:25.917713Z",
     "iopub.status.busy": "2022-07-21T14:28:25.917062Z",
     "iopub.status.idle": "2022-07-21T14:28:25.936394Z",
     "shell.execute_reply": "2022-07-21T14:28:25.935258Z"
    },
    "papermill": {
     "duration": 0.03902,
     "end_time": "2022-07-21T14:28:25.938768",
     "exception": false,
     "start_time": "2022-07-21T14:28:25.899748",
     "status": "completed"
    },
    "tags": []
   },
   "outputs": [
    {
     "data": {
      "text/html": [
       "<div>\n",
       "<style scoped>\n",
       "    .dataframe tbody tr th:only-of-type {\n",
       "        vertical-align: middle;\n",
       "    }\n",
       "\n",
       "    .dataframe tbody tr th {\n",
       "        vertical-align: top;\n",
       "    }\n",
       "\n",
       "    .dataframe thead th {\n",
       "        text-align: right;\n",
       "    }\n",
       "</style>\n",
       "<table border=\"1\" class=\"dataframe\">\n",
       "  <thead>\n",
       "    <tr style=\"text-align: right;\">\n",
       "      <th></th>\n",
       "      <th>show_id</th>\n",
       "      <th>type</th>\n",
       "      <th>title</th>\n",
       "      <th>director</th>\n",
       "      <th>cast</th>\n",
       "      <th>country</th>\n",
       "      <th>date_added</th>\n",
       "      <th>release_year</th>\n",
       "      <th>rating</th>\n",
       "      <th>duration</th>\n",
       "      <th>listed_in</th>\n",
       "      <th>description</th>\n",
       "      <th>added_in_year</th>\n",
       "      <th>added_in_day</th>\n",
       "    </tr>\n",
       "  </thead>\n",
       "  <tbody>\n",
       "    <tr>\n",
       "      <th>1</th>\n",
       "      <td>s2</td>\n",
       "      <td>TV Show</td>\n",
       "      <td>Blood &amp; Water</td>\n",
       "      <td>NaN</td>\n",
       "      <td>Ama Qamata, Khosi Ngema, Gail Mabalane, Thaban...</td>\n",
       "      <td>South Africa</td>\n",
       "      <td>2021-09-24</td>\n",
       "      <td>2021</td>\n",
       "      <td>TV-MA</td>\n",
       "      <td>2 Seasons</td>\n",
       "      <td>International TV Shows, TV Dramas, TV Mysteries</td>\n",
       "      <td>After crossing paths at a party, a Cape Town t...</td>\n",
       "      <td>2021.0</td>\n",
       "      <td>24.0</td>\n",
       "    </tr>\n",
       "    <tr>\n",
       "      <th>2</th>\n",
       "      <td>s3</td>\n",
       "      <td>TV Show</td>\n",
       "      <td>Ganglands</td>\n",
       "      <td>Julien Leclercq</td>\n",
       "      <td>Sami Bouajila, Tracy Gotoas, Samuel Jouy, Nabi...</td>\n",
       "      <td>NaN</td>\n",
       "      <td>2021-09-24</td>\n",
       "      <td>2021</td>\n",
       "      <td>TV-MA</td>\n",
       "      <td>1 Season</td>\n",
       "      <td>Crime TV Shows, International TV Shows, TV Act...</td>\n",
       "      <td>To protect his family from a powerful drug lor...</td>\n",
       "      <td>2021.0</td>\n",
       "      <td>24.0</td>\n",
       "    </tr>\n",
       "  </tbody>\n",
       "</table>\n",
       "</div>"
      ],
      "text/plain": [
       "  show_id     type          title         director  \\\n",
       "1      s2  TV Show  Blood & Water              NaN   \n",
       "2      s3  TV Show      Ganglands  Julien Leclercq   \n",
       "\n",
       "                                                cast       country date_added  \\\n",
       "1  Ama Qamata, Khosi Ngema, Gail Mabalane, Thaban...  South Africa 2021-09-24   \n",
       "2  Sami Bouajila, Tracy Gotoas, Samuel Jouy, Nabi...           NaN 2021-09-24   \n",
       "\n",
       "   release_year rating   duration  \\\n",
       "1          2021  TV-MA  2 Seasons   \n",
       "2          2021  TV-MA   1 Season   \n",
       "\n",
       "                                           listed_in  \\\n",
       "1    International TV Shows, TV Dramas, TV Mysteries   \n",
       "2  Crime TV Shows, International TV Shows, TV Act...   \n",
       "\n",
       "                                         description  added_in_year  \\\n",
       "1  After crossing paths at a party, a Cape Town t...         2021.0   \n",
       "2  To protect his family from a powerful drug lor...         2021.0   \n",
       "\n",
       "   added_in_day  \n",
       "1          24.0  \n",
       "2          24.0  "
      ]
     },
     "execution_count": 15,
     "metadata": {},
     "output_type": "execute_result"
    }
   ],
   "source": [
    "tv_show= data[data.type=='TV Show']\n",
    "tv_show.head(2)"
   ]
  },
  {
   "cell_type": "code",
   "execution_count": 16,
   "id": "c250f509",
   "metadata": {
    "execution": {
     "iopub.execute_input": "2022-07-21T14:28:25.971215Z",
     "iopub.status.busy": "2022-07-21T14:28:25.970789Z",
     "iopub.status.idle": "2022-07-21T14:28:25.985149Z",
     "shell.execute_reply": "2022-07-21T14:28:25.984070Z"
    },
    "papermill": {
     "duration": 0.033514,
     "end_time": "2022-07-21T14:28:25.987424",
     "exception": false,
     "start_time": "2022-07-21T14:28:25.953910",
     "status": "completed"
    },
    "tags": []
   },
   "outputs": [
    {
     "data": {
      "text/plain": [
       "show_id             0\n",
       "type                0\n",
       "title               0\n",
       "director         2634\n",
       "cast              825\n",
       "country           831\n",
       "date_added         10\n",
       "release_year        0\n",
       "rating              4\n",
       "duration            3\n",
       "listed_in           0\n",
       "description         0\n",
       "added_in_year      10\n",
       "added_in_day       10\n",
       "dtype: int64"
      ]
     },
     "execution_count": 16,
     "metadata": {},
     "output_type": "execute_result"
    }
   ],
   "source": [
    "data.isnull().sum()"
   ]
  },
  {
   "cell_type": "code",
   "execution_count": 17,
   "id": "fb4c4961",
   "metadata": {
    "execution": {
     "iopub.execute_input": "2022-07-21T14:28:26.019908Z",
     "iopub.status.busy": "2022-07-21T14:28:26.019137Z",
     "iopub.status.idle": "2022-07-21T14:28:26.033327Z",
     "shell.execute_reply": "2022-07-21T14:28:26.032142Z"
    },
    "papermill": {
     "duration": 0.033152,
     "end_time": "2022-07-21T14:28:26.035795",
     "exception": false,
     "start_time": "2022-07-21T14:28:26.002643",
     "status": "completed"
    },
    "tags": []
   },
   "outputs": [
    {
     "data": {
      "text/plain": [
       "4327"
      ]
     },
     "execution_count": 17,
     "metadata": {},
     "output_type": "execute_result"
    }
   ],
   "source": [
    "data.isnull().sum().sum()"
   ]
  },
  {
   "cell_type": "markdown",
   "id": "3d14488b",
   "metadata": {
    "papermill": {
     "duration": 0.015682,
     "end_time": "2022-07-21T14:28:26.067499",
     "exception": false,
     "start_time": "2022-07-21T14:28:26.051817",
     "status": "completed"
    },
    "tags": []
   },
   "source": [
    "# Data Cleaning "
   ]
  },
  {
   "cell_type": "code",
   "execution_count": 18,
   "id": "4d71b421",
   "metadata": {
    "execution": {
     "iopub.execute_input": "2022-07-21T14:28:26.100929Z",
     "iopub.status.busy": "2022-07-21T14:28:26.100155Z",
     "iopub.status.idle": "2022-07-21T14:28:26.352241Z",
     "shell.execute_reply": "2022-07-21T14:28:26.351037Z"
    },
    "papermill": {
     "duration": 0.271355,
     "end_time": "2022-07-21T14:28:26.354653",
     "exception": false,
     "start_time": "2022-07-21T14:28:26.083298",
     "status": "completed"
    },
    "tags": []
   },
   "outputs": [
    {
     "data": {
      "text/plain": [
       "<AxesSubplot:>"
      ]
     },
     "execution_count": 18,
     "metadata": {},
     "output_type": "execute_result"
    },
    {
     "data": {
      "image/png": "[encoded data removed]",
      "text/plain": [
       "<Figure size 432x288 with 1 Axes>"
      ]
     },
     "metadata": {
      "needs_background": "light"
     },
     "output_type": "display_data"
    }
   ],
   "source": [
    "data.isnull().sum().plot(kind=\"bar\")"
   ]
  },
  {
   "cell_type": "code",
   "execution_count": 19,
   "id": "1e356ebf",
   "metadata": {
    "execution": {
     "iopub.execute_input": "2022-07-21T14:28:26.389049Z",
     "iopub.status.busy": "2022-07-21T14:28:26.387156Z",
     "iopub.status.idle": "2022-07-21T14:28:26.395574Z",
     "shell.execute_reply": "2022-07-21T14:28:26.394771Z"
    },
    "papermill": {
     "duration": 0.027838,
     "end_time": "2022-07-21T14:28:26.397972",
     "exception": false,
     "start_time": "2022-07-21T14:28:26.370134",
     "status": "completed"
    },
    "tags": []
   },
   "outputs": [],
   "source": [
    "data=data.drop(\"description\",axis=1)\n"
   ]
  },
  {
   "cell_type": "code",
   "execution_count": 20,
   "id": "8df16553",
   "metadata": {
    "execution": {
     "iopub.execute_input": "2022-07-21T14:28:26.431490Z",
     "iopub.status.busy": "2022-07-21T14:28:26.430689Z",
     "iopub.status.idle": "2022-07-21T14:28:26.483029Z",
     "shell.execute_reply": "2022-07-21T14:28:26.481767Z"
    },
    "papermill": {
     "duration": 0.071752,
     "end_time": "2022-07-21T14:28:26.485201",
     "exception": false,
     "start_time": "2022-07-21T14:28:26.413449",
     "status": "completed"
    },
    "tags": []
   },
   "outputs": [
    {
     "data": {
      "text/plain": [
       "show_id           0\n",
       "type              0\n",
       "title             0\n",
       "director          0\n",
       "cast              0\n",
       "country           0\n",
       "date_added        0\n",
       "release_year      0\n",
       "rating            0\n",
       "duration          3\n",
       "listed_in         0\n",
       "added_in_year    10\n",
       "added_in_day     10\n",
       "dtype: int64"
      ]
     },
     "execution_count": 20,
     "metadata": {},
     "output_type": "execute_result"
    }
   ],
   "source": [
    "data[\"director\"].fillna(\"missing\",inplace=True)\n",
    "data[\"cast\"].fillna(\"missing_cast\",inplace=True)\n",
    "data[\"country\"].fillna(\"missig_county\",inplace=True)\n",
    "data[\"date_added\"].fillna(\"missing_date\",inplace=True)\n",
    "data[\"rating\"].fillna(\"missing rating\",inplace=True)\n",
    "\n",
    "data.isnull().sum()"
   ]
  },
  {
   "cell_type": "code",
   "execution_count": 21,
   "id": "38c53079",
   "metadata": {
    "execution": {
     "iopub.execute_input": "2022-07-21T14:28:26.518437Z",
     "iopub.status.busy": "2022-07-21T14:28:26.517654Z",
     "iopub.status.idle": "2022-07-21T14:28:26.538087Z",
     "shell.execute_reply": "2022-07-21T14:28:26.536892Z"
    },
    "papermill": {
     "duration": 0.039379,
     "end_time": "2022-07-21T14:28:26.540201",
     "exception": false,
     "start_time": "2022-07-21T14:28:26.500822",
     "status": "completed"
    },
    "tags": []
   },
   "outputs": [
    {
     "data": {
      "text/html": [
       "<div>\n",
       "<style scoped>\n",
       "    .dataframe tbody tr th:only-of-type {\n",
       "        vertical-align: middle;\n",
       "    }\n",
       "\n",
       "    .dataframe tbody tr th {\n",
       "        vertical-align: top;\n",
       "    }\n",
       "\n",
       "    .dataframe thead th {\n",
       "        text-align: right;\n",
       "    }\n",
       "</style>\n",
       "<table border=\"1\" class=\"dataframe\">\n",
       "  <thead>\n",
       "    <tr style=\"text-align: right;\">\n",
       "      <th></th>\n",
       "      <th>show_id</th>\n",
       "      <th>type</th>\n",
       "      <th>title</th>\n",
       "      <th>director</th>\n",
       "      <th>cast</th>\n",
       "      <th>country</th>\n",
       "      <th>date_added</th>\n",
       "      <th>release_year</th>\n",
       "      <th>rating</th>\n",
       "      <th>duration</th>\n",
       "      <th>listed_in</th>\n",
       "      <th>added_in_year</th>\n",
       "      <th>added_in_day</th>\n",
       "    </tr>\n",
       "  </thead>\n",
       "  <tbody>\n",
       "    <tr>\n",
       "      <th>5541</th>\n",
       "      <td>s5542</td>\n",
       "      <td>Movie</td>\n",
       "      <td>Louis C.K. 2017</td>\n",
       "      <td>Louis C.K.</td>\n",
       "      <td>Louis C.K.</td>\n",
       "      <td>United States</td>\n",
       "      <td>2017-04-04 00:00:00</td>\n",
       "      <td>2017</td>\n",
       "      <td>74 min</td>\n",
       "      <td>NaN</td>\n",
       "      <td>Movies</td>\n",
       "      <td>2017.0</td>\n",
       "      <td>4.0</td>\n",
       "    </tr>\n",
       "    <tr>\n",
       "      <th>5794</th>\n",
       "      <td>s5795</td>\n",
       "      <td>Movie</td>\n",
       "      <td>Louis C.K.: Hilarious</td>\n",
       "      <td>Louis C.K.</td>\n",
       "      <td>Louis C.K.</td>\n",
       "      <td>United States</td>\n",
       "      <td>2016-09-16 00:00:00</td>\n",
       "      <td>2010</td>\n",
       "      <td>84 min</td>\n",
       "      <td>NaN</td>\n",
       "      <td>Movies</td>\n",
       "      <td>2016.0</td>\n",
       "      <td>16.0</td>\n",
       "    </tr>\n",
       "    <tr>\n",
       "      <th>5813</th>\n",
       "      <td>s5814</td>\n",
       "      <td>Movie</td>\n",
       "      <td>Louis C.K.: Live at the Comedy Store</td>\n",
       "      <td>Louis C.K.</td>\n",
       "      <td>Louis C.K.</td>\n",
       "      <td>United States</td>\n",
       "      <td>2016-08-15 00:00:00</td>\n",
       "      <td>2015</td>\n",
       "      <td>66 min</td>\n",
       "      <td>NaN</td>\n",
       "      <td>Movies</td>\n",
       "      <td>2016.0</td>\n",
       "      <td>15.0</td>\n",
       "    </tr>\n",
       "  </tbody>\n",
       "</table>\n",
       "</div>"
      ],
      "text/plain": [
       "     show_id   type                                 title    director  \\\n",
       "5541   s5542  Movie                       Louis C.K. 2017  Louis C.K.   \n",
       "5794   s5795  Movie                 Louis C.K.: Hilarious  Louis C.K.   \n",
       "5813   s5814  Movie  Louis C.K.: Live at the Comedy Store  Louis C.K.   \n",
       "\n",
       "            cast        country           date_added  release_year  rating  \\\n",
       "5541  Louis C.K.  United States  2017-04-04 00:00:00          2017  74 min   \n",
       "5794  Louis C.K.  United States  2016-09-16 00:00:00          2010  84 min   \n",
       "5813  Louis C.K.  United States  2016-08-15 00:00:00          2015  66 min   \n",
       "\n",
       "     duration listed_in  added_in_year  added_in_day  \n",
       "5541      NaN    Movies         2017.0           4.0  \n",
       "5794      NaN    Movies         2016.0          16.0  \n",
       "5813      NaN    Movies         2016.0          15.0  "
      ]
     },
     "execution_count": 21,
     "metadata": {},
     "output_type": "execute_result"
    }
   ],
   "source": [
    "a=data['duration'].isnull()\n",
    "data[a]"
   ]
  },
  {
   "cell_type": "markdown",
   "id": "4841b941",
   "metadata": {
    "papermill": {
     "duration": 0.015792,
     "end_time": "2022-07-21T14:28:26.572646",
     "exception": false,
     "start_time": "2022-07-21T14:28:26.556854",
     "status": "completed"
    },
    "tags": []
   },
   "source": [
    "we can clearly see its an error while addding data \n",
    "duration input has been replaced by rating ,so now we need to replace it by duration again"
   ]
  },
  {
   "cell_type": "code",
   "execution_count": 22,
   "id": "4b42156a",
   "metadata": {
    "execution": {
     "iopub.execute_input": "2022-07-21T14:28:26.606763Z",
     "iopub.status.busy": "2022-07-21T14:28:26.606352Z",
     "iopub.status.idle": "2022-07-21T14:28:26.625516Z",
     "shell.execute_reply": "2022-07-21T14:28:26.624513Z"
    },
    "papermill": {
     "duration": 0.038394,
     "end_time": "2022-07-21T14:28:26.627541",
     "exception": false,
     "start_time": "2022-07-21T14:28:26.589147",
     "status": "completed"
    },
    "tags": []
   },
   "outputs": [
    {
     "data": {
      "text/html": [
       "<div>\n",
       "<style scoped>\n",
       "    .dataframe tbody tr th:only-of-type {\n",
       "        vertical-align: middle;\n",
       "    }\n",
       "\n",
       "    .dataframe tbody tr th {\n",
       "        vertical-align: top;\n",
       "    }\n",
       "\n",
       "    .dataframe thead th {\n",
       "        text-align: right;\n",
       "    }\n",
       "</style>\n",
       "<table border=\"1\" class=\"dataframe\">\n",
       "  <thead>\n",
       "    <tr style=\"text-align: right;\">\n",
       "      <th></th>\n",
       "      <th>show_id</th>\n",
       "      <th>type</th>\n",
       "      <th>title</th>\n",
       "      <th>director</th>\n",
       "      <th>cast</th>\n",
       "      <th>country</th>\n",
       "      <th>date_added</th>\n",
       "      <th>release_year</th>\n",
       "      <th>rating</th>\n",
       "      <th>duration</th>\n",
       "      <th>listed_in</th>\n",
       "      <th>added_in_year</th>\n",
       "      <th>added_in_day</th>\n",
       "    </tr>\n",
       "  </thead>\n",
       "  <tbody>\n",
       "    <tr>\n",
       "      <th>5541</th>\n",
       "      <td>s5542</td>\n",
       "      <td>Movie</td>\n",
       "      <td>Louis C.K. 2017</td>\n",
       "      <td>Louis C.K.</td>\n",
       "      <td>Louis C.K.</td>\n",
       "      <td>United States</td>\n",
       "      <td>2017-04-04 00:00:00</td>\n",
       "      <td>2017</td>\n",
       "      <td>74 min</td>\n",
       "      <td>NaN</td>\n",
       "      <td>Movies</td>\n",
       "      <td>2017.0</td>\n",
       "      <td>4.0</td>\n",
       "    </tr>\n",
       "    <tr>\n",
       "      <th>5794</th>\n",
       "      <td>s5795</td>\n",
       "      <td>Movie</td>\n",
       "      <td>Louis C.K.: Hilarious</td>\n",
       "      <td>Louis C.K.</td>\n",
       "      <td>Louis C.K.</td>\n",
       "      <td>United States</td>\n",
       "      <td>2016-09-16 00:00:00</td>\n",
       "      <td>2010</td>\n",
       "      <td>84 min</td>\n",
       "      <td>NaN</td>\n",
       "      <td>Movies</td>\n",
       "      <td>2016.0</td>\n",
       "      <td>16.0</td>\n",
       "    </tr>\n",
       "    <tr>\n",
       "      <th>5813</th>\n",
       "      <td>s5814</td>\n",
       "      <td>Movie</td>\n",
       "      <td>Louis C.K.: Live at the Comedy Store</td>\n",
       "      <td>Louis C.K.</td>\n",
       "      <td>Louis C.K.</td>\n",
       "      <td>United States</td>\n",
       "      <td>2016-08-15 00:00:00</td>\n",
       "      <td>2015</td>\n",
       "      <td>66 min</td>\n",
       "      <td>NaN</td>\n",
       "      <td>Movies</td>\n",
       "      <td>2016.0</td>\n",
       "      <td>15.0</td>\n",
       "    </tr>\n",
       "  </tbody>\n",
       "</table>\n",
       "</div>"
      ],
      "text/plain": [
       "     show_id   type                                 title    director  \\\n",
       "5541   s5542  Movie                       Louis C.K. 2017  Louis C.K.   \n",
       "5794   s5795  Movie                 Louis C.K.: Hilarious  Louis C.K.   \n",
       "5813   s5814  Movie  Louis C.K.: Live at the Comedy Store  Louis C.K.   \n",
       "\n",
       "            cast        country           date_added  release_year  rating  \\\n",
       "5541  Louis C.K.  United States  2017-04-04 00:00:00          2017  74 min   \n",
       "5794  Louis C.K.  United States  2016-09-16 00:00:00          2010  84 min   \n",
       "5813  Louis C.K.  United States  2016-08-15 00:00:00          2015  66 min   \n",
       "\n",
       "     duration listed_in  added_in_year  added_in_day  \n",
       "5541      NaN    Movies         2017.0           4.0  \n",
       "5794      NaN    Movies         2016.0          16.0  \n",
       "5813      NaN    Movies         2016.0          15.0  "
      ]
     },
     "execution_count": 22,
     "metadata": {},
     "output_type": "execute_result"
    }
   ],
   "source": [
    "a=data['director']=='Louis C.K.'\n",
    "data[a].head()"
   ]
  },
  {
   "cell_type": "code",
   "execution_count": 23,
   "id": "2745c88c",
   "metadata": {
    "execution": {
     "iopub.execute_input": "2022-07-21T14:28:26.660997Z",
     "iopub.status.busy": "2022-07-21T14:28:26.660571Z",
     "iopub.status.idle": "2022-07-21T14:28:26.681444Z",
     "shell.execute_reply": "2022-07-21T14:28:26.680235Z"
    },
    "papermill": {
     "duration": 0.040678,
     "end_time": "2022-07-21T14:28:26.683850",
     "exception": false,
     "start_time": "2022-07-21T14:28:26.643172",
     "status": "completed"
    },
    "tags": []
   },
   "outputs": [
    {
     "data": {
      "text/html": [
       "<div>\n",
       "<style scoped>\n",
       "    .dataframe tbody tr th:only-of-type {\n",
       "        vertical-align: middle;\n",
       "    }\n",
       "\n",
       "    .dataframe tbody tr th {\n",
       "        vertical-align: top;\n",
       "    }\n",
       "\n",
       "    .dataframe thead th {\n",
       "        text-align: right;\n",
       "    }\n",
       "</style>\n",
       "<table border=\"1\" class=\"dataframe\">\n",
       "  <thead>\n",
       "    <tr style=\"text-align: right;\">\n",
       "      <th></th>\n",
       "      <th>show_id</th>\n",
       "      <th>type</th>\n",
       "      <th>title</th>\n",
       "      <th>director</th>\n",
       "      <th>cast</th>\n",
       "      <th>country</th>\n",
       "      <th>date_added</th>\n",
       "      <th>release_year</th>\n",
       "      <th>rating</th>\n",
       "      <th>duration</th>\n",
       "      <th>listed_in</th>\n",
       "      <th>added_in_year</th>\n",
       "      <th>added_in_day</th>\n",
       "    </tr>\n",
       "  </thead>\n",
       "  <tbody>\n",
       "    <tr>\n",
       "      <th>5541</th>\n",
       "      <td>s5542</td>\n",
       "      <td>Movie</td>\n",
       "      <td>Louis C.K. 2017</td>\n",
       "      <td>Louis C.K.</td>\n",
       "      <td>Louis C.K.</td>\n",
       "      <td>United States</td>\n",
       "      <td>2017-04-04 00:00:00</td>\n",
       "      <td>2017</td>\n",
       "      <td>74 min</td>\n",
       "      <td>74 min</td>\n",
       "      <td>Movies</td>\n",
       "      <td>2017.0</td>\n",
       "      <td>4.0</td>\n",
       "    </tr>\n",
       "    <tr>\n",
       "      <th>5794</th>\n",
       "      <td>s5795</td>\n",
       "      <td>Movie</td>\n",
       "      <td>Louis C.K.: Hilarious</td>\n",
       "      <td>Louis C.K.</td>\n",
       "      <td>Louis C.K.</td>\n",
       "      <td>United States</td>\n",
       "      <td>2016-09-16 00:00:00</td>\n",
       "      <td>2010</td>\n",
       "      <td>84 min</td>\n",
       "      <td>84 min</td>\n",
       "      <td>Movies</td>\n",
       "      <td>2016.0</td>\n",
       "      <td>16.0</td>\n",
       "    </tr>\n",
       "    <tr>\n",
       "      <th>5813</th>\n",
       "      <td>s5814</td>\n",
       "      <td>Movie</td>\n",
       "      <td>Louis C.K.: Live at the Comedy Store</td>\n",
       "      <td>Louis C.K.</td>\n",
       "      <td>Louis C.K.</td>\n",
       "      <td>United States</td>\n",
       "      <td>2016-08-15 00:00:00</td>\n",
       "      <td>2015</td>\n",
       "      <td>66 min</td>\n",
       "      <td>66 min</td>\n",
       "      <td>Movies</td>\n",
       "      <td>2016.0</td>\n",
       "      <td>15.0</td>\n",
       "    </tr>\n",
       "  </tbody>\n",
       "</table>\n",
       "</div>"
      ],
      "text/plain": [
       "     show_id   type                                 title    director  \\\n",
       "5541   s5542  Movie                       Louis C.K. 2017  Louis C.K.   \n",
       "5794   s5795  Movie                 Louis C.K.: Hilarious  Louis C.K.   \n",
       "5813   s5814  Movie  Louis C.K.: Live at the Comedy Store  Louis C.K.   \n",
       "\n",
       "            cast        country           date_added  release_year  rating  \\\n",
       "5541  Louis C.K.  United States  2017-04-04 00:00:00          2017  74 min   \n",
       "5794  Louis C.K.  United States  2016-09-16 00:00:00          2010  84 min   \n",
       "5813  Louis C.K.  United States  2016-08-15 00:00:00          2015  66 min   \n",
       "\n",
       "     duration listed_in  added_in_year  added_in_day  \n",
       "5541   74 min    Movies         2017.0           4.0  \n",
       "5794   84 min    Movies         2016.0          16.0  \n",
       "5813   66 min    Movies         2016.0          15.0  "
      ]
     },
     "execution_count": 23,
     "metadata": {},
     "output_type": "execute_result"
    }
   ],
   "source": [
    "data.loc[data['director']=='Louis C.K.','duration']=data['rating']\n",
    "data[data['director']=='Louis C.K.'].head(7)"
   ]
  },
  {
   "cell_type": "code",
   "execution_count": 24,
   "id": "6a28de21",
   "metadata": {
    "execution": {
     "iopub.execute_input": "2022-07-21T14:28:26.717660Z",
     "iopub.status.busy": "2022-07-21T14:28:26.717096Z",
     "iopub.status.idle": "2022-07-21T14:28:26.737972Z",
     "shell.execute_reply": "2022-07-21T14:28:26.736783Z"
    },
    "papermill": {
     "duration": 0.040299,
     "end_time": "2022-07-21T14:28:26.740176",
     "exception": false,
     "start_time": "2022-07-21T14:28:26.699877",
     "status": "completed"
    },
    "tags": []
   },
   "outputs": [
    {
     "data": {
      "text/html": [
       "<div>\n",
       "<style scoped>\n",
       "    .dataframe tbody tr th:only-of-type {\n",
       "        vertical-align: middle;\n",
       "    }\n",
       "\n",
       "    .dataframe tbody tr th {\n",
       "        vertical-align: top;\n",
       "    }\n",
       "\n",
       "    .dataframe thead th {\n",
       "        text-align: right;\n",
       "    }\n",
       "</style>\n",
       "<table border=\"1\" class=\"dataframe\">\n",
       "  <thead>\n",
       "    <tr style=\"text-align: right;\">\n",
       "      <th></th>\n",
       "      <th>show_id</th>\n",
       "      <th>type</th>\n",
       "      <th>title</th>\n",
       "      <th>director</th>\n",
       "      <th>cast</th>\n",
       "      <th>country</th>\n",
       "      <th>date_added</th>\n",
       "      <th>release_year</th>\n",
       "      <th>rating</th>\n",
       "      <th>duration</th>\n",
       "      <th>listed_in</th>\n",
       "      <th>added_in_year</th>\n",
       "      <th>added_in_day</th>\n",
       "    </tr>\n",
       "  </thead>\n",
       "  <tbody>\n",
       "    <tr>\n",
       "      <th>5541</th>\n",
       "      <td>s5542</td>\n",
       "      <td>Movie</td>\n",
       "      <td>Louis C.K. 2017</td>\n",
       "      <td>Louis C.K.</td>\n",
       "      <td>Louis C.K.</td>\n",
       "      <td>United States</td>\n",
       "      <td>2017-04-04 00:00:00</td>\n",
       "      <td>2017</td>\n",
       "      <td>missing</td>\n",
       "      <td>74 min</td>\n",
       "      <td>Movies</td>\n",
       "      <td>2017.0</td>\n",
       "      <td>4.0</td>\n",
       "    </tr>\n",
       "    <tr>\n",
       "      <th>5794</th>\n",
       "      <td>s5795</td>\n",
       "      <td>Movie</td>\n",
       "      <td>Louis C.K.: Hilarious</td>\n",
       "      <td>Louis C.K.</td>\n",
       "      <td>Louis C.K.</td>\n",
       "      <td>United States</td>\n",
       "      <td>2016-09-16 00:00:00</td>\n",
       "      <td>2010</td>\n",
       "      <td>missing</td>\n",
       "      <td>84 min</td>\n",
       "      <td>Movies</td>\n",
       "      <td>2016.0</td>\n",
       "      <td>16.0</td>\n",
       "    </tr>\n",
       "    <tr>\n",
       "      <th>5813</th>\n",
       "      <td>s5814</td>\n",
       "      <td>Movie</td>\n",
       "      <td>Louis C.K.: Live at the Comedy Store</td>\n",
       "      <td>Louis C.K.</td>\n",
       "      <td>Louis C.K.</td>\n",
       "      <td>United States</td>\n",
       "      <td>2016-08-15 00:00:00</td>\n",
       "      <td>2015</td>\n",
       "      <td>missing</td>\n",
       "      <td>66 min</td>\n",
       "      <td>Movies</td>\n",
       "      <td>2016.0</td>\n",
       "      <td>15.0</td>\n",
       "    </tr>\n",
       "  </tbody>\n",
       "</table>\n",
       "</div>"
      ],
      "text/plain": [
       "     show_id   type                                 title    director  \\\n",
       "5541   s5542  Movie                       Louis C.K. 2017  Louis C.K.   \n",
       "5794   s5795  Movie                 Louis C.K.: Hilarious  Louis C.K.   \n",
       "5813   s5814  Movie  Louis C.K.: Live at the Comedy Store  Louis C.K.   \n",
       "\n",
       "            cast        country           date_added  release_year   rating  \\\n",
       "5541  Louis C.K.  United States  2017-04-04 00:00:00          2017  missing   \n",
       "5794  Louis C.K.  United States  2016-09-16 00:00:00          2010  missing   \n",
       "5813  Louis C.K.  United States  2016-08-15 00:00:00          2015  missing   \n",
       "\n",
       "     duration listed_in  added_in_year  added_in_day  \n",
       "5541   74 min    Movies         2017.0           4.0  \n",
       "5794   84 min    Movies         2016.0          16.0  \n",
       "5813   66 min    Movies         2016.0          15.0  "
      ]
     },
     "execution_count": 24,
     "metadata": {},
     "output_type": "execute_result"
    }
   ],
   "source": [
    "data.loc[data['director']=='Louis C.K.','rating']='missing'\n",
    "data[data['director']=='Louis C.K.'].head(7)"
   ]
  },
  {
   "cell_type": "markdown",
   "id": "2ba5f20a",
   "metadata": {
    "papermill": {
     "duration": 0.015742,
     "end_time": "2022-07-21T14:28:26.772092",
     "exception": false,
     "start_time": "2022-07-21T14:28:26.756350",
     "status": "completed"
    },
    "tags": []
   },
   "source": [
    "# Exploratory Analysis and Visualization"
   ]
  },
  {
   "cell_type": "code",
   "execution_count": 25,
   "id": "678196a7",
   "metadata": {
    "execution": {
     "iopub.execute_input": "2022-07-21T14:28:26.806308Z",
     "iopub.status.busy": "2022-07-21T14:28:26.805535Z",
     "iopub.status.idle": "2022-07-21T14:28:26.812899Z",
     "shell.execute_reply": "2022-07-21T14:28:26.812071Z"
    },
    "papermill": {
     "duration": 0.026794,
     "end_time": "2022-07-21T14:28:26.814919",
     "exception": false,
     "start_time": "2022-07-21T14:28:26.788125",
     "status": "completed"
    },
    "tags": []
   },
   "outputs": [
    {
     "data": {
      "text/plain": [
       "(1925, 2021)"
      ]
     },
     "execution_count": 25,
     "metadata": {},
     "output_type": "execute_result"
    }
   ],
   "source": [
    "data[\"release_year\"].min() , data[\"release_year\"].max()"
   ]
  },
  {
   "cell_type": "markdown",
   "id": "19bd9e3f",
   "metadata": {
    "papermill": {
     "duration": 0.01615,
     "end_time": "2022-07-21T14:28:26.847182",
     "exception": false,
     "start_time": "2022-07-21T14:28:26.831032",
     "status": "completed"
    },
    "tags": []
   },
   "source": [
    "# Release Year"
   ]
  },
  {
   "cell_type": "code",
   "execution_count": 26,
   "id": "63f09ab7",
   "metadata": {
    "execution": {
     "iopub.execute_input": "2022-07-21T14:28:26.883615Z",
     "iopub.status.busy": "2022-07-21T14:28:26.881727Z",
     "iopub.status.idle": "2022-07-21T14:28:26.892444Z",
     "shell.execute_reply": "2022-07-21T14:28:26.891631Z"
    },
    "papermill": {
     "duration": 0.030987,
     "end_time": "2022-07-21T14:28:26.894554",
     "exception": false,
     "start_time": "2022-07-21T14:28:26.863567",
     "status": "completed"
    },
    "tags": []
   },
   "outputs": [
    {
     "data": {
      "text/plain": [
       "2018    1147\n",
       "2017    1032\n",
       "2019    1030\n",
       "2020     953\n",
       "2016     902\n",
       "        ... \n",
       "1959       1\n",
       "1925       1\n",
       "1961       1\n",
       "1947       1\n",
       "1966       1\n",
       "Name: release_year, Length: 74, dtype: int64"
      ]
     },
     "execution_count": 26,
     "metadata": {},
     "output_type": "execute_result"
    }
   ],
   "source": [
    "data[\"release_year\"].value_counts()"
   ]
  },
  {
   "cell_type": "code",
   "execution_count": 27,
   "id": "45c45abc",
   "metadata": {
    "execution": {
     "iopub.execute_input": "2022-07-21T14:28:26.931240Z",
     "iopub.status.busy": "2022-07-21T14:28:26.930005Z",
     "iopub.status.idle": "2022-07-21T14:28:27.090443Z",
     "shell.execute_reply": "2022-07-21T14:28:27.089349Z"
    },
    "papermill": {
     "duration": 0.181306,
     "end_time": "2022-07-21T14:28:27.092818",
     "exception": false,
     "start_time": "2022-07-21T14:28:26.911512",
     "status": "completed"
    },
    "tags": []
   },
   "outputs": [
    {
     "data": {
      "image/png": "[encoded data removed]",
      "text/plain": [
       "<Figure size 1008x432 with 1 Axes>"
      ]
     },
     "metadata": {
      "needs_background": "light"
     },
     "output_type": "display_data"
    }
   ],
   "source": [
    "plt.figure(figsize=(14,6))\n",
    "a=data[\"release_year\"].value_counts().sort_values(ascending=False).index[:10]\n",
    "plt.hist(data.release_year,bins=20,histtype='bar',color='yellow',edgecolor = \"black\")\n",
    "plt.xlabel('release year')\n",
    "plt.ylabel('count')\n",
    "#plt.legend('type')\n",
    "plt.show()"
   ]
  },
  {
   "cell_type": "code",
   "execution_count": 28,
   "id": "8a73f5cc",
   "metadata": {
    "execution": {
     "iopub.execute_input": "2022-07-21T14:28:27.128782Z",
     "iopub.status.busy": "2022-07-21T14:28:27.127794Z",
     "iopub.status.idle": "2022-07-21T14:28:27.147431Z",
     "shell.execute_reply": "2022-07-21T14:28:27.146569Z"
    },
    "papermill": {
     "duration": 0.039999,
     "end_time": "2022-07-21T14:28:27.149392",
     "exception": false,
     "start_time": "2022-07-21T14:28:27.109393",
     "status": "completed"
    },
    "tags": []
   },
   "outputs": [
    {
     "data": {
      "text/html": [
       "<div>\n",
       "<style scoped>\n",
       "    .dataframe tbody tr th:only-of-type {\n",
       "        vertical-align: middle;\n",
       "    }\n",
       "\n",
       "    .dataframe tbody tr th {\n",
       "        vertical-align: top;\n",
       "    }\n",
       "\n",
       "    .dataframe thead th {\n",
       "        text-align: right;\n",
       "    }\n",
       "</style>\n",
       "<table border=\"1\" class=\"dataframe\">\n",
       "  <thead>\n",
       "    <tr style=\"text-align: right;\">\n",
       "      <th></th>\n",
       "      <th>show_id</th>\n",
       "      <th>type</th>\n",
       "      <th>title</th>\n",
       "      <th>director</th>\n",
       "      <th>cast</th>\n",
       "      <th>country</th>\n",
       "      <th>date_added</th>\n",
       "      <th>release_year</th>\n",
       "      <th>rating</th>\n",
       "      <th>duration</th>\n",
       "      <th>listed_in</th>\n",
       "      <th>added_in_year</th>\n",
       "      <th>added_in_day</th>\n",
       "    </tr>\n",
       "  </thead>\n",
       "  <tbody>\n",
       "    <tr>\n",
       "      <th>0</th>\n",
       "      <td>s1</td>\n",
       "      <td>Movie</td>\n",
       "      <td>Dick Johnson Is Dead</td>\n",
       "      <td>Kirsten Johnson</td>\n",
       "      <td>missing_cast</td>\n",
       "      <td>United States</td>\n",
       "      <td>2021-09-25 00:00:00</td>\n",
       "      <td>2020</td>\n",
       "      <td>PG-13</td>\n",
       "      <td>90 min</td>\n",
       "      <td>Documentaries</td>\n",
       "      <td>2021.0</td>\n",
       "      <td>25.0</td>\n",
       "    </tr>\n",
       "    <tr>\n",
       "      <th>1</th>\n",
       "      <td>s2</td>\n",
       "      <td>TV Show</td>\n",
       "      <td>Blood &amp; Water</td>\n",
       "      <td>missing</td>\n",
       "      <td>Ama Qamata, Khosi Ngema, Gail Mabalane, Thaban...</td>\n",
       "      <td>South Africa</td>\n",
       "      <td>2021-09-24 00:00:00</td>\n",
       "      <td>2021</td>\n",
       "      <td>TV-MA</td>\n",
       "      <td>2 Seasons</td>\n",
       "      <td>International TV Shows, TV Dramas, TV Mysteries</td>\n",
       "      <td>2021.0</td>\n",
       "      <td>24.0</td>\n",
       "    </tr>\n",
       "  </tbody>\n",
       "</table>\n",
       "</div>"
      ],
      "text/plain": [
       "  show_id     type                 title         director  \\\n",
       "0      s1    Movie  Dick Johnson Is Dead  Kirsten Johnson   \n",
       "1      s2  TV Show         Blood & Water          missing   \n",
       "\n",
       "                                                cast        country  \\\n",
       "0                                       missing_cast  United States   \n",
       "1  Ama Qamata, Khosi Ngema, Gail Mabalane, Thaban...   South Africa   \n",
       "\n",
       "            date_added  release_year rating   duration  \\\n",
       "0  2021-09-25 00:00:00          2020  PG-13     90 min   \n",
       "1  2021-09-24 00:00:00          2021  TV-MA  2 Seasons   \n",
       "\n",
       "                                         listed_in  added_in_year  \\\n",
       "0                                    Documentaries         2021.0   \n",
       "1  International TV Shows, TV Dramas, TV Mysteries         2021.0   \n",
       "\n",
       "   added_in_day  \n",
       "0          25.0  \n",
       "1          24.0  "
      ]
     },
     "execution_count": 28,
     "metadata": {},
     "output_type": "execute_result"
    }
   ],
   "source": [
    "data.head(2)"
   ]
  },
  {
   "cell_type": "markdown",
   "id": "239153f3",
   "metadata": {
    "papermill": {
     "duration": 0.017029,
     "end_time": "2022-07-21T14:28:27.183298",
     "exception": false,
     "start_time": "2022-07-21T14:28:27.166269",
     "status": "completed"
    },
    "tags": []
   },
   "source": [
    "Added in year"
   ]
  },
  {
   "cell_type": "code",
   "execution_count": 29,
   "id": "586c0b0b",
   "metadata": {
    "execution": {
     "iopub.execute_input": "2022-07-21T14:28:27.219758Z",
     "iopub.status.busy": "2022-07-21T14:28:27.219001Z",
     "iopub.status.idle": "2022-07-21T14:28:27.440385Z",
     "shell.execute_reply": "2022-07-21T14:28:27.439226Z"
    },
    "papermill": {
     "duration": 0.242189,
     "end_time": "2022-07-21T14:28:27.442670",
     "exception": false,
     "start_time": "2022-07-21T14:28:27.200481",
     "status": "completed"
    },
    "tags": []
   },
   "outputs": [
    {
     "data": {
      "image/png": "[encoded data removed]",
      "text/plain": [
       "<Figure size 936x576 with 1 Axes>"
      ]
     },
     "metadata": {
      "needs_background": "light"
     },
     "output_type": "display_data"
    }
   ],
   "source": [
    "\n",
    "plt.figure(figsize=(13,8))\n",
    "\n",
    "data[\"added_in_year\"].value_counts().sort_values().head(7)\n",
    "sns.countplot(x='added_in_year',hue='type',order=data[\"added_in_year\"].value_counts().index[ :10],data=data)\n",
    "plt.xlabel('added_in_year')\n",
    "plt.ylabel('count')\n",
    "plt.legend('type')\n",
    "plt.show()"
   ]
  },
  {
   "cell_type": "markdown",
   "id": "3f848aef",
   "metadata": {
    "execution": {
     "iopub.execute_input": "2022-07-21T09:58:17.972655Z",
     "iopub.status.busy": "2022-07-21T09:58:17.972289Z",
     "iopub.status.idle": "2022-07-21T09:58:17.980560Z",
     "shell.execute_reply": "2022-07-21T09:58:17.978827Z",
     "shell.execute_reply.started": "2022-07-21T09:58:17.972622Z"
    },
    "papermill": {
     "duration": 0.016728,
     "end_time": "2022-07-21T14:28:27.476580",
     "exception": false,
     "start_time": "2022-07-21T14:28:27.459852",
     "status": "completed"
    },
    "tags": []
   },
   "source": [
    "Day comparision"
   ]
  },
  {
   "cell_type": "code",
   "execution_count": 30,
   "id": "9ff4d783",
   "metadata": {
    "execution": {
     "iopub.execute_input": "2022-07-21T14:28:27.514412Z",
     "iopub.status.busy": "2022-07-21T14:28:27.513610Z",
     "iopub.status.idle": "2022-07-21T14:28:28.034218Z",
     "shell.execute_reply": "2022-07-21T14:28:28.032874Z"
    },
    "papermill": {
     "duration": 0.542367,
     "end_time": "2022-07-21T14:28:28.036544",
     "exception": false,
     "start_time": "2022-07-21T14:28:27.494177",
     "status": "completed"
    },
    "tags": []
   },
   "outputs": [
    {
     "data": {
      "image/png": "[encoded data removed]",
      "text/plain": [
       "<Figure size 936x576 with 1 Axes>"
      ]
     },
     "metadata": {
      "needs_background": "light"
     },
     "output_type": "display_data"
    }
   ],
   "source": [
    "plt.figure(figsize=(13,8))\n",
    "\n",
    "data[\"added_in_day\"].value_counts().sort_values().head(7)\n",
    "sns.countplot(x='added_in_day',hue='type',order=data[\"added_in_day\"].value_counts().index[ :31],data=data)\n",
    "plt.xlabel('day')\n",
    "plt.ylabel('count')\n",
    "plt.legend('type')\n",
    "plt.show()"
   ]
  },
  {
   "cell_type": "code",
   "execution_count": 31,
   "id": "188c75a9",
   "metadata": {
    "execution": {
     "iopub.execute_input": "2022-07-21T14:28:28.087372Z",
     "iopub.status.busy": "2022-07-21T14:28:28.086865Z",
     "iopub.status.idle": "2022-07-21T14:28:28.104719Z",
     "shell.execute_reply": "2022-07-21T14:28:28.103395Z"
    },
    "papermill": {
     "duration": 0.052815,
     "end_time": "2022-07-21T14:28:28.106980",
     "exception": false,
     "start_time": "2022-07-21T14:28:28.054165",
     "status": "completed"
    },
    "tags": []
   },
   "outputs": [
    {
     "data": {
      "text/html": [
       "<div>\n",
       "<style scoped>\n",
       "    .dataframe tbody tr th:only-of-type {\n",
       "        vertical-align: middle;\n",
       "    }\n",
       "\n",
       "    .dataframe tbody tr th {\n",
       "        vertical-align: top;\n",
       "    }\n",
       "\n",
       "    .dataframe thead th {\n",
       "        text-align: right;\n",
       "    }\n",
       "</style>\n",
       "<table border=\"1\" class=\"dataframe\">\n",
       "  <thead>\n",
       "    <tr style=\"text-align: right;\">\n",
       "      <th></th>\n",
       "      <th>show_id</th>\n",
       "      <th>type</th>\n",
       "      <th>title</th>\n",
       "      <th>director</th>\n",
       "      <th>cast</th>\n",
       "      <th>country</th>\n",
       "      <th>date_added</th>\n",
       "      <th>release_year</th>\n",
       "      <th>rating</th>\n",
       "      <th>duration</th>\n",
       "      <th>listed_in</th>\n",
       "      <th>added_in_year</th>\n",
       "      <th>added_in_day</th>\n",
       "    </tr>\n",
       "  </thead>\n",
       "  <tbody>\n",
       "    <tr>\n",
       "      <th>0</th>\n",
       "      <td>s1</td>\n",
       "      <td>Movie</td>\n",
       "      <td>Dick Johnson Is Dead</td>\n",
       "      <td>Kirsten Johnson</td>\n",
       "      <td>missing_cast</td>\n",
       "      <td>United States</td>\n",
       "      <td>2021-09-25 00:00:00</td>\n",
       "      <td>2020</td>\n",
       "      <td>PG-13</td>\n",
       "      <td>90 min</td>\n",
       "      <td>Documentaries</td>\n",
       "      <td>2021.0</td>\n",
       "      <td>25.0</td>\n",
       "    </tr>\n",
       "    <tr>\n",
       "      <th>1</th>\n",
       "      <td>s2</td>\n",
       "      <td>TV Show</td>\n",
       "      <td>Blood &amp; Water</td>\n",
       "      <td>missing</td>\n",
       "      <td>Ama Qamata, Khosi Ngema, Gail Mabalane, Thaban...</td>\n",
       "      <td>South Africa</td>\n",
       "      <td>2021-09-24 00:00:00</td>\n",
       "      <td>2021</td>\n",
       "      <td>TV-MA</td>\n",
       "      <td>2 Seasons</td>\n",
       "      <td>International TV Shows, TV Dramas, TV Mysteries</td>\n",
       "      <td>2021.0</td>\n",
       "      <td>24.0</td>\n",
       "    </tr>\n",
       "  </tbody>\n",
       "</table>\n",
       "</div>"
      ],
      "text/plain": [
       "  show_id     type                 title         director  \\\n",
       "0      s1    Movie  Dick Johnson Is Dead  Kirsten Johnson   \n",
       "1      s2  TV Show         Blood & Water          missing   \n",
       "\n",
       "                                                cast        country  \\\n",
       "0                                       missing_cast  United States   \n",
       "1  Ama Qamata, Khosi Ngema, Gail Mabalane, Thaban...   South Africa   \n",
       "\n",
       "            date_added  release_year rating   duration  \\\n",
       "0  2021-09-25 00:00:00          2020  PG-13     90 min   \n",
       "1  2021-09-24 00:00:00          2021  TV-MA  2 Seasons   \n",
       "\n",
       "                                         listed_in  added_in_year  \\\n",
       "0                                    Documentaries         2021.0   \n",
       "1  International TV Shows, TV Dramas, TV Mysteries         2021.0   \n",
       "\n",
       "   added_in_day  \n",
       "0          25.0  \n",
       "1          24.0  "
      ]
     },
     "execution_count": 31,
     "metadata": {},
     "output_type": "execute_result"
    }
   ],
   "source": [
    "data.head(2)"
   ]
  },
  {
   "cell_type": "code",
   "execution_count": 32,
   "id": "f8625fd6",
   "metadata": {
    "execution": {
     "iopub.execute_input": "2022-07-21T14:28:28.146602Z",
     "iopub.status.busy": "2022-07-21T14:28:28.145868Z",
     "iopub.status.idle": "2022-07-21T14:28:29.246078Z",
     "shell.execute_reply": "2022-07-21T14:28:29.244966Z"
    },
    "papermill": {
     "duration": 1.121867,
     "end_time": "2022-07-21T14:28:29.248399",
     "exception": false,
     "start_time": "2022-07-21T14:28:28.126532",
     "status": "completed"
    },
    "tags": []
   },
   "outputs": [
    {
     "data": {
      "text/html": [
       "        <script type=\"text/javascript\">\n",
       "        window.PlotlyConfig = {MathJaxConfig: 'local'};\n",
       "        if (window.MathJax && window.MathJax.Hub && window.MathJax.Hub.Config) {window.MathJax.Hub.Config({SVG: {font: \"STIX-Web\"}});}\n",
       "        if (typeof require !== 'undefined') {\n",
       "        require.undef(\"plotly\");\n",
       "        requirejs.config({\n",
       "            paths: {\n",
       "                'plotly': ['https://cdn.plot.ly/plotly-2.12.1.min']\n",
       "            }\n",
       "        });\n",
       "        require(['plotly'], function(Plotly) {\n",
       "            window._Plotly = Plotly;\n",
       "        });\n",
       "        }\n",
       "        </script>\n",
       "        "
      ]
     },
     "metadata": {},
     "output_type": "display_data"
    },
    {
     "data": {
      "text/html": [
       "<div>                            <div id=\"b66ab9b3-7d13-48bb-bb10-c2d244ef113b\" class=\"plotly-graph-div\" style=\"height:525px; width:100%;\"></div>            <script type=\"text/javascript\">                require([\"plotly\"], function(Plotly) {                    window.PLOTLYENV=window.PLOTLYENV || {};                                    if (document.getElementById(\"b66ab9b3-7d13-48bb-bb10-c2d244ef113b\")) {                    Plotly.newPlot(                        \"b66ab9b3-7d13-48bb-bb10-c2d244ef113b\",                        [{\"alignmentgroup\":\"True\",\"bingroup\":\"x\",\"hovertemplate\":\"type=Movie<br>release_year=%{x}<br>count=%{y}<extra></extra>\",\"legendgroup\":\"Movie\",\"marker\":{\"color\":\"#636efa\",\"pattern\":{\"shape\":\"\"}},\"name\":\"Movie\",\"offsetgroup\":\"Movie\",\"orientation\":\"v\",\"showlegend\":true,\"x\":[2020,2021,1993,2021,2021,2021,2020,2021,1996,2021,1998,1997,2010,2013,2013,2021,2021,2021,2017,1975,1978,1983,1987,2021,2012,2001,2002,2003,2004,2001,2011,2008,2009,2007,2010,2005,2006,2004,2021,2021,2021,2018,2021,2021,2020,2021,2021,2021,2020,2021,2021,2019,2021,2021,2018,2018,2021,2020,2017,2018,2021,2021,1994,2009,2015,2021,2017,2020,2003,2020,2004,2017,2005,2021,1982,2015,1994,1993,2003,2001,2010,1989,2014,2015,2007,2011,1990,1991,1994,1998,1999,2005,2016,1986,2010,2018,2003,2010,1996,2017,2003,1999,1984,2008,2001,2006,1997,2017,2003,2015,2003,1980,1986,1961,2014,1996,2000,2008,1993,2021,2008,2021,2017,2008,2008,2021,2006,2004,2003,2005,2016,2012,2001,2010,2008,2010,2013,2011,2014,2021,2007,2011,2011,2021,2020,2014,2020,2021,2021,2021,2021,2021,2021,2021,2021,2021,2018,2021,2021,2021,2020,2011,2021,1995,2021,2020,2015,2020,2018,2021,2021,2014,1993,2020,2021,2021,2021,2016,2020,2021,2021,2013,2021,2012,2021,2020,2021,2020,2021,2021,2013,2013,1985,2021,1993,2016,2021,2012,1995,2010,2021,2021,1992,1993,2007,2016,2002,2009,1999,1986,2019,2006,2007,2021,2010,1999,1995,1991,1994,2015,2008,2009,2019,2003,2000,2004,2016,2013,1991,2011,2010,2004,1995,2000,2010,2018,2021,2014,2020,2009,2021,2021,2013,2021,2021,2019,2012,2021,2021,2019,2012,2021,2021,2021,2021,2021,2021,2021,2015,2013,2009,2011,2010,2013,2013,2013,2013,2012,2009,2013,2015,2019,2010,2012,2014,2011,2011,2012,2021,2019,2021,2020,2021,2020,2021,2021,2020,2021,2021,1999,2017,2017,2011,2012,2010,2009,2008,2021,1983,2021,2021,2021,2007,2019,2019,2021,2021,2021,2021,2019,2021,2021,2020,2015,2019,2016,2021,2020,2021,2021,2021,2021,2016,2017,2017,2018,2015,2019,2014,2020,2021,2020,2010,2020,2021,2019,2019,2020,2012,1976,2018,2019,2018,1959,2021,2021,2020,2020,2013,2021,2018,2012,1997,2021,2002,1997,1999,1997,2000,1995,1993,2019,2021,2019,2008,2011,2010,2019,2005,1988,2021,1995,2016,2011,2001,2018,1992,2019,2008,2010,2000,2009,1999,2019,2006,2010,2019,1997,1984,1986,1989,2003,1980,2006,2008,2002,2010,2003,2012,2009,2020,1998,1998,2019,2021,2020,2019,2021,2021,2020,2012,2019,2018,2019,2010,2021,2021,2021,2021,2021,2021,2019,2016,2003,2004,2014,2016,2015,1981,1982,1988,2021,2021,2021,2020,1981,2021,2021,2019,2015,2020,2019,2012,2018,2019,2016,2021,2020,1972,2021,2013,2020,2005,2021,2020,2021,2021,2021,2021,2021,2021,2021,2021,2014,2012,2021,2014,2019,2021,2013,2021,2014,2018,2021,2020,2021,2015,2015,2021,2021,2021,2021,2021,2020,2021,2019,2020,2012,2001,2009,2000,2021,1997,2021,2011,2013,2003,2001,2015,2008,2010,1997,2019,2011,2001,1997,2004,2012,2011,2009,2006,2017,2017,2014,2004,1984,2021,2001,1981,2015,2005,2015,1996,1976,2018,2019,2019,2018,2021,2021,2016,2021,2021,2021,2021,2018,2021,2021,2021,2014,2015,2020,2021,2021,2021,2021,2021,2020,2009,2011,2020,2021,2011,2006,2014,2017,1998,2021,2021,2016,2021,2020,2021,2021,2021,2021,2018,2020,2021,2021,2004,2018,2020,2021,2021,2020,2020,2019,2021,2017,2021,1999,2020,2021,2021,2021,2020,2017,2020,2013,2019,2018,2020,2006,1989,2017,2010,2005,2010,2009,2018,2012,2017,2019,2013,2014,2013,2003,2008,2018,2020,1994,2009,2018,2011,2009,2002,2000,2016,2018,1992,2008,2019,2021,2021,2018,2021,2021,2014,2011,2018,2020,2019,2021,2017,2016,2014,2013,2015,2004,2015,2021,2015,2015,2016,2019,2017,2015,2020,2020,2020,2001,2021,2021,2021,2020,2015,2021,2013,2018,2017,2019,2020,2019,2014,2016,1992,2011,2010,2008,2001,2004,2010,2007,2021,2021,2021,2015,2021,2013,2020,2020,2013,2020,2017,2017,2021,2020,2016,2019,2021,2012,2014,2020,1981,2021,2020,2021,2017,2018,2018,2019,2018,2019,2017,2021,2020,2021,2016,2021,2021,2021,2020,2021,2021,2020,2021,2020,2020,2013,2006,2018,2012,2021,2019,2018,2021,2021,2021,2008,2017,2009,2009,2012,2019,2010,2015,2016,2001,2020,1996,1964,2017,2017,2017,2017,2016,2017,2010,2021,2019,2002,2009,1999,2016,2017,2008,2018,2020,2021,2021,2013,2012,2021,2021,2021,2018,1998,2020,2020,2020,2021,2021,2021,2021,2021,2013,2020,2020,2020,2020,2021,2020,2021,2021,2021,2020,2014,2020,2020,2017,2021,2014,2021,2012,2021,2016,2020,2020,2015,2020,2015,2021,2020,2010,2013,2021,2016,2021,2020,2020,2021,2021,2021,2020,2021,2020,2013,2013,2021,2014,2020,2009,2021,2021,2021,1990,2018,2019,1988,2011,2006,2021,2016,2021,2006,2021,2015,2011,2021,2008,2014,2021,2020,2019,2021,2020,2021,2021,2013,2016,2020,2021,2018,2020,2021,2020,2017,2019,2018,2018,2021,2002,2017,2018,2021,2020,2021,2019,2021,2021,2018,2020,2012,2021,2021,2008,2021,2019,2016,2020,2017,2017,2020,2021,2021,2021,2020,2021,2020,2020,2020,1997,2019,2010,2008,2005,2020,2018,2021,2021,2021,2021,2021,2020,2021,2018,2019,2019,2020,2010,2021,2020,2020,2020,2020,2013,2016,2020,2018,2020,2021,2014,2019,2020,2021,2021,2021,2011,2020,2017,2019,2021,2021,2011,2005,2005,2021,2021,2003,2018,2021,2020,2016,2020,2021,2020,1999,2012,2020,2014,2009,1987,2020,2013,1997,2009,2007,2017,2011,1988,2019,2021,2011,2021,1993,2017,2020,2014,2020,2019,2020,2020,2011,2020,2020,2020,2020,2019,2020,2019,2018,2019,2012,2020,2020,2020,2020,2020,2020,2020,2018,2019,2020,2012,2020,2020,2020,2006,2004,2009,2020,2018,2019,2017,2019,2019,2012,2016,2013,2016,2020,2018,2019,2020,2020,2020,2020,2020,2020,2020,2020,2016,2013,2019,2019,2020,2020,2020,2020,2020,2020,2016,2020,2020,2020,2020,2020,2020,2020,2019,2018,2020,2020,2013,2020,2020,2020,2014,2020,2009,2014,2014,2006,2020,2018,1990,2006,2018,2020,2020,2018,2019,2020,2020,2020,2020,2020,2020,2018,2020,2020,2017,2020,2020,2020,2020,2020,2020,2020,2020,2020,2020,2018,2020,2013,2019,2020,2020,2020,2004,2011,2010,2015,2010,2016,2011,2016,2020,2018,2009,2020,2020,2016,2017,2017,2013,2018,1954,2019,2020,2020,2020,2020,2008,2018,2013,2020,2019,2008,1979,2020,2020,2020,2019,2016,2020,2019,2020,2012,2020,2018,2018,2020,2020,2020,2016,2020,2018,2019,2020,2020,2018,1989,2018,2018,2016,2012,1994,2020,2018,2019,2020,2017,2020,2020,2020,2013,2020,2016,2013,2020,2020,2020,2020,2009,2018,2019,2019,2020,2018,2017,2020,2018,2019,2018,2018,2020,2020,2020,2020,2020,1975,2005,2013,2014,2017,1991,2017,2012,2003,1982,2007,1999,2018,1980,2005,2012,2020,2018,2016,2020,2014,2020,2016,2018,2017,2020,2020,2020,2020,2020,2004,2020,1990,1982,2015,2006,2002,2017,2020,2018,2020,2020,2020,2004,2020,2020,2019,2020,2017,2020,2020,2018,2016,2020,2020,2020,2020,2017,2020,2020,2020,2017,2019,2013,2016,2019,2016,2019,2005,2019,2020,2020,2018,2020,2019,2018,2020,2020,2012,2020,2020,2002,2013,2014,2008,2003,2009,2007,1999,2007,2007,2015,2016,2019,2011,2020,2020,2020,2018,2016,2017,2017,2016,2019,2016,2019,2013,2015,2013,2016,2014,2020,2020,2014,2020,2020,2014,2020,2018,2020,2020,2016,2020,2020,2002,2013,2020,2018,2020,2014,2020,2014,2018,2018,2019,2019,2018,2017,2019,2018,2016,2016,2017,2018,2020,2020,2020,2020,2020,2020,2020,2010,2010,2020,2020,2019,2019,2015,2020,2018,2020,2020,2009,2020,2018,2016,2020,2019,2016,2011,2008,1998,2018,2020,2020,2011,2020,2020,2020,2020,2020,2020,1998,2020,2016,2019,2020,2020,2016,2020,2020,2020,2020,2019,2020,2020,2019,2017,2020,2018,2012,2014,2009,2020,2020,2018,2020,2020,2019,2016,2012,2020,2014,2020,2020,2018,2020,2020,2018,2020,2020,2020,2020,2019,2020,2020,2020,2020,2017,2020,2020,2017,2020,2018,2020,2020,2020,2020,2017,2020,2016,2019,2020,2020,2020,2019,2020,2020,2020,2016,2020,2020,2019,2020,2020,2020,2020,2019,2019,2019,2020,2018,2020,2019,2020,2018,2019,2020,2018,2020,2020,2020,2016,2018,2020,2020,2019,2018,2020,2018,2012,2020,2019,2020,2012,2011,2012,2013,2013,2016,2013,2015,2015,2015,2014,2013,2013,2014,2011,2014,2012,2014,2019,2019,2012,2015,2014,2011,2013,2011,2013,2020,2020,2017,2019,2020,2019,2020,2015,2019,1999,2014,2007,2019,2019,1990,2020,2020,2011,2020,2019,2019,2020,2020,2019,2016,2019,2019,2019,2020,2015,2006,2020,2020,2020,2020,2020,2017,2017,2019,2020,1997,2020,2020,2020,2020,1994,2020,2020,1979,1989,1982,1958,1956,2020,2019,2020,1963,2010,1954,1970,2014,2018,2020,2012,2016,2019,2013,2019,2019,2020,2020,2020,2020,2020,2018,2014,2008,2009,2018,2017,2020,2020,2018,2020,2016,2014,2020,2019,2020,2010,2017,2017,2007,2017,2020,2008,2006,2006,2009,2012,2008,2004,2020,2006,2011,2019,2020,2017,2019,2018,2017,2016,2019,2018,2020,1999,2014,2015,2020,2019,2020,2019,2019,2020,2020,2019,2018,2020,2018,1981,1996,1982,2019,1979,1984,1985,1981,1973,1976,2010,2020,2014,2010,2020,2020,2006,2009,2012,2007,2008,2009,2006,2004,2012,2005,2019,2019,2017,2019,2018,2019,2018,2020,2017,2018,2018,2018,2012,2020,2019,2020,2010,1994,2020,2020,2020,2016,2019,2018,2020,2020,2020,2019,2020,2019,2019,2020,2019,2013,2020,2020,2020,2018,2019,2020,2013,2008,2012,2020,2020,2020,2007,2020,2020,2020,2003,2020,2020,2020,2016,2019,2020,2019,2006,2016,2008,2011,2016,2017,2016,2010,2009,2005,2019,2012,2019,2020,2020,2020,2010,2005,2006,2011,2010,2009,2008,2009,2019,2020,2016,2019,2019,2020,2020,2018,2019,2019,2020,2020,2018,2020,2020,2020,2019,2019,2016,2015,2020,2015,2019,2018,2019,2020,2020,2018,2018,2019,2019,2020,2020,2019,2020,2020,2019,2010,2017,2019,2017,2019,2017,2019,2020,2020,2017,2020,2019,1990,2015,2012,2020,2008,1984,1998,1980,2013,1993,2014,2014,2005,2006,2001,2003,2016,1998,2015,2014,1987,2020,2017,2010,2014,2018,2020,2020,2016,2017,2019,2018,2019,2020,2019,2020,2020,2020,2019,2020,2020,2019,2019,2020,2019,2020,2018,2020,2020,2020,2017,2020,2019,2020,2020,2017,2017,2016,2020,2014,2019,2019,2019,2019,2020,2018,2020,2019,2020,2019,2020,2020,2020,2017,2017,2020,2019,2019,2020,2020,2016,2020,2019,2010,2019,2005,2018,2019,2020,2019,2019,2011,2020,2019,2019,2016,2011,2016,2017,2007,2020,2018,2019,2020,2019,2020,2019,2016,2015,2015,2016,2015,2014,2020,2019,2019,2020,2019,2020,2020,2012,2018,2015,2019,2015,2016,2016,2017,2019,2019,2017,2020,2010,2019,2018,2019,2015,2020,2020,2017,2020,2019,2018,2019,2019,2019,2018,2020,2019,2017,2014,2020,2020,2019,2020,2019,2020,2016,1994,2017,2018,2019,2020,2019,1999,2020,2016,2017,2020,2009,2018,2020,2019,2020,2017,2019,2015,2020,2020,2004,2020,2019,2019,2020,2013,2020,2019,2011,2019,2015,2019,2015,2018,2019,2017,2019,2020,2019,2018,2019,2014,2020,2017,2020,2020,2017,2018,2014,2007,2008,2009,2020,2015,2001,2019,2006,2018,2017,2015,2009,2019,2019,2019,2019,2019,2013,2018,2018,2019,2019,2017,2019,2019,2017,2019,2019,2019,2019,2019,2017,2014,2018,2015,2015,2019,2019,2019,2018,2015,2015,2001,2015,2006,2011,2013,2011,2019,2007,2017,2010,2004,2009,2017,2008,2012,2011,2019,2016,2017,2016,2018,2019,2018,2019,2019,2017,2019,2019,2017,2019,2019,2017,2017,2019,2017,2017,2019,2016,2017,2019,2019,2019,2019,2019,2014,2019,2019,2019,2017,2016,2017,2018,2019,2017,2019,2015,2019,2019,2019,2018,2019,2016,2018,2018,2017,2018,2019,2008,2019,2019,2019,2019,2019,2019,2019,2019,2019,2017,2019,2015,2008,2019,2019,2019,2019,2019,2019,2019,2019,2014,2015,2013,2019,2019,2019,2019,2019,2011,2019,2018,2013,2019,2019,2009,2019,2019,2019,2016,2019,2018,2019,2019,2017,2019,2019,2016,2019,2014,2014,2012,2017,2017,2013,2016,2015,2010,2015,2019,2019,2017,2018,2019,2019,2019,2018,2019,2019,2019,2019,2007,2019,2016,2019,2019,2019,2019,2019,2018,2014,2019,2019,2019,2019,2018,2019,2019,2019,2018,2019,2016,2019,2018,2017,2019,2019,2019,2019,2019,2018,2017,2019,2017,2019,2019,2018,2019,2017,2019,2019,2019,2015,2018,2019,2019,2017,2019,2019,2019,2019,2019,2019,2019,2019,2019,2019,2018,2019,2016,2019,2019,2019,2019,2019,2018,2018,2017,2019,2019,2000,1998,2005,2019,2019,2019,2018,2019,2019,2019,2013,2019,2019,2019,2019,2019,2019,2018,2009,2019,2018,2019,2019,2019,2012,2019,2006,2019,2019,2019,2018,2019,2019,2019,2019,2019,2018,2018,2019,2019,2016,2019,2012,2014,2004,2019,2019,2018,2019,2018,2019,2019,2019,2019,2016,2019,2018,2019,2019,2019,2019,2019,2019,2018,2019,2019,2019,2015,2019,2019,2019,2019,2019,2019,2019,2018,2019,2018,2019,2019,2016,2015,2015,2014,2018,2016,2019,2017,2017,2019,2019,2019,2018,2019,2019,2018,2019,2019,2019,2019,2018,2018,2008,2013,2004,2007,2019,2019,2018,2018,2019,2019,2018,2019,2019,2017,2019,2019,2019,2016,2019,2013,2019,2019,2019,2018,2017,2019,2019,2018,2012,2019,2019,2019,2019,1998,1997,2019,2019,2019,2019,2019,2015,2018,2019,2019,2018,2019,2019,2019,2019,2019,2019,2018,2019,2019,2019,2019,2019,2018,2019,2019,2016,2015,2019,2014,2019,2017,2019,2019,2019,2019,2019,2019,2019,2019,2019,2019,2019,2019,2018,2019,2014,2016,2018,2019,2019,2019,2019,2019,2018,2019,2018,2019,2019,2018,2019,2018,2018,2019,2011,2018,2019,2018,2019,2019,2019,2019,2019,2018,2019,2018,2013,2018,2019,2018,2019,2019,2019,2018,2019,2019,2018,2019,2018,2019,2019,2019,2019,2019,2014,2019,2019,2013,2019,2001,2005,2018,2003,2003,2003,2018,2005,2016,2018,2019,2014,2013,2019,2019,2019,2019,2018,2019,2019,2019,2019,2019,2018,2019,2015,2019,2016,2018,2017,2019,2018,2019,2019,2019,2019,2017,2008,2019,2018,2018,2017,2018,2019,2019,2019,2014,2016,2016,2016,2016,2019,2018,2019,2014,2018,2017,2019,2018,2006,2011,2012,2008,2018,2018,2007,2016,2016,2017,2017,2019,2019,2018,2019,2019,2019,2018,2012,2014,2015,2015,2019,2015,2011,2018,2018,2018,2018,2018,2018,2014,2018,2012,2018,2019,2018,2008,2018,2018,2015,2015,2014,2017,2018,2013,2013,2017,2014,2015,2012,2006,2018,2018,2016,2019,2019,2019,2018,2018,2001,2017,2018,2015,2018,2018,2017,2018,2012,2017,2004,2012,2018,2006,2002,2018,2008,2018,2019,2018,2019,2019,2019,2018,2019,2018,2017,2016,2018,2019,2014,2018,2017,2019,2019,2018,2017,2010,2010,2017,2019,2018,2018,2018,2012,2018,2016,2015,2017,2018,2018,2018,2019,2018,2019,2019,2019,2018,2019,2018,2017,2016,2018,2018,2017,2018,2018,2019,2016,2017,2018,2017,2019,2018,2019,2018,2018,2018,1999,2018,2018,2018,1975,2015,2018,2012,2017,2017,2017,2010,1991,2015,1992,1993,1989,2013,2008,2016,1987,1991,1991,2016,2018,2018,2018,1990,1991,2011,2008,2012,2011,2018,2018,2012,2018,2018,2018,2018,2018,2011,2018,2012,2015,2014,2018,2018,2018,2018,2014,2014,2014,2018,2014,2018,2017,2018,2018,2018,2018,2017,2018,2018,2018,2018,2018,2018,2018,2018,2018,2018,2018,2018,2018,2011,2009,2018,2018,2013,2014,2014,2018,2011,2014,2015,2015,2016,2009,2018,2010,2017,2017,2013,2008,2018,2018,2018,2018,2018,2018,2018,2018,2018,2018,2018,2018,2018,2018,2018,2007,2018,2018,2018,2018,2018,2017,2018,2018,2015,2018,2018,2017,2018,2018,2009,2017,2018,2018,2018,2018,2018,2018,2018,2018,2009,2008,2015,2013,2011,2018,2012,2010,2018,2006,2007,2009,2010,2018,2017,2015,2013,2012,2007,2012,2013,2012,2013,2013,2012,2006,2015,2007,2013,2008,2014,2011,2008,2010,2014,2013,2013,2014,2015,2017,2016,2008,2014,2011,2018,2015,2006,2018,2018,2018,2018,2018,2018,2018,2015,2018,2018,2018,2018,2018,2018,2018,2013,2018,2016,2018,2018,2018,2017,2018,2018,2018,2018,2018,2018,2018,2018,2018,2018,2018,2018,2018,2018,2018,2018,2017,2017,2017,2012,2018,2008,2014,2000,1998,1982,2014,1979,1989,2013,2016,2017,2009,2014,2016,2009,2009,2014,2017,2012,2018,2013,2014,2009,2017,2014,2008,2015,2009,2018,2014,2009,2008,2009,2016,2012,2005,2017,2016,2012,2011,2011,2018,2018,2009,2014,2013,2013,2016,2016,2015,2014,2013,2008,2013,2015,2017,2012,2018,2013,2016,2010,2012,2009,2010,2015,2016,2012,2018,2018,2018,2018,2018,2018,2018,2018,2018,2018,2018,2018,2018,2018,2018,2018,2018,2018,2014,2018,2017,2018,2018,2017,2018,2017,2018,2017,2017,2017,2012,2018,1998,2018,2017,2017,2017,2018,2017,2018,2017,2018,2018,2018,2015,2018,2018,2018,2018,2014,2016,2018,2018,2018,2011,2011,2008,2016,2000,2010,2014,2014,2010,2012,2009,2016,2010,2006,2012,2015,2012,2011,2005,2018,2017,2005,2012,2017,2018,2018,2018,2018,2018,2018,2018,2018,2018,2018,2018,2018,2018,2018,2018,2018,2018,2018,2018,2018,2013,2012,2012,2012,2018,2006,2013,2003,2013,2018,2010,2018,2007,2015,2010,2017,2018,2012,2017,2018,2018,2018,2018,2018,2018,2014,2018,2016,2018,2018,2018,2018,2018,2017,2018,2017,2017,2018,2018,2018,2017,2017,2018,2015,2018,2018,2018,2018,2018,2018,2007,2017,2018,1979,2018,2017,2018,2018,2018,2007,2018,2018,2018,2018,2018,2018,2018,2017,2017,2018,2017,2017,2017,2017,2018,2017,2018,2018,2015,2008,2015,2015,2014,2016,2016,2017,2017,2017,2017,2018,2017,2018,2018,2018,2017,2018,2018,2018,2018,2018,2018,2017,2017,2018,2018,2017,2018,2018,2018,2017,2018,2018,2017,2018,2018,2018,2017,2017,2009,2012,2004,2016,2007,2005,2000,2017,2018,2018,2018,2018,2009,2006,2016,2018,2016,2018,2018,2017,2018,2018,2018,2016,2016,2017,2018,2018,2018,2018,2018,2017,2018,2017,2018,2018,2017,2018,2018,1998,2007,2017,2016,2016,2017,2017,2004,2014,2014,2014,2008,2004,2016,2004,2017,2018,2018,2017,2018,2017,2017,2018,2018,2018,2018,2018,2018,2018,2018,2018,2018,2018,2017,2017,2017,2017,2017,1998,2017,2018,2018,2018,2018,2017,2018,2018,2017,2018,2018,2018,2017,2018,2018,1980,1986,2017,2017,2018,2017,2018,2018,2017,2016,2017,2017,2017,2016,2017,2017,2017,2017,2017,2017,2017,2017,2016,2017,2017,2017,2017,2015,2017,2017,1986,1991,2006,2017,2017,2017,2017,2017,2017,2017,2017,2016,2017,2017,2017,2016,2017,2017,2017,2017,2017,2017,2017,2017,2017,2017,2017,2002,2016,2017,2017,1978,2016,2016,2016,2017,2017,2016,2017,2017,2017,2016,2015,2017,2017,2017,2017,2017,2017,2017,2017,2015,1960,2016,2016,2017,2017,2017,2017,2016,2017,2017,2017,2017,2012,2017,2016,2017,2016,2016,2017,2017,2017,2017,2017,2015,2017,2014,2017,2017,2016,2017,2017,2017,2017,2017,2017,2017,2017,2017,2017,2016,2017,1988,2017,2012,2013,2006,1976,1983,1973,2017,1974,1989,2016,2017,2016,1984,2016,2016,2016,2017,2016,2017,2016,2017,2017,2017,2011,2017,2017,2015,2017,2017,2015,2017,2015,2017,2017,2017,2017,2015,2015,2015,2015,2016,2017,2017,2017,2017,2016,2016,2017,2016,2016,2016,2015,2017,2017,2016,2017,2017,2017,2017,2017,2017,2014,2014,2017,2012,2011,1966,2018,1971,2013,1962,2016,1994,2016,2017,2017,2015,2017,2017,2016,2017,2017,2017,2017,2017,2017,2017,2017,2017,2017,2016,2016,2017,1993,2017,2016,2017,2017,2015,2016,2017,1993,2017,1995,1969,1998,2016,2017,2011,2017,2017,2017,2017,2017,2016,2017,2017,2017,2017,1992,1994,2016,2010,1995,2016,2016,2017,2017,2017,2017,2017,2017,2017,2017,2016,1996,1996,2016,2016,2017,2017,2015,2016,2016,2017,2017,2017,2016,2016,2016,2017,2017,2017,2017,2014,2014,2016,2017,2016,2016,2016,2017,2016,2016,2017,2016,2017,2017,2016,2016,1971,2015,2014,2010,1975,2017,2016,2016,2016,2017,2017,2017,2016,2017,2016,2017,2016,1992,2001,2006,2016,2001,2017,2016,2017,2013,2017,2016,2017,2016,2015,2015,2017,2017,2016,2016,2016,2016,2015,2010,2016,2015,2017,2017,2016,2017,1977,2017,2017,2014,2015,2014,2015,2016,2016,2014,2017,2015,2016,2017,2016,2017,2017,2016,2017,2017,2008,2014,2014,2014,2016,2017,2015,2017,2016,2017,2013,2016,2016,2017,2016,2007,2011,2016,2016,2016,2016,2016,2016,2016,2016,2015,2015,2016,2016,2016,2015,2016,2016,2016,2016,2016,2016,2016,2016,2016,2014,2013,2015,2015,2016,1979,2016,2016,2016,2016,2012,2016,2012,2016,2016,2016,2012,2016,2016,2016,2016,2015,2016,2016,2015,2016,2016,2016,2016,2016,2016,2016,2016,2016,2012,2008,2010,2015,2016,2016,2016,2016,2016,2016,2016,2016,2015,2010,2016,2015,2016,2016,2016,2015,2016,2013,2016,2016,2016,2016,2016,2016,2016,2016,2016,2016,2016,2010,2016,2012,2016,2016,2016,2016,2016,2016,2015,2010,2005,2009,2012,2014,2016,2011,1994,2008,2008,2016,2016,2016,2015,2016,2016,2015,2016,2016,2015,2016,2016,2016,2016,2016,2016,2016,2016,2007,2016,2015,2016,2016,2016,2016,2015,2016,2016,2008,2010,2016,2015,2015,2015,2015,2015,2015,2015,2015,2015,2015,2015,2015,2015,2015,2015,2015,2014,2015,2015,2015,2014,2015,2015,2015,2015,2014,2015,2015,2015,2015,2015,2015,2015,2015,2015,2014,2014,2014,2014,2014,2014,2014,2014,2014,2014,2013,2014,2013,2013,2013,2013,2011,1988,1986,1986,1990,1988,1987,1989,1988,1991,1990,1991,2000,2010,2009,2007,2006,2009,2008,1997,2019,2008,2014,2018,2019,2017,2018,2017,2017,2015,2020,2018,2017,2010,2005,2014,2017,2008,2018,2016,2017,2015,2014,2017,2010,2018,2006,2009,2019,2018,2013,2015,2018,2016,2013,2016,2017,2018,2017,2000,2003,2015,2016,2018,2016,2011,1989,2017,2015,2017,2014,2004,2011,2012,2017,2014,2017,2018,2017,2016,2016,1977,1971,1993,2015,2016,2016,2012,2017,2013,2019,2011,2016,2018,2012,2014,2014,2017,1998,2015,2015,2013,2011,2011,2016,2011,2009,2015,2015,1996,2012,2002,2008,2017,2018,2019,2018,2011,2017,2013,2011,2010,2010,2015,2012,2016,2012,2002,2015,2016,2015,2007,2012,2010,2018,2014,2013,2017,2018,2012,2018,2008,2012,2018,2006,2012,2015,2004,2017,2016,2018,1974,2017,2018,2016,2018,1989,2019,2016,2018,2006,2018,2016,2001,2013,2014,2017,2019,2015,1977,2011,2016,2017,1999,2017,2017,2018,2019,2014,1998,2016,2018,2000,2019,2015,2013,1986,1991,1999,2000,2012,2018,2014,2017,2017,2015,2001,2003,2015,2013,2016,2016,2018,2017,2018,2018,2007,2017,2016,2011,2015,2015,2018,2011,2011,2011,2014,1997,2019,2016,2016,2018,2012,2014,2016,1994,2014,2018,2017,2016,2013,2005,2006,2016,2016,2014,2019,2015,1995,2003,2017,2016,2006,2019,1995,2001,2004,2017,2015,2017,2015,2010,2002,2009,2015,2009,2017,2013,2010,2015,2015,2016,2010,2011,2016,2012,2017,2015,2013,1995,1998,1992,2018,1972,1982,2015,2016,2013,1997,2013,1996,1992,2008,2016,2007,2008,2016,2015,2017,2016,2015,2016,2019,2004,1978,2012,2019,2014,2017,2005,2010,2013,2018,2006,2018,2007,2003,2017,2017,1999,2002,2018,2017,2017,2002,2010,2000,2018,2017,2015,2018,2017,2016,2012,2019,2001,2015,2018,2017,2007,2017,2013,2015,2018,2016,2015,2017,2016,2001,2013,2013,2016,2013,1999,2010,2017,2018,2015,2017,1973,2018,2016,2017,2008,2017,2015,1967,2003,2017,2016,2017,2013,2016,2018,2007,2016,2015,2018,2005,2017,2009,2017,2016,2017,2017,2018,2016,2018,2010,2017,2018,2017,1960,2016,2016,2014,2016,2018,2015,2017,2017,2016,2017,2014,1998,1992,2019,2017,2016,2008,2015,1976,2009,2012,2006,1992,1992,1958,2015,2010,2018,2016,2012,2000,2014,2010,2000,2017,2010,2018,2016,2017,2005,2003,1973,2013,1997,2017,2016,2015,2012,2018,2018,2018,2019,2017,2005,2018,1988,2017,2017,2012,1968,2009,2017,2014,2012,2015,2004,2018,2006,2017,1975,2009,2002,2016,2019,2010,1993,2018,1973,2006,2017,2013,2012,2014,2008,2005,2007,2017,2016,2015,2008,2016,2017,2002,2016,2016,2013,2014,2017,2014,2008,2014,1967,2017,2016,2009,2018,2016,2004,2016,2000,2017,2013,2015,2015,1989,2003,2019,2015,2017,2015,2013,2017,2016,2015,1997,2015,2016,2016,2015,2003,2016,1991,2017,2018,2015,2018,2006,2018,2016,2016,2012,2011,2010,2017,2017,2002,2016,2018,2014,2018,1992,2018,2017,2017,2016,2019,2016,2017,2004,2007,2018,2017,2017,2015,2002,2002,2010,1985,2017,2017,2009,1965,2016,2019,2014,2019,2015,2015,2010,2015,2016,2017,2016,2016,2016,1997,2005,1989,2008,2017,2003,2018,1996,2015,2000,2017,2018,2017,2017,2017,2018,2014,2003,2003,2016,2014,2015,2010,2010,1983,2018,2015,2009,2004,2012,2017,2017,2016,2006,2016,2019,2014,2015,2016,2015,2016,2016,2016,2014,2006,2002,2012,2013,2016,2018,1973,2015,2002,1990,1985,2016,2018,2018,2007,1997,2019,2019,2001,2015,1996,2013,2012,2001,2019,2010,2011,2014,2017,2017,2011,2019,1998,2017,2015,2019,2014,2017,1998,2017,1971,2015,2008,2016,2017,2015,2000,2003,2006,2016,2013,2018,2017,2016,2017,2015,2019,1982,2008,2016,2018,1978,2017,2015,2010,2015,2012,2019,2018,1977,2017,1956,2018,2016,2011,2008,1994,2007,2012,2018,2007,1993,2015,2016,2015,2019,2009,2016,2017,2010,2016,2011,2011,2008,2015,2016,2019,2017,2009,2017,2013,2017,2002,2009,2011,2016,2016,2018,2017,2003,2010,2014,2008,2005,1990,2017,2013,2007,2014,2013,1997,2005,1958,2012,2013,2012,2018,2016,2017,2014,2018,2017,1979,2013,1995,2019,2016,2006,2018,2016,2014,2019,2012,2005,2014,1990,2017,2011,2018,2001,2003,2015,2008,2013,2017,1978,2015,2016,2016,2016,2015,2015,2015,2013,2013,2010,2014,2007,2009,2015,2000,1987,2017,2017,2013,2017,2017,2014,2015,2015,2005,2008,2004,2015,2010,2015,2016,1999,2017,2018,2017,2016,2011,2015,2018,2018,1998,2017,2001,2017,2016,2015,2016,2004,2013,2018,1976,2016,1997,2017,2010,2016,2015,2015,2010,2017,2005,2016,2017,2015,2006,2015,2016,2016,2008,2010,2017,2019,2011,2018,2011,2018,2018,2017,2013,2013,2016,2017,2017,2016,2016,2007,1975,2018,2012,2016,2016,2017,2000,2017,1997,2015,1995,2016,2012,2009,1999,2006,2014,2010,2015,2016,2018,2005,2016,2010,2016,2017,2018,2016,2015,2018,2016,2011,2017,2014,2016,2015,2013,2016,2014,2010,2008,2013,2009,1974,2017,2017,2014,2019,2017,2017,2015,2018,2014,2008,1989,1981,1984,2016,2013,2016,2009,2008,2005,2013,2016,2015,2004,2003,2002,2009,2018,2017,2006,2010,2018,2014,2015,2013,1995,2012,2015,2017,2014,2018,2006,2013,2018,1997,2015,2009,2014,2013,2012,2016,2001,1973,2015,2014,2018,2016,1973,2011,1960,2017,2005,2012,2013,2017,2018,2017,1997,2011,2017,2009,2011,2005,2015,2005,1992,2011,2002,2017,2015,1981,2017,2016,2016,2014,2010,2016,2017,2017,2008,2001,1982,2006,2017,2005,2011,2013,2010,2017,1993,2006,1980,2003,2018,2017,2016,1995,2015,2015,2003,2004,2016,2015,2016,2011,1988,2010,2016,2014,2015,2005,1996,2017,2015,1997,2013,2015,1945,2009,2016,2012,1972,2014,2009,2013,2016,2012,2017,2017,2010,2013,2015,2013,2017,2017,2004,2010,2010,2017,2017,1998,2012,2000,2017,2004,2016,2017,1987,2016,2016,2011,2016,2006,2018,2010,2017,2019,2015,2010,2017,2014,2010,2003,2011,2011,2011,2017,2014,2010,2017,1982,2010,2018,2016,2013,2016,1946,2018,2014,2018,2018,1997,2018,1992,2015,2012,2013,1990,1983,2016,2016,2016,2000,2018,2019,2019,2016,2014,2016,1998,2013,2012,2017,1976,1962,2017,1990,2015,2015,2017,2017,2019,2010,2017,1994,2018,2011,2015,2014,2016,2006,1995,2016,2005,2018,2015,2017,2017,2012,2014,1979,2008,1987,2016,2016,2017,2016,2013,2018,2016,2013,1981,2005,1989,2017,2018,2013,2015,1983,2017,2014,2016,2014,2017,1999,2017,2017,2017,2016,2016,2016,1986,2002,2017,2016,2014,2013,2017,2018,1983,2016,2017,2006,2013,2014,2017,2016,2017,1988,2016,2016,1973,2017,1985,2017,2017,2003,2017,2018,1997,2002,2016,2009,2018,2009,2015,2016,2016,2008,2017,2004,2012,2016,2015,2014,2017,2011,2015,2016,2017,2018,2014,2015,2016,2017,2015,2019,2017,2003,2016,1997,2016,2017,2017,2013,2015,2012,2014,2013,2011,2014,2012,2016,2015,2010,2013,2013,2005,2009,2016,2015,2015,2016,2013,2011,2016,2017,2013,2016,2002,2015,1984,2007,2012,2012,2004,2014,2014,2007,1962,2010,2005,2017,2013,2016,2015,2015,2016,2015,2014,2013,2001,2015,2009,2012,2011,2014,2017,2006,2016,2017,2016,1982,2016,2011,2017,2016,1993,2016,2004,2016,2016,2015,2016,1945,2016,2018,2004,2016,2007,2017,2018,2013,2014,2008,2005,2018,2007,2020,2019,2019,2017,2017,2018,2017,2017,2017,2017,2018,2017,2017,2018,2017,2017,2017,2017,2017,2018,2017,2018,2018,2012,2017,1995,2016,2009,2012,2015,2013,2013,2016,2014,2009,2018,1960,2007,2004,2015,2016,2011,2012,2015,2017,2012,1983,2017,2016,2018,2018,2018,2018,2019,1968,2016,2013,2017,2018,2017,2016,2013,2015,2006,2016,2016,2018,2018,2016,1984,2017,2017,2014,2019,2018,2017,2018,2006,2015,2007,2017,2007,2007,2002,2016,1988,2015,2015,2002,2000,2018,2007,1997,2017,1990,1992,2011,2017,1992,2014,2009,2016,2009,2013,1988,2016,2006,2016,2017,2007,2016,2016,2018,2018,2015,1993,2015,2009,2012,2017,2018,2018,2017,2002,1998,2018,2010,2016,1986,1980,2018,2018,1980,2016,2018,2011,2011,2011,2014,2012,2012,2013,2013,2013,1942,2013,2015,1996,1984,2017,2018,2019,2000,1994,2014,2012,2011,2019,2008,2015,2008,2009,2008,2013,2015,1980,2015,2015,2016,1996,1974,2018,1985,2018,2005,2018,2010,2017,2016,2011,2011,1955,2018,2016,1984,2017,2017,2016,2015,2012,2015,2015,2010,2017,2010,2017,2016,1980,2016,2014,2008,2012,2008,2015,2013,2011,2010,2015,2016,2018,1976,1979,1982,1985,1990,2017,2014,2018,2015,2014,2015,2017,2012,2016,1968,1998,2017,2016,1995,2005,2004,1999,2018,2018,2015,2013,2016,2016,2003,1982,2013,2014,2016,1983,2016,2012,2016,2016,2007,2014,2017,2017,2013,2018,2018,1945,2008,1964,2014,2010,2010,2015,2016,2005,2017,2008,2018,2012,1982,2017,2017,2018,2013,2019,2014,2017,1955,2000,2013,1993,1988,1998,2010,1997,2000,2012,1993,2012,2011,2007,2015,2013,2013,2013,2014,2013,2013,2014,2013,2014,2014,2012,2010,2017,2011,2010,2008,2016,1999,2019,2011,2002,2012,2002,2002,2011,2008,2019,2010,2009,1990,2016,2018,2017,2016,2013,2009,2016,2017,2004,2017,2014,2018,2012,2016,2013,2015,2017,2017,2016,2015,2014,2016,2016,2014,2010,2015,2004,1996,1993,2015,1998,2008,2017,2015,2016,2005,2018,2013,1991,2018,2018,2009,2017,2003,2014,2016,2011,2019,2016,1976,2017,2019,2007,2018,2018,2015,2012,2018,2001,2002,2003,2015,2018,2019,2015,2015,2017,2013,2006,2008,2018,2017,2010,2010,2015,2014,2014,2017,2020,2019,2006,1992,2016,1981,1996,2016,2002,2019,2015,2011,2018,2014,2014,2019,2015,2014,2018,2017,2014,2007,1972,2006,1999,2016,2017,2017,2016,1977,2007,2017,2016,2016,1980,1999,2008,2011,2014,2015,1999,2005,2013,2016,2017,2010,2016,2007,1991,1990,2010,2016,2017,2015,2003,2009,2015,2017,2016,2012,2016,2016,2018,2015,2016,2005,2011,2007,2016,1995,2005,2019,2019,2010,2015,2013,2000,2016,2016,2017,2015,2016,1993,2018,1942,2018,2016,2015,2016,2016,2010,2015,2010,2009,2016,2008,2007,2019,2017,2006,2017,2005,2007,2013,1983,2017,2019,2017,2014,1977,2017,2017,2017,2016,2016,2010,2016,2015,2013,2016,1965,2010,2018,2016,2013,2011,1996,2013,1994,1970,1992,2015,2009,2011,1982,2018,2016,2015,2017,2006,2017,2017,2017,2012,2018,2015,2009,2016,2016,2005,2007,2015,2015,2017,1981,2016,2016,2015,2018,2010,2009,2009,2014,2019,1996,1978,1994,2000,1975,2008,2017,2017,2014,2016,2016,2013,2003,2018,2019,2011,2018,2017,2016,2009,2014,2015,2015,2014,2018,1979,2005,2011,2017,2008,2017,2018,2011,2017,2015,2017,2016,2005,2016,2013,2017,2014,2018,2016,2009,2014,2018,2018,1995,2009,2016,2018,2009,2015,2011,2015,2007,2013,2017,2010,2006,2017,2016,1992,2010,2016,2018,2014,2018,2019,2017,2016,2017,2018,2015,2006,2015,2017,2019,1974,2008,2014,2003,2002,2008,2016,1982,1993,2017,2009,1998,1999,2003,2003,2018,2017,1944,2009,2016,2016,2015,2011,2017,1991,1988,1984,1944,2018,2016,2018,2014,2008,2010,2001,2016,1997,1993,2018,2012,2004,2013,2006,2014,2017,2012,2012,2015,2012,2004,2017,2004,2014,2004,2009,2017,2019,2006,2018,2008,1997,2010,2015,2016,2017,2016,2015,2016,2016,2011,2002,2014,2016,1994,2016,2011,2014,2011,2015,2014,2012,2001,2015,2016,2019,2014,2014,2017,1955,2014,2015,2013,2010,2016,2013,1978,2010,2019,2015,2017,2015,2017,2018,2009,1999,1974,2013,2016,2017,2002,2009,2017,1996,2016,2015,2016,2002,2009,2011,2016,2013,2015,2015,2014,2007,1998,2006,2017,2015,2018,2016,2016,2017,1999,2018,2017,2016,1985,2016,2017,1988,2016,2017,2015,2015,2017,2017,2011,2010,2010,2016,2010,2017,1947,2016,2017,2013,2014,2018,2016,1995,2017,2001,1997,2016,2001,2016,2015,2007,2007,2016,1996,2008,2014,2014,2016,2017,2015,1990,1995,2001,2004,2015,2018,2016,1985,1995,2014,2019,2017,2017,1969,2017,2015,2010,2012,1944,2013,2014,2010,2018,2015,2018,2016,2015,2008,2013,2016,2006,2017,2017,2013,2016,1943,2012,2017,2011,2009,2017,2018,2016,2005,2008,2016,2018,2016,2017,2015,2018,2016,2016,2017,2014,2004,2018,2018,2013,2016,2015,2005,2016,2017,2017,2007,2013,2011,2016,2014,2015,2017,2018,2015,2018,2016,2018,2017,2015,1983,2016,2015,2016,2014,2017,1967,2019,2017,2000,2017,2018,2002,2013,2016,2000,2017,2015,2018,2016,2017,1967,2016,2016,1943,1999,2018,2017,1971,2017,1981,2010,2014,2019,2017,2016,2019,2006,2015,2013,2015,2016,1943,1994,2017,2002,2005,2001,2008,2001,2011,2013,2006,2018,2014,2010,2012,2015,2016,2016,2015,2017,2017,2015,2009,2008,2011,1973,2005,2016,2014,2009,2015,2007,2009,2006,2015],\"xaxis\":\"x\",\"yaxis\":\"y\",\"type\":\"histogram\"},{\"alignmentgroup\":\"True\",\"bingroup\":\"x\",\"hovertemplate\":\"type=TV Show<br>release_year=%{x}<br>count=%{y}<extra></extra>\",\"legendgroup\":\"TV Show\",\"marker\":{\"color\":\"#EF553B\",\"pattern\":{\"shape\":\"\"}},\"name\":\"TV Show\",\"offsetgroup\":\"TV Show\",\"orientation\":\"v\",\"showlegend\":true,\"x\":[2021,2021,2021,2021,2021,2021,2021,2021,2021,2021,2020,2021,2021,2018,2021,2021,2020,2021,2020,2018,2021,2021,2020,2021,2014,2021,2021,2014,1994,2015,2021,2021,2021,2013,2021,2021,2021,2019,2017,2021,2021,2021,2021,2021,2019,2021,2016,2021,2021,2021,2021,2021,2021,2019,2012,2013,2021,2021,2021,2020,2016,2015,1992,2019,2021,2021,2021,2021,2020,2021,2002,2021,2021,2016,2021,2021,2021,2021,2021,2021,2021,2021,2021,2019,2021,2021,2021,2021,2021,2021,2021,2020,2016,2018,2020,2015,2021,2021,2021,2021,2021,2021,2021,2021,2021,2021,2018,2019,2021,2021,2021,2021,2021,2021,2021,2009,2011,2005,2021,2013,2008,2012,2020,2020,2010,2014,2021,2021,2021,2009,2021,2021,2021,2021,2021,2021,2021,2021,2021,2021,2019,2020,2021,2021,2021,2021,2021,2019,2021,2021,2020,2019,2021,2021,2021,2021,2019,2021,2021,2021,2021,2021,2021,2021,2021,2021,2021,2021,2021,2021,2021,2021,2019,2016,2017,2007,2018,2019,2019,2021,2017,2020,2021,2021,2015,2019,2019,2018,2019,2016,2015,2019,2021,2015,2018,2018,2021,2020,2020,2020,2021,2020,2021,2021,2020,2020,2019,2020,2021,2021,2020,2018,2016,2021,2019,2020,2021,2021,2020,2021,2021,2021,2021,2021,2021,2021,2021,2021,2021,2001,2021,2018,2021,2018,2018,2019,2020,2020,2020,2015,2018,2020,2019,2019,2018,2019,2020,2018,2018,2020,2018,2021,2021,2021,2021,2021,2021,2021,2021,2021,2021,2021,2021,2020,2021,2020,2021,2021,2021,2021,2014,2021,2014,2021,2016,2021,2021,2021,2021,2021,2018,2007,2021,2021,2021,2021,2021,2021,2013,2019,2021,2015,2012,2006,2021,1993,2021,2020,2021,2021,2021,2021,2021,2021,2021,2016,2021,2021,2021,2021,2021,1997,2021,2021,2021,2021,2021,2021,2021,2020,2021,2021,2021,2021,2021,2021,2017,2021,2021,2020,2018,2021,2010,2010,2020,2021,2021,2021,2021,2021,2021,2021,2021,2021,2021,2021,2021,2021,2019,2021,2021,2016,2016,2019,2006,2021,2020,2018,2020,2019,2003,2015,2021,2021,2018,2020,2020,2021,2019,2016,2019,2020,2019,2021,2020,2018,2021,2020,2021,2021,2021,2021,2020,2021,2017,2021,2016,2021,2021,2015,2005,2020,2013,2021,2021,2021,2021,2021,2021,2010,2021,2021,2021,2021,2021,2021,2021,2021,2021,2021,2021,2021,2021,2021,2021,2021,2021,2015,2021,2021,2021,2021,2021,2021,2019,2011,2019,2018,2018,2021,2021,2021,2021,2020,2021,2021,2021,2021,2021,2021,2021,2021,2021,2020,2021,2021,2021,2005,2021,2019,2016,2021,1945,2008,2020,2021,2021,2021,2012,2018,2021,2019,2018,2018,2020,2019,2015,2019,2019,2021,2021,2021,2018,2021,2021,2021,2019,2021,2021,2021,2021,2021,2021,2016,2020,2021,2020,2021,2021,2021,2021,2021,2021,2021,2020,2019,2021,2021,2021,2017,2021,2020,2014,2013,2020,2020,2019,2020,2020,2018,2020,2020,2019,2020,2020,2020,2020,2016,2010,2019,2020,2020,2020,2020,2020,2020,2020,2020,2011,2011,2020,2014,2020,2020,2011,2006,2021,2020,2020,2018,2020,2020,2020,2013,2019,2020,2020,2020,2019,2020,2018,2020,2020,2020,2020,2020,2020,2020,2020,2020,2014,2018,2012,2015,2017,2006,2010,2018,2020,2018,2020,2020,1999,2020,2020,2020,2015,2020,2017,2020,2019,2020,2020,2020,2020,2020,2013,2019,2021,2014,2020,2019,2020,2020,2020,2020,2020,2020,2020,2006,2020,2020,2018,2020,2018,2020,2020,2020,2020,2019,2002,2019,2018,2019,2018,2020,2019,2019,2018,2020,2018,2017,2019,2020,2020,2020,2020,2020,2020,2020,2020,2020,2020,2020,2020,2020,2020,2020,2020,2020,2020,2018,2005,2006,2020,2020,2020,2020,2020,2020,2020,2020,2020,2020,2020,2016,2017,2005,2020,2009,2019,2018,2016,2020,2018,2020,2019,2018,2003,2019,2020,2010,2020,2020,2020,2019,2020,2020,2020,2020,2020,2020,2020,2020,2020,2020,2019,2020,2020,2020,2020,2020,2020,2020,2020,2020,2020,2020,2007,2020,2020,2020,2020,2020,2020,2020,2020,2017,2020,2020,2020,2020,2020,2017,2020,2012,2016,2020,2002,2020,1998,2019,2020,2020,2020,2020,2020,2020,2020,2020,2019,2013,2020,2020,2020,2020,2020,2020,2020,2016,2020,2014,2020,2020,2020,2014,2018,2020,2020,2019,2016,2020,2020,2020,2020,2020,2020,2016,2020,2020,2020,2020,2000,2020,2014,2018,2008,2020,2020,2020,2020,2020,2020,2020,2019,2020,2015,2020,2020,2020,2017,2019,2018,2020,2020,2020,2020,2020,2016,2020,2020,2020,2020,2019,2020,2020,2020,2020,2020,2020,2019,2020,2020,2020,1993,2020,2019,2016,2019,2020,2004,2020,2020,2020,2020,2020,2020,2020,2020,2020,2020,2020,2020,2020,2020,2015,2020,2020,2020,2020,2020,2002,2020,2020,2020,2020,2020,2018,2020,2018,2020,2020,2019,2020,2019,1999,2016,2018,2014,2017,2017,2020,2018,2020,2016,2019,2020,2019,2020,2020,2020,2020,2020,2020,2020,2020,2020,2009,2009,2007,2020,2019,2020,2014,2020,2020,2019,2015,2020,2020,2019,2020,2020,2020,2020,2020,2020,2020,2015,2020,2015,2009,2020,2019,2019,2014,2020,2019,2020,2019,2019,2020,2020,2020,2020,2017,2020,2020,2017,2019,2020,2011,2020,2020,2020,2020,2020,2006,2020,2018,2020,2020,2019,2020,2020,2020,2020,2020,2020,2020,2020,2019,2019,2020,2013,2019,2015,2020,2020,2019,1986,2020,2020,2020,2020,2019,2019,2019,2020,2019,2019,2020,2020,2020,2020,2020,2020,2020,2020,2020,2020,2020,2020,2020,2020,2020,2020,2020,2019,2020,2018,2019,2020,2020,2020,2020,2020,2020,2020,2020,2020,2016,2014,2020,2020,2019,2020,2019,2020,2020,2020,2020,2020,2020,2020,2018,2020,2020,2020,2020,2020,2008,2017,2017,2020,2021,2020,2019,2019,2018,2018,2020,2018,2020,2020,2020,2020,2019,2020,2020,2015,2020,2019,2014,2018,2014,2020,2020,2020,2019,2020,2020,2020,2020,2020,2020,2017,2020,2020,2020,2020,2020,2020,2019,2011,2020,2020,2020,2019,2020,2008,2020,2018,2020,2020,2019,2020,2020,2020,2020,2020,2020,2020,2019,2020,2019,2017,2018,2018,2019,2017,2020,2017,2020,2015,2017,2020,2017,2019,2019,2018,2016,2018,2019,2019,2019,2019,2019,2019,2019,2019,2012,2019,2019,2019,2019,2019,2019,2016,2015,2019,2018,2012,2012,2005,2019,2020,2019,2019,2019,2019,2019,2019,2019,2019,2019,2018,2018,2016,2019,2019,2019,2019,2019,2019,2019,2019,2015,2019,2019,2019,2019,2019,2019,2019,2019,2019,2019,2019,2019,2019,2019,2003,2019,2013,2010,2004,2019,2002,2017,2019,2019,2019,2019,2003,2019,2020,2019,2019,2019,2019,2019,2019,2019,2014,2019,2016,2019,2015,2013,2015,2018,2016,2008,2015,2014,2010,2016,2019,2019,2019,2006,2019,2019,2019,2019,2016,2017,2019,2018,2019,2019,2020,2019,2019,2018,2019,2019,2019,2019,2019,2019,2019,2019,2019,2017,2019,2017,2019,2019,2016,2015,2014,2019,2019,2020,2018,2019,2019,2019,2019,2019,2019,2019,2019,2019,2019,2019,2016,2017,2018,2018,2018,2017,2018,2016,2017,2019,2019,2019,2018,2019,2019,2019,2019,2019,2019,2019,2019,2019,2019,2019,2019,2019,2019,2019,2019,2019,2019,2016,2018,2006,2018,2018,2019,2019,2018,2019,2019,2019,2019,2019,2019,2019,2019,2019,2019,2019,2019,2018,2019,2019,2019,2019,2019,2019,2019,2019,2019,2019,2014,2019,2019,2015,2013,2014,2015,2014,2012,2019,2019,2019,2019,2019,2019,2019,2019,2018,2019,2019,2019,2019,2019,2019,2019,2010,2011,2015,2017,2019,2019,2019,2019,2019,2019,2019,2019,2019,2019,2019,2019,2019,2019,2019,2008,2018,2015,2018,2018,2011,2019,2019,2019,2019,2018,2019,2019,2019,2019,2019,2013,1995,2018,2019,2019,2012,2014,2011,2019,2019,2017,2019,2019,2019,2019,2019,2018,2019,2019,2019,2011,2019,2019,2019,2019,2019,2019,2019,2019,2017,2019,2019,2019,2019,2017,2018,2019,2019,2018,2019,2019,2019,2017,2017,2019,2018,2019,2019,2019,2019,2016,2019,2015,2016,2016,2015,2015,2016,2015,2016,2016,2019,2019,2019,2019,2019,2019,2019,2019,2019,2008,2014,2018,2018,2013,2009,2012,2004,2018,2018,2019,2019,2015,2005,2019,2017,2019,2019,2019,2019,2018,2019,2019,2017,2015,2017,2019,2019,2017,2019,2019,2019,2019,2018,2018,2013,2019,2017,2019,2019,2018,2019,2018,2018,2018,2019,2019,2019,2018,2019,2007,2019,2018,2019,2019,2018,2018,2018,2019,2019,2018,2018,2018,2017,2018,2018,2018,2018,2018,2016,2016,2017,2019,2019,2019,2019,2018,2018,2019,2018,2018,2015,2019,2019,2017,2018,2018,2018,2018,2019,2017,2018,2018,2018,2018,2018,2019,2018,2019,2018,2018,2018,2018,2018,2018,2019,2019,2017,2019,2017,2019,2017,2019,2019,2002,2016,2018,2019,2018,2019,2017,2018,2017,2013,2019,2019,2018,2019,1925,2018,2015,2018,2018,2018,2011,2018,2018,2018,2018,2018,2017,2018,2017,2016,2018,2018,2018,2015,2018,2018,2011,2018,2018,2018,2018,2018,2018,2018,2018,2018,2018,2018,2018,2018,2018,2017,2018,2018,2018,2018,2018,2015,2018,2018,2018,2018,2018,2017,2018,2017,2016,2016,2018,2018,2017,2018,2017,2018,2018,2018,2018,2018,2017,2017,2003,2018,2015,2018,2012,2018,2018,2009,2017,2018,2017,2018,2017,2018,2018,2018,2017,2018,2012,2018,2018,2018,2018,2018,2018,2018,2018,2018,2017,2018,2018,2018,2018,2018,2014,2009,1972,1974,2005,2018,2016,2018,2018,2018,2018,2018,2018,2018,2018,2014,2016,2017,2018,2018,2018,2018,2018,2018,2018,2018,2018,2004,2013,2016,2018,2018,2018,2018,2018,2018,2018,2017,2018,2018,2018,2018,2017,2018,2018,2018,2018,2018,2018,2018,2018,2018,2018,2018,2018,2018,2018,2018,2018,2018,2018,2007,2018,2018,2018,2018,2018,2018,2018,2018,2018,2018,2018,2017,2018,2018,2018,2018,2017,2017,2018,2018,2017,2018,2018,2018,2018,2018,2018,2018,2017,2008,2018,2019,2019,2018,2018,2018,2018,2018,2017,2009,2018,2018,2018,2018,2018,2016,2017,2017,2018,2016,2016,2016,2016,2017,2018,2018,2018,2017,2018,2017,1993,2017,2017,2017,2018,2018,2018,2018,2018,2018,2018,2018,2016,2017,2017,2018,2018,2018,2017,2018,2017,2016,2018,2018,2017,2017,2018,2018,2017,2017,2018,2016,2016,2018,2017,2018,2017,2017,2017,2018,2016,2017,2018,2003,2010,2018,2000,2017,2017,2017,2015,2017,2017,2017,2017,2017,2015,2017,2017,2016,2017,2015,2017,2017,2015,2017,2017,2017,2017,2017,2017,2017,2017,2017,2017,2017,2014,2015,2017,2017,2017,2017,2017,2015,2017,2010,2007,2009,2008,2009,2017,2017,2017,2017,2017,2016,2012,2017,2015,2017,2017,2016,2017,2012,2016,2004,2000,2013,2009,2017,2017,2015,2017,2017,2014,2017,2017,2017,2017,2016,2017,2016,2017,2016,2016,2017,2017,2017,2007,1988,2017,2017,2017,2017,2013,2017,2017,2011,2016,2014,2015,2016,2016,2014,2016,2017,2011,2013,2012,2009,2017,2017,2017,2017,2015,2012,2012,2008,2016,2014,2012,2010,2016,2015,2014,2014,2011,2016,2009,2012,2014,2014,2012,2017,2017,2017,2017,2014,2016,2017,2016,2016,2017,2016,2015,2016,2017,2016,2017,2015,2016,2015,2016,2016,2017,2017,2017,2017,2017,2015,2010,2015,2017,2016,2017,2017,2017,2016,2017,2005,2017,2016,2017,2017,2015,2017,2015,2017,2016,2017,2016,2010,2016,2017,2016,2015,2013,2016,2016,2016,2017,2017,1999,2016,2016,2016,2018,2016,2012,2012,2012,2011,2016,2012,2001,2012,2012,2012,2017,2016,2016,2016,2015,2016,2016,2016,2015,2016,2016,2016,2016,2009,2015,2016,2011,2013,2013,2013,2012,2012,2016,2016,2006,2015,2008,2016,2015,2015,2014,2014,2012,2015,2015,2015,2015,2016,2016,2016,2015,2008,2011,2010,2015,2016,2001,2015,2005,2008,2016,2016,2016,2016,2016,2016,2016,2016,2016,2015,2012,2016,2016,2014,2016,2016,2016,2012,2016,2014,2015,2015,2015,2014,2015,2015,1992,2011,2014,1998,2013,2007,2013,2018,2016,2013,2017,2014,2018,2019,2016,2013,2010,2013,2015,2017,2018,2013,2017,2010,2015,2014,2014,2014,2017,2018,2015,2012,2018,2018,2018,2018,2012,2016,2016,2014,2013,2016,2016,2016,2017,2015,2016,2018,2010,2015,2016,2016,2015,2010,2016,2016,2009,2013,2015,1997,2017,2016,2018,2014,2016,2017,1991,2016,2016,2017,2013,2016,2013,2014,2015,2016,2013,2017,2012,2017,2009,2018,2016,2014,2014,2012,2016,2012,2015,2015,2016,2016,1992,2017,1999,2017,1994,2018,2017,2016,2018,2012,2017,2015,2016,2017,2016,2016,2016,2017,1999,2016,2018,2018,2018,2017,2017,1977,2013,2016,2012,2015,2017,2017,2017,2016,2017,2013,2007,2016,2017,2013,2016,2015,2015,2014,2015,2018,2009,2013,2008,2010,1979,2010,2017,2017,2018,2016,2018,2019,2014,2011,2008,2006,2009,2009,2015,2016,2017,2015,2015,2015,2014,2016,2017,2011,2017,2016,2011,2016,2003,2017,2003,2011,2018,2016,2009,2014,2013,2015,2016,2016,2011,2017,2012,2010,2017,2016,2015,2012,2017,2013,2016,2017,2008,2016,2015,2013,2016,2015,2014,2017,2014,2015,2015,2018,2015,2016,2018,2015,2016,1988,2016,2015,2016,2016,2015,2016,2017,2018,2011,2015,2011,2018,2016,2019,2014,2012,2015,2017,2015,2017,2018,2007,2011,2014,2015,2016,2008,2019,2008,2009,2017,2015,2015,2016,2014,2012,2013,1990,2014,1996,2017,2018,2013,2011,2010,2018,2016,2017,2015,2014,2019,2014,2012,2016,2017,2010,2016,2015,2011,2015,2018,2017,2017,2018,2017,2014,2014,2009,2014,2012,2015,2017,2017,2013,2016,2015,2015,2012,2015,2015,2012,2016,2013,2010,2014,2017,2016,2015,2014,2010,2013,2018,2018,2016,2019,2018,2016,2013,2012,2016,2018,2015,2016,2018,1996,2014,2013,2015,2015,2014,2015,2014,2012,2013,2011,2013,2017,2017,2017,2017,2013,1999,2018,2016,2009,2009,2016,2015,2016,2016,1981,1997,2016,2004,2016,2018,2011,2015,2016,2016,2017,2014,2013,2018,2018,2016,2012,2012,2018,2016,2016,2011,2016,2015,2003,2010,1990,2016,2016,1946,2016,2006,2018,2010,2016,2015,2016,2004,1998,2008,2000,1999,2006,2003,2007,2009,2005,2011,2014,2012,2001,1997,2002,1996,2013,2017,2011,2016,2014,2015,2009,2017,2018,2012,2012,2015,2015,2004,2016,2015,2017,2014,2017,2017,2016,2017,2010,1985,2016,2016,2004,1998,2013,2014,2014,2015,2018,2014,2016,2015,2016,1986,2017,2008,2015,2008,2018,2016,2016,2018,2016,2014,2013,2018,2014,2015,2010,2017,2015,2015,2017,2018,2018,2019,2020,2016,2020,2018,2010,2018,1993,2010,2015,2019,2005,2018,2010,2015,1967,2014,2009,2012,2016,2011,2015,2001,2011,2018,2017,2011,2016,2016,2015,2013,2011,2016,2012,2016,2017,2015,2007,2016,2018,2013,2013,2015,2015,2015,2010,2018,2008,2010,2010,2019,2009,2017,2013,2015,2012,2015,2016,2012,2017,2018,2017,2015,2021,2017,2012,2009,2016,2006,2015,2017,2015,2017,2017,2017,1989,2016,2010,1963,2017,2009,2017,2007,2005,2010,2009,2014,2015,2017,2009,2014,2014,2015,2018,2018,2018,2016,2017,1990,2018,2015,1995,2013,2016,2017,2014,2012,2016,2016,2012,2017,2011,2015,2013,2016,2014,2010,2017,2018,2015,2016,2016,2015,2016,2016,2012,2018],\"xaxis\":\"x\",\"yaxis\":\"y\",\"type\":\"histogram\"}],                        {\"template\":{\"data\":{\"histogram2dcontour\":[{\"type\":\"histogram2dcontour\",\"colorbar\":{\"outlinewidth\":0,\"ticks\":\"\"},\"colorscale\":[[0.0,\"#0d0887\"],[0.1111111111111111,\"#46039f\"],[0.2222222222222222,\"#7201a8\"],[0.3333333333333333,\"#9c179e\"],[0.4444444444444444,\"#bd3786\"],[0.5555555555555556,\"#d8576b\"],[0.6666666666666666,\"#ed7953\"],[0.7777777777777778,\"#fb9f3a\"],[0.8888888888888888,\"#fdca26\"],[1.0,\"#f0f921\"]]}],\"choropleth\":[{\"type\":\"choropleth\",\"colorbar\":{\"outlinewidth\":0,\"ticks\":\"\"}}],\"histogram2d\":[{\"type\":\"histogram2d\",\"colorbar\":{\"outlinewidth\":0,\"ticks\":\"\"},\"colorscale\":[[0.0,\"#0d0887\"],[0.1111111111111111,\"#46039f\"],[0.2222222222222222,\"#7201a8\"],[0.3333333333333333,\"#9c179e\"],[0.4444444444444444,\"#bd3786\"],[0.5555555555555556,\"#d8576b\"],[0.6666666666666666,\"#ed7953\"],[0.7777777777777778,\"#fb9f3a\"],[0.8888888888888888,\"#fdca26\"],[1.0,\"#f0f921\"]]}],\"heatmap\":[{\"type\":\"heatmap\",\"colorbar\":{\"outlinewidth\":0,\"ticks\":\"\"},\"colorscale\":[[0.0,\"#0d0887\"],[0.1111111111111111,\"#46039f\"],[0.2222222222222222,\"#7201a8\"],[0.3333333333333333,\"#9c179e\"],[0.4444444444444444,\"#bd3786\"],[0.5555555555555556,\"#d8576b\"],[0.6666666666666666,\"#ed7953\"],[0.7777777777777778,\"#fb9f3a\"],[0.8888888888888888,\"#fdca26\"],[1.0,\"#f0f921\"]]}],\"heatmapgl\":[{\"type\":\"heatmapgl\",\"colorbar\":{\"outlinewidth\":0,\"ticks\":\"\"},\"colorscale\":[[0.0,\"#0d0887\"],[0.1111111111111111,\"#46039f\"],[0.2222222222222222,\"#7201a8\"],[0.3333333333333333,\"#9c179e\"],[0.4444444444444444,\"#bd3786\"],[0.5555555555555556,\"#d8576b\"],[0.6666666666666666,\"#ed7953\"],[0.7777777777777778,\"#fb9f3a\"],[0.8888888888888888,\"#fdca26\"],[1.0,\"#f0f921\"]]}],\"contourcarpet\":[{\"type\":\"contourcarpet\",\"colorbar\":{\"outlinewidth\":0,\"ticks\":\"\"}}],\"contour\":[{\"type\":\"contour\",\"colorbar\":{\"outlinewidth\":0,\"ticks\":\"\"},\"colorscale\":[[0.0,\"#0d0887\"],[0.1111111111111111,\"#46039f\"],[0.2222222222222222,\"#7201a8\"],[0.3333333333333333,\"#9c179e\"],[0.4444444444444444,\"#bd3786\"],[0.5555555555555556,\"#d8576b\"],[0.6666666666666666,\"#ed7953\"],[0.7777777777777778,\"#fb9f3a\"],[0.8888888888888888,\"#fdca26\"],[1.0,\"#f0f921\"]]}],\"surface\":[{\"type\":\"surface\",\"colorbar\":{\"outlinewidth\":0,\"ticks\":\"\"},\"colorscale\":[[0.0,\"#0d0887\"],[0.1111111111111111,\"#46039f\"],[0.2222222222222222,\"#7201a8\"],[0.3333333333333333,\"#9c179e\"],[0.4444444444444444,\"#bd3786\"],[0.5555555555555556,\"#d8576b\"],[0.6666666666666666,\"#ed7953\"],[0.7777777777777778,\"#fb9f3a\"],[0.8888888888888888,\"#fdca26\"],[1.0,\"#f0f921\"]]}],\"mesh3d\":[{\"type\":\"mesh3d\",\"colorbar\":{\"outlinewidth\":0,\"ticks\":\"\"}}],\"scatter\":[{\"fillpattern\":{\"fillmode\":\"overlay\",\"size\":10,\"solidity\":0.2},\"type\":\"scatter\"}],\"parcoords\":[{\"type\":\"parcoords\",\"line\":{\"colorbar\":{\"outlinewidth\":0,\"ticks\":\"\"}}}],\"scatterpolargl\":[{\"type\":\"scatterpolargl\",\"marker\":{\"colorbar\":{\"outlinewidth\":0,\"ticks\":\"\"}}}],\"bar\":[{\"error_x\":{\"color\":\"#2a3f5f\"},\"error_y\":{\"color\":\"#2a3f5f\"},\"marker\":{\"line\":{\"color\":\"#E5ECF6\",\"width\":0.5},\"pattern\":{\"fillmode\":\"overlay\",\"size\":10,\"solidity\":0.2}},\"type\":\"bar\"}],\"scattergeo\":[{\"type\":\"scattergeo\",\"marker\":{\"colorbar\":{\"outlinewidth\":0,\"ticks\":\"\"}}}],\"scatterpolar\":[{\"type\":\"scatterpolar\",\"marker\":{\"colorbar\":{\"outlinewidth\":0,\"ticks\":\"\"}}}],\"histogram\":[{\"marker\":{\"pattern\":{\"fillmode\":\"overlay\",\"size\":10,\"solidity\":0.2}},\"type\":\"histogram\"}],\"scattergl\":[{\"type\":\"scattergl\",\"marker\":{\"colorbar\":{\"outlinewidth\":0,\"ticks\":\"\"}}}],\"scatter3d\":[{\"type\":\"scatter3d\",\"line\":{\"colorbar\":{\"outlinewidth\":0,\"ticks\":\"\"}},\"marker\":{\"colorbar\":{\"outlinewidth\":0,\"ticks\":\"\"}}}],\"scattermapbox\":[{\"type\":\"scattermapbox\",\"marker\":{\"colorbar\":{\"outlinewidth\":0,\"ticks\":\"\"}}}],\"scatterternary\":[{\"type\":\"scatterternary\",\"marker\":{\"colorbar\":{\"outlinewidth\":0,\"ticks\":\"\"}}}],\"scattercarpet\":[{\"type\":\"scattercarpet\",\"marker\":{\"colorbar\":{\"outlinewidth\":0,\"ticks\":\"\"}}}],\"carpet\":[{\"aaxis\":{\"endlinecolor\":\"#2a3f5f\",\"gridcolor\":\"white\",\"linecolor\":\"white\",\"minorgridcolor\":\"white\",\"startlinecolor\":\"#2a3f5f\"},\"baxis\":{\"endlinecolor\":\"#2a3f5f\",\"gridcolor\":\"white\",\"linecolor\":\"white\",\"minorgridcolor\":\"white\",\"startlinecolor\":\"#2a3f5f\"},\"type\":\"carpet\"}],\"table\":[{\"cells\":{\"fill\":{\"color\":\"#EBF0F8\"},\"line\":{\"color\":\"white\"}},\"header\":{\"fill\":{\"color\":\"#C8D4E3\"},\"line\":{\"color\":\"white\"}},\"type\":\"table\"}],\"barpolar\":[{\"marker\":{\"line\":{\"color\":\"#E5ECF6\",\"width\":0.5},\"pattern\":{\"fillmode\":\"overlay\",\"size\":10,\"solidity\":0.2}},\"type\":\"barpolar\"}],\"pie\":[{\"automargin\":true,\"type\":\"pie\"}]},\"layout\":{\"autotypenumbers\":\"strict\",\"colorway\":[\"#636efa\",\"#EF553B\",\"#00cc96\",\"#ab63fa\",\"#FFA15A\",\"#19d3f3\",\"#FF6692\",\"#B6E880\",\"#FF97FF\",\"#FECB52\"],\"font\":{\"color\":\"#2a3f5f\"},\"hovermode\":\"closest\",\"hoverlabel\":{\"align\":\"left\"},\"paper_bgcolor\":\"white\",\"plot_bgcolor\":\"#E5ECF6\",\"polar\":{\"bgcolor\":\"#E5ECF6\",\"angularaxis\":{\"gridcolor\":\"white\",\"linecolor\":\"white\",\"ticks\":\"\"},\"radialaxis\":{\"gridcolor\":\"white\",\"linecolor\":\"white\",\"ticks\":\"\"}},\"ternary\":{\"bgcolor\":\"#E5ECF6\",\"aaxis\":{\"gridcolor\":\"white\",\"linecolor\":\"white\",\"ticks\":\"\"},\"baxis\":{\"gridcolor\":\"white\",\"linecolor\":\"white\",\"ticks\":\"\"},\"caxis\":{\"gridcolor\":\"white\",\"linecolor\":\"white\",\"ticks\":\"\"}},\"coloraxis\":{\"colorbar\":{\"outlinewidth\":0,\"ticks\":\"\"}},\"colorscale\":{\"sequential\":[[0.0,\"#0d0887\"],[0.1111111111111111,\"#46039f\"],[0.2222222222222222,\"#7201a8\"],[0.3333333333333333,\"#9c179e\"],[0.4444444444444444,\"#bd3786\"],[0.5555555555555556,\"#d8576b\"],[0.6666666666666666,\"#ed7953\"],[0.7777777777777778,\"#fb9f3a\"],[0.8888888888888888,\"#fdca26\"],[1.0,\"#f0f921\"]],\"sequentialminus\":[[0.0,\"#0d0887\"],[0.1111111111111111,\"#46039f\"],[0.2222222222222222,\"#7201a8\"],[0.3333333333333333,\"#9c179e\"],[0.4444444444444444,\"#bd3786\"],[0.5555555555555556,\"#d8576b\"],[0.6666666666666666,\"#ed7953\"],[0.7777777777777778,\"#fb9f3a\"],[0.8888888888888888,\"#fdca26\"],[1.0,\"#f0f921\"]],\"diverging\":[[0,\"#8e0152\"],[0.1,\"#c51b7d\"],[0.2,\"#de77ae\"],[0.3,\"#f1b6da\"],[0.4,\"#fde0ef\"],[0.5,\"#f7f7f7\"],[0.6,\"#e6f5d0\"],[0.7,\"#b8e186\"],[0.8,\"#7fbc41\"],[0.9,\"#4d9221\"],[1,\"#276419\"]]},\"xaxis\":{\"gridcolor\":\"white\",\"linecolor\":\"white\",\"ticks\":\"\",\"title\":{\"standoff\":15},\"zerolinecolor\":\"white\",\"automargin\":true,\"zerolinewidth\":2},\"yaxis\":{\"gridcolor\":\"white\",\"linecolor\":\"white\",\"ticks\":\"\",\"title\":{\"standoff\":15},\"zerolinecolor\":\"white\",\"automargin\":true,\"zerolinewidth\":2},\"scene\":{\"xaxis\":{\"backgroundcolor\":\"#E5ECF6\",\"gridcolor\":\"white\",\"linecolor\":\"white\",\"showbackground\":true,\"ticks\":\"\",\"zerolinecolor\":\"white\",\"gridwidth\":2},\"yaxis\":{\"backgroundcolor\":\"#E5ECF6\",\"gridcolor\":\"white\",\"linecolor\":\"white\",\"showbackground\":true,\"ticks\":\"\",\"zerolinecolor\":\"white\",\"gridwidth\":2},\"zaxis\":{\"backgroundcolor\":\"#E5ECF6\",\"gridcolor\":\"white\",\"linecolor\":\"white\",\"showbackground\":true,\"ticks\":\"\",\"zerolinecolor\":\"white\",\"gridwidth\":2}},\"shapedefaults\":{\"line\":{\"color\":\"#2a3f5f\"}},\"annotationdefaults\":{\"arrowcolor\":\"#2a3f5f\",\"arrowhead\":0,\"arrowwidth\":1},\"geo\":{\"bgcolor\":\"white\",\"landcolor\":\"#E5ECF6\",\"subunitcolor\":\"white\",\"showland\":true,\"showlakes\":true,\"lakecolor\":\"white\"},\"title\":{\"x\":0.05},\"mapbox\":{\"style\":\"light\"}}},\"xaxis\":{\"anchor\":\"y\",\"domain\":[0.0,1.0],\"title\":{\"text\":\"release_year\"}},\"yaxis\":{\"anchor\":\"x\",\"domain\":[0.0,1.0],\"title\":{\"text\":\"count\"}},\"legend\":{\"title\":{\"text\":\"type\"},\"tracegroupgap\":0},\"margin\":{\"t\":60},\"barmode\":\"relative\",\"bargap\":0.1},                        {\"responsive\": true}                    ).then(function(){\n",
       "                            \n",
       "var gd = document.getElementById('b66ab9b3-7d13-48bb-bb10-c2d244ef113b');\n",
       "var x = new MutationObserver(function (mutations, observer) {{\n",
       "        var display = window.getComputedStyle(gd).display;\n",
       "        if (!display || display === 'none') {{\n",
       "            console.log([gd, 'removed!']);\n",
       "            Plotly.purge(gd);\n",
       "            observer.disconnect();\n",
       "        }}\n",
       "}});\n",
       "\n",
       "// Listen for the removal of the full notebook cells\n",
       "var notebookContainer = gd.closest('#notebook-container');\n",
       "if (notebookContainer) {{\n",
       "    x.observe(notebookContainer, {childList: true});\n",
       "}}\n",
       "\n",
       "// Listen for the clearing of the current output cell\n",
       "var outputEl = gd.closest('.output');\n",
       "if (outputEl) {{\n",
       "    x.observe(outputEl, {childList: true});\n",
       "}}\n",
       "\n",
       "                        })                };                });            </script>        </div>"
      ]
     },
     "metadata": {},
     "output_type": "display_data"
    }
   ],
   "source": [
    "a=px.histogram(data, x=\"release_year\",color=\"type\")\n",
    "a.update_layout(bargap=0.1)\n",
    "a.show()"
   ]
  },
  {
   "cell_type": "markdown",
   "id": "a764e0ca",
   "metadata": {
    "papermill": {
     "duration": 0.018487,
     "end_time": "2022-07-21T14:28:29.286372",
     "exception": false,
     "start_time": "2022-07-21T14:28:29.267885",
     "status": "completed"
    },
    "tags": []
   },
   "source": [
    "# Moovies vs TV shows"
   ]
  },
  {
   "cell_type": "code",
   "execution_count": 33,
   "id": "279b1746",
   "metadata": {
    "execution": {
     "iopub.execute_input": "2022-07-21T14:28:29.328400Z",
     "iopub.status.busy": "2022-07-21T14:28:29.327260Z",
     "iopub.status.idle": "2022-07-21T14:28:29.485889Z",
     "shell.execute_reply": "2022-07-21T14:28:29.484761Z"
    },
    "papermill": {
     "duration": 0.182831,
     "end_time": "2022-07-21T14:28:29.488504",
     "exception": false,
     "start_time": "2022-07-21T14:28:29.305673",
     "status": "completed"
    },
    "tags": []
   },
   "outputs": [
    {
     "data": {
      "text/plain": [
       "<AxesSubplot:>"
      ]
     },
     "execution_count": 33,
     "metadata": {},
     "output_type": "execute_result"
    },
    {
     "data": {
      "image/png": "[encoded data removed]",
      "text/plain": [
       "<Figure size 432x288 with 1 Axes>"
      ]
     },
     "metadata": {
      "needs_background": "light"
     },
     "output_type": "display_data"
    }
   ],
   "source": [
    "data[\"type\"].value_counts().plot(kind=\"bar\",color=[\"red\",\"black\"])"
   ]
  },
  {
   "cell_type": "code",
   "execution_count": 34,
   "id": "58f4c786",
   "metadata": {
    "execution": {
     "iopub.execute_input": "2022-07-21T14:28:29.528617Z",
     "iopub.status.busy": "2022-07-21T14:28:29.527937Z",
     "iopub.status.idle": "2022-07-21T14:28:29.656861Z",
     "shell.execute_reply": "2022-07-21T14:28:29.655440Z"
    },
    "papermill": {
     "duration": 0.153217,
     "end_time": "2022-07-21T14:28:29.660669",
     "exception": false,
     "start_time": "2022-07-21T14:28:29.507452",
     "status": "completed"
    },
    "tags": []
   },
   "outputs": [
    {
     "data": {
      "image/png": "[encoded data removed]",
      "text/plain": [
       "<Figure size 432x288 with 1 Axes>"
      ]
     },
     "metadata": {},
     "output_type": "display_data"
    }
   ],
   "source": [
    "x=data[\"type\"].value_counts()\n",
    "plt.title(\"moovie vs t v shows\") \n",
    "x.plot.pie(autopct=\"%0.2f%%\",shadow=True,startangle=90,explode=(0.06,0.12))\n",
    "plt.show()"
   ]
  },
  {
   "cell_type": "markdown",
   "id": "08be0062",
   "metadata": {
    "papermill": {
     "duration": 0.038054,
     "end_time": "2022-07-21T14:28:29.739482",
     "exception": false,
     "start_time": "2022-07-21T14:28:29.701428",
     "status": "completed"
    },
    "tags": []
   },
   "source": [
    "# Top Directors"
   ]
  },
  {
   "cell_type": "code",
   "execution_count": 35,
   "id": "4c200856",
   "metadata": {
    "execution": {
     "iopub.execute_input": "2022-07-21T14:28:29.780919Z",
     "iopub.status.busy": "2022-07-21T14:28:29.779651Z",
     "iopub.status.idle": "2022-07-21T14:28:30.013733Z",
     "shell.execute_reply": "2022-07-21T14:28:30.012368Z"
    },
    "papermill": {
     "duration": 0.257303,
     "end_time": "2022-07-21T14:28:30.016188",
     "exception": false,
     "start_time": "2022-07-21T14:28:29.758885",
     "status": "completed"
    },
    "tags": []
   },
   "outputs": [
    {
     "data": {
      "text/plain": [
       "Text(0, 0.5, 'country')"
      ]
     },
     "execution_count": 35,
     "metadata": {},
     "output_type": "execute_result"
    },
    {
     "data": {
      "image/png": "[encoded data removed]",
      "text/plain": [
       "<Figure size 864x432 with 1 Axes>"
      ]
     },
     "metadata": {
      "needs_background": "light"
     },
     "output_type": "display_data"
    }
   ],
   "source": [
    "plt.figure(figsize = (12,6))\n",
    "\n",
    "sns.countplot(y='country',order=data['country'].value_counts().index[ :10],data=data)\n",
    "plt.title(\"top 20 country based on no of moovie and t v shows\")\n",
    "plt.xlabel(\"no of mooovie and t v shows\")\n",
    "plt.ylabel(\"country\")"
   ]
  },
  {
   "cell_type": "markdown",
   "id": "daa5a3be",
   "metadata": {
    "papermill": {
     "duration": 0.019948,
     "end_time": "2022-07-21T14:28:30.055826",
     "exception": false,
     "start_time": "2022-07-21T14:28:30.035878",
     "status": "completed"
    },
    "tags": []
   },
   "source": [
    "# Duration"
   ]
  },
  {
   "cell_type": "code",
   "execution_count": 36,
   "id": "d48e5371",
   "metadata": {
    "execution": {
     "iopub.execute_input": "2022-07-21T14:28:30.097810Z",
     "iopub.status.busy": "2022-07-21T14:28:30.097011Z",
     "iopub.status.idle": "2022-07-21T14:28:30.328326Z",
     "shell.execute_reply": "2022-07-21T14:28:30.327080Z"
    },
    "papermill": {
     "duration": 0.25516,
     "end_time": "2022-07-21T14:28:30.330614",
     "exception": false,
     "start_time": "2022-07-21T14:28:30.075454",
     "status": "completed"
    },
    "tags": []
   },
   "outputs": [
    {
     "data": {
      "image/png": "[encoded data removed]",
      "text/plain": [
       "<Figure size 720x432 with 1 Axes>"
      ]
     },
     "metadata": {
      "needs_background": "light"
     },
     "output_type": "display_data"
    }
   ],
   "source": [
    "plt.figure(figsize=(10,6))\n",
    "moovies_data['duration'].value_counts().head(6).plot(kind='bar',color='red')\n",
    "tv_show['duration'].value_counts().head(6).plot(kind='bar',color='black')\n",
    "plt.xlabel('duration')\n",
    "plt.ylabel('count')\n",
    "plt.legend()\n",
    "\n",
    "plt.show()"
   ]
  },
  {
   "cell_type": "code",
   "execution_count": 37,
   "id": "01adf0ff",
   "metadata": {
    "execution": {
     "iopub.execute_input": "2022-07-21T14:28:30.374265Z",
     "iopub.status.busy": "2022-07-21T14:28:30.373583Z",
     "iopub.status.idle": "2022-07-21T14:28:30.557658Z",
     "shell.execute_reply": "2022-07-21T14:28:30.556500Z"
    },
    "papermill": {
     "duration": 0.208944,
     "end_time": "2022-07-21T14:28:30.560043",
     "exception": false,
     "start_time": "2022-07-21T14:28:30.351099",
     "status": "completed"
    },
    "tags": []
   },
   "outputs": [
    {
     "data": {
      "text/plain": [
       "<AxesSubplot:xlabel='duration', ylabel='count'>"
      ]
     },
     "execution_count": 37,
     "metadata": {},
     "output_type": "execute_result"
    },
    {
     "data": {
      "image/png": "[encoded data removed]",
      "text/plain": [
       "<Figure size 432x288 with 1 Axes>"
      ]
     },
     "metadata": {
      "needs_background": "light"
     },
     "output_type": "display_data"
    }
   ],
   "source": [
    "\n",
    "sns.countplot(x=data['duration'],order=data.duration.value_counts().index[ :6])\n"
   ]
  },
  {
   "cell_type": "markdown",
   "id": "4d0f332c",
   "metadata": {
    "papermill": {
     "duration": 0.021019,
     "end_time": "2022-07-21T14:28:30.601535",
     "exception": false,
     "start_time": "2022-07-21T14:28:30.580516",
     "status": "completed"
    },
    "tags": []
   },
   "source": [
    "# Listed in "
   ]
  },
  {
   "cell_type": "code",
   "execution_count": 38,
   "id": "273fff2e",
   "metadata": {
    "execution": {
     "iopub.execute_input": "2022-07-21T14:28:30.644684Z",
     "iopub.status.busy": "2022-07-21T14:28:30.644278Z",
     "iopub.status.idle": "2022-07-21T14:28:30.937607Z",
     "shell.execute_reply": "2022-07-21T14:28:30.936263Z"
    },
    "papermill": {
     "duration": 0.318047,
     "end_time": "2022-07-21T14:28:30.940336",
     "exception": false,
     "start_time": "2022-07-21T14:28:30.622289",
     "status": "completed"
    },
    "tags": []
   },
   "outputs": [
    {
     "data": {
      "image/png": "[encoded data removed]",
      "text/plain": [
       "<Figure size 1008x504 with 1 Axes>"
      ]
     },
     "metadata": {
      "needs_background": "light"
     },
     "output_type": "display_data"
    }
   ],
   "source": [
    "b=data.listed_in.str.split(', ' , expand=True).stack().reset_index(level=1,drop=True)\n",
    "plt.figure(figsize=(14,7))\n",
    "plt.title('listed in ')\n",
    "\n",
    "sns.countplot(y=b,order=b.value_counts().index[ :15])\n",
    "plt.xlabel('count')\n",
    "plt.ylabel('listed top 15')\n",
    "\n",
    "plt.show()"
   ]
  },
  {
   "cell_type": "code",
   "execution_count": 39,
   "id": "f277cb46",
   "metadata": {
    "execution": {
     "iopub.execute_input": "2022-07-21T14:28:30.983925Z",
     "iopub.status.busy": "2022-07-21T14:28:30.983258Z",
     "iopub.status.idle": "2022-07-21T14:28:31.162974Z",
     "shell.execute_reply": "2022-07-21T14:28:31.161745Z"
    },
    "papermill": {
     "duration": 0.205868,
     "end_time": "2022-07-21T14:28:31.166871",
     "exception": false,
     "start_time": "2022-07-21T14:28:30.961003",
     "status": "completed"
    },
    "tags": []
   },
   "outputs": [
    {
     "data": {
      "text/plain": [
       "<AxesSubplot:ylabel='None'>"
      ]
     },
     "execution_count": 39,
     "metadata": {},
     "output_type": "execute_result"
    },
    {
     "data": {
      "image/png": "[encoded data removed]",
      "text/plain": [
       "<Figure size 432x288 with 1 Axes>"
      ]
     },
     "metadata": {},
     "output_type": "display_data"
    }
   ],
   "source": [
    "b.value_counts()[ :7].plot(kind='pie',autopct='%.0f%%',explode=[0.3,0.1,0.1,0.1,0.1,0.1,0.1],shadow='True')"
   ]
  },
  {
   "cell_type": "markdown",
   "id": "8898a0e8",
   "metadata": {
    "papermill": {
     "duration": 0.027927,
     "end_time": "2022-07-21T14:28:31.238333",
     "exception": false,
     "start_time": "2022-07-21T14:28:31.210406",
     "status": "completed"
    },
    "tags": []
   },
   "source": [
    "# Rating"
   ]
  },
  {
   "cell_type": "code",
   "execution_count": 40,
   "id": "c70f38cb",
   "metadata": {
    "execution": {
     "iopub.execute_input": "2022-07-21T14:28:31.284844Z",
     "iopub.status.busy": "2022-07-21T14:28:31.284147Z",
     "iopub.status.idle": "2022-07-21T14:28:31.377658Z",
     "shell.execute_reply": "2022-07-21T14:28:31.376772Z"
    },
    "papermill": {
     "duration": 0.120546,
     "end_time": "2022-07-21T14:28:31.380926",
     "exception": false,
     "start_time": "2022-07-21T14:28:31.260380",
     "status": "completed"
    },
    "tags": []
   },
   "outputs": [
    {
     "data": {
      "text/html": [
       "<div>                            <div id=\"f0224d8a-8240-4ba2-bd71-6684b14d1840\" class=\"plotly-graph-div\" style=\"height:525px; width:100%;\"></div>            <script type=\"text/javascript\">                require([\"plotly\"], function(Plotly) {                    window.PLOTLYENV=window.PLOTLYENV || {};                                    if (document.getElementById(\"f0224d8a-8240-4ba2-bd71-6684b14d1840\")) {                    Plotly.newPlot(                        \"f0224d8a-8240-4ba2-bd71-6684b14d1840\",                        [{\"alignmentgroup\":\"True\",\"bingroup\":\"x\",\"hovertemplate\":\"type=Movie<br>rating=%{x}<br>count=%{y}<extra></extra>\",\"legendgroup\":\"Movie\",\"marker\":{\"color\":\"#636efa\",\"pattern\":{\"shape\":\"\"}},\"name\":\"Movie\",\"offsetgroup\":\"Movie\",\"orientation\":\"v\",\"showlegend\":true,\"x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missing\",\"TV-MA\",\"TV-MA\",\"TV-14\",\"TV-MA\",\"TV-14\",\"TV-MA\",\"TV-14\",\"TV-MA\",\"TV-MA\",\"TV-MA\",\"TV-MA\",\"TV-MA\",\"TV-MA\",\"TV-MA\",\"TV-14\",\"TV-MA\",\"TV-MA\",\"TV-14\",\"TV-MA\",\"PG\",\"R\",\"TV-MA\",\"TV-PG\",\"TV-14\",\"TV-MA\",\"TV-MA\",\"TV-MA\",\"TV-PG\",\"TV-MA\",\"TV-MA\",\"TV-MA\",\"TV-14\",\"TV-MA\",\"TV-MA\",\"TV-MA\",\"TV-14\",\"TV-MA\",\"G\",\"G\",\"TV-MA\",\"TV-MA\",\"TV-MA\",\"TV-MA\",\"TV-MA\",\"TV-MA\",\"TV-MA\",\"TV-MA\",\"TV-MA\",\"TV-MA\",\"TV-MA\",\"TV-MA\",\"TV-MA\",\"TV-PG\",\"TV-14\",\"TV-14\",\"TV-MA\",\"TV-MA\",\"TV-Y\",\"TV-MA\",\"TV-MA\",\"TV-14\",\"TV-MA\",\"TV-MA\",\"TV-MA\",\"TV-MA\",\"TV-14\",\"TV-MA\",\"TV-MA\",\"TV-MA\",\"TV-PG\",\"TV-MA\",\"TV-MA\",\"TV-14\",\"TV-MA\",\"TV-MA\",\"TV-14\",\"PG-13\",\"TV-14\",\"TV-Y7\",\"TV-MA\",\"PG\",\"TV-MA\",\"TV-MA\",\"PG\",\"TV-MA\",\"TV-MA\",\"TV-MA\",\"TV-MA\",\"TV-MA\",\"TV-Y7\",\"TV-14\",\"TV-MA\",\"TV-MA\",\"TV-MA\",\"TV-MA\",\"TV-PG\",\"TV-MA\",\"TV-MA\",\"TV-G\",\"TV-14\",\"TV-MA\",\"TV-MA\",\"TV-14\",\"TV-MA\",\"TV-MA\",\"TV-14\",\"TV-MA\",\"TV-PG\",\"TV-14\",\"TV-PG\",\"TV-14\",\"TV-MA\",\"TV-MA\",\"TV-MA\",\"TV-14\",\"TV-MA\",\"TV-MA\",\"TV-MA\",\"TV-14\",\"TV-MA\",\"TV-MA\",\"TV-MA\",\"TV-MA\",\"TV-MA\",\"TV-MA\",\"TV-14\",\"TV-MA\",\"TV-MA\",\"TV-14\",\"TV-PG\",\"TV-MA\",\"TV-Y\",\"TV-MA\",\"G\",\"TV-14\",\"TV-PG\",\"TV-14\",\"TV-MA\",\"TV-MA\",\"TV-MA\",\"TV-MA\",\"TV-MA\",\"TV-MA\",\"TV-PG\",\"TV-14\",\"TV-14\",\"TV-MA\",\"TV-MA\",\"TV-MA\",\"TV-MA\",\"TV-MA\",\"TV-MA\",\"TV-Y7\",\"TV-MA\",\"TV-MA\",\"TV-MA\",\"TV-MA\",\"TV-MA\",\"TV-Y7\",\"TV-Y7\",\"TV-14\",\"TV-MA\",\"TV-MA\",\"TV-MA\",\"TV-MA\",\"TV-MA\",\"TV-MA\",\"TV-MA\",\"TV-MA\",\"TV-MA\",\"TV-MA\",\"TV-MA\",\"TV-MA\",\"TV-MA\",\"TV-MA\",\"missing\",\"TV-PG\",\"TV-14\",\"TV-PG\",\"TV-MA\",\"TV-14\",\"TV-14\",\"TV-MA\",\"TV-MA\",\"missing\",\"TV-14\",\"TV-14\",\"TV-PG\",\"TV-14\",\"TV-14\",\"TV-MA\",\"TV-MA\",\"TV-MA\",\"TV-MA\",\"TV-14\",\"TV-MA\",\"TV-MA\",\"TV-MA\",\"R\",\"TV-MA\",\"TV-MA\",\"TV-MA\",\"TV-MA\",\"TV-MA\",\"PG-13\",\"TV-MA\",\"TV-MA\",\"TV-MA\",\"TV-MA\",\"TV-MA\",\"TV-MA\",\"TV-MA\",\"R\",\"TV-MA\",\"TV-PG\",\"R\",\"TV-MA\",\"TV-14\",\"TV-PG\",\"PG-13\",\"PG\",\"TV-MA\",\"TV-MA\",\"R\",\"R\",\"TV-MA\",\"TV-MA\",\"TV-MA\",\"TV-14\",\"TV-MA\",\"TV-14\",\"TV-MA\",\"TV-MA\",\"TV-MA\",\"TV-Y\",\"R\",\"TV-MA\",\"TV-MA\",\"TV-MA\",\"TV-MA\",\"TV-14\",\"TV-14\",\"TV-PG\",\"TV-MA\",\"TV-MA\",\"TV-14\",\"R\",\"TV-MA\",\"TV-MA\",\"TV-14\",\"TV-MA\",\"TV-MA\",\"TV-MA\",\"TV-MA\",\"TV-14\",\"TV-MA\",\"TV-MA\",\"TV-MA\",\"TV-MA\",\"TV-14\",\"TV-MA\",\"TV-MA\",\"TV-MA\",\"TV-MA\",\"TV-MA\",\"TV-MA\",\"TV-MA\",\"TV-MA\",\"TV-14\",\"TV-PG\",\"TV-MA\",\"TV-14\",\"TV-PG\",\"TV-MA\",\"TV-G\",\"PG\",\"TV-MA\",\"PG\",\"TV-14\",\"TV-MA\",\"TV-14\",\"TV-14\",\"TV-PG\",\"TV-PG\",\"TV-PG\",\"TV-MA\",\"TV-PG\",\"TV-14\",\"TV-14\",\"TV-PG\",\"TV-MA\",\"TV-MA\",\"TV-MA\",\"TV-MA\",\"PG-13\",\"PG-13\",\"R\",\"TV-14\",\"TV-MA\",\"TV-14\",\"R\",\"TV-14\",\"TV-PG\",\"TV-14\",\"TV-14\",\"TV-14\",\"NR\",\"TV-14\",\"TV-14\",\"TV-MA\",\"TV-MA\",\"PG-13\",\"TV-PG\",\"TV-14\",\"PG-13\",\"TV-MA\",\"TV-14\",\"TV-MA\",\"NR\",\"R\",\"missing rating\",\"R\",\"TV-MA\",\"PG-13\",\"PG-13\",\"TV-MA\",\"TV-MA\",\"PG-13\",\"TV-PG\",\"TV-14\",\"R\",\"R\",\"TV-MA\",\"R\",\"TV-MA\",\"TV-MA\",\"PG-13\",\"TV-MA\",\"PG-13\",\"TV-PG\",\"TV-PG\",\"TV-14\",\"R\",\"TV-14\",\"TV-MA\",\"NR\",\"TV-MA\",\"R\",\"PG-13\",\"R\",\"TV-14\",\"R\",\"TV-MA\",\"R\",\"TV-PG\",\"R\",\"TV-14\",\"PG\",\"PG\",\"R\",\"R\",\"TV-PG\",\"R\",\"TV-14\",\"R\",\"TV-MA\",\"R\",\"TV-14\",\"TV-G\",\"R\",\"TV-MA\",\"TV-MA\",\"R\",\"PG-13\",\"TV-14\",\"PG-13\",\"TV-MA\",\"TV-MA\",\"R\",\"TV-PG\",\"NR\",\"TV-MA\",\"PG-13\",\"R\",\"TV-PG\",\"PG-13\",\"R\",\"PG-13\",\"PG\",\"TV-MA\",\"TV-14\",\"PG\",\"TV-MA\",\"PG\",\"TV-MA\",\"TV-MA\",\"TV-PG\",\"TV-14\",\"TV-14\",\"TV-14\",\"TV-PG\",\"TV-MA\",\"TV-14\",\"TV-Y7\",\"PG-13\",\"TV-MA\",\"TV-MA\",\"TV-MA\",\"PG-13\",\"R\",\"NR\",\"R\",\"TV-14\",\"R\",\"TV-14\",\"NR\",\"NR\",\"TV-MA\",\"TV-MA\",\"R\",\"TV-MA\",\"TV-14\",\"R\",\"TV-14\",\"TV-14\",\"TV-MA\",\"TV-PG\",\"TV-MA\",\"PG\",\"TV-PG\",\"PG\",\"TV-14\",\"R\",\"G\",\"TV-MA\",\"TV-G\",\"TV-MA\",\"R\",\"R\",\"R\",\"R\",\"TV-G\",\"TV-Y7\",\"TV-G\",\"TV-14\",\"TV-MA\",\"TV-14\",\"TV-14\",\"TV-MA\",\"R\",\"R\",\"TV-14\",\"TV-MA\",\"TV-14\",\"TV-MA\",\"R\",\"R\",\"R\",\"TV-MA\",\"R\",\"TV-MA\",\"R\",\"TV-PG\",\"G\",\"G\",\"G\",\"G\",\"TV-14\",\"TV-PG\",\"TV-MA\",\"TV-MA\",\"TV-MA\",\"R\",\"R\",\"PG-13\",\"TV-MA\",\"TV-14\",\"TV-PG\",\"TV-PG\",\"PG-13\",\"TV-MA\",\"TV-Y7\",\"TV-MA\",\"TV-14\",\"TV-MA\",\"NR\",\"PG-13\",\"PG\",\"TV-14\",\"TV-14\",\"TV-14\",\"PG-13\",\"PG\",\"R\",\"PG-13\",\"TV-MA\",\"NR\",\"TV-MA\",\"TV-14\",\"TV-14\",\"TV-14\",\"TV-14\",\"TV-PG\",\"R\",\"PG-13\",\"TV-MA\",\"TV-14\",\"TV-14\",\"TV-14\",\"R\",\"TV-MA\",\"NR\",\"NR\",\"TV-MA\",\"R\",\"R\",\"R\",\"TV-MA\",\"TV-MA\",\"TV-14\",\"TV-14\",\"G\",\"G\",\"G\",\"TV-MA\",\"TV-14\",\"R\",\"NR\",\"TV-MA\",\"TV-MA\",\"TV-14\",\"TV-MA\",\"TV-14\",\"TV-MA\",\"TV-Y\",\"TV-Y\",\"TV-Y\",\"TV-Y\",\"TV-Y\",\"TV-Y7\",\"TV-Y\",\"TV-Y\",\"TV-Y\",\"TV-Y\",\"PG-13\",\"TV-14\",\"TV-PG\",\"R\",\"R\",\"PG-13\",\"TV-PG\",\"TV-14\",\"TV-MA\",\"PG\",\"TV-G\",\"PG-13\",\"TV-G\",\"PG-13\",\"PG-13\",\"TV-14\",\"TV-14\",\"PG-13\",\"PG\",\"PG\",\"TV-14\",\"TV-MA\",\"TV-MA\",\"TV-14\",\"TV-MA\",\"TV-MA\",\"PG\",\"TV-G\",\"TV-14\",\"R\",\"TV-14\",\"TV-PG\",\"TV-PG\",\"TV-14\",\"TV-14\",\"TV-14\",\"TV-14\",\"TV-Y\",\"TV-14\",\"TV-MA\",\"TV-14\",\"TV-MA\",\"PG-13\",\"PG\",\"R\",\"TV-MA\",\"PG\",\"R\",\"NR\",\"R\",\"TV-PG\",\"TV-MA\",\"TV-14\",\"TV-MA\",\"R\",\"TV-14\",\"TV-14\",\"TV-MA\",\"R\",\"TV-PG\",\"PG-13\",\"TV-MA\",\"R\",\"TV-MA\",\"PG-13\",\"PG-13\",\"R\",\"R\",\"PG\",\"TV-MA\",\"R\",\"R\",\"NC-17\",\"PG-13\",\"R\",\"R\",\"PG-13\",\"R\",\"TV-MA\",\"TV-MA\",\"TV-G\",\"TV-MA\",\"TV-14\",\"TV-14\",\"TV-14\",\"TV-14\",\"PG\",\"TV-14\",\"TV-MA\",\"R\",\"TV-MA\",\"TV-MA\",\"TV-14\",\"TV-MA\",\"PG\",\"TV-MA\",\"TV-MA\",\"PG\",\"TV-MA\",\"TV-MA\",\"TV-MA\",\"R\",\"PG-13\",\"R\",\"TV-MA\",\"TV-PG\",\"TV-PG\",\"TV-PG\",\"TV-MA\",\"TV-G\",\"TV-MA\",\"PG-13\",\"TV-MA\",\"TV-MA\",\"TV-MA\",\"TV-14\",\"R\",\"R\",\"TV-14\",\"TV-MA\",\"TV-MA\",\"TV-14\",\"TV-Y\",\"TV-Y\",\"TV-MA\",\"TV-G\",\"R\",\"PG-13\",\"R\",\"TV-14\",\"TV-PG\",\"TV-MA\",\"TV-14\",\"R\",\"R\",\"PG-13\",\"R\",\"PG-13\",\"TV-MA\",\"TV-MA\",\"NR\",\"TV-14\",\"PG\",\"TV-PG\",\"TV-MA\",\"TV-PG\",\"PG-13\",\"TV-PG\",\"TV-14\",\"TV-14\",\"TV-14\",\"TV-G\",\"PG\",\"TV-14\",\"PG-13\",\"PG\",\"PG-13\",\"G\",\"TV-PG\",\"R\",\"TV-MA\",\"TV-PG\",\"TV-14\",\"R\",\"TV-Y7\",\"TV-Y7\",\"TV-Y7\",\"TV-Y7\",\"TV-14\",\"G\",\"TV-MA\",\"R\",\"TV-MA\",\"TV-MA\",\"NR\",\"G\",\"R\",\"TV-MA\",\"PG\",\"TV-PG\",\"TV-G\",\"PG\",\"PG\",\"R\",\"TV-14\",\"TV-PG\",\"PG-13\",\"R\",\"TV-MA\",\"TV-MA\",\"PG-13\",\"TV-PG\",\"TV-MA\",\"PG\",\"PG-13\",\"TV-MA\",\"R\",\"R\",\"R\",\"PG-13\",\"PG-13\",\"PG-13\",\"TV-PG\",\"TV-14\",\"R\",\"TV-14\",\"R\",\"TV-PG\",\"TV-MA\",\"TV-MA\",\"TV-MA\",\"R\",\"TV-MA\",\"R\",\"TV-MA\",\"TV-14\",\"TV-14\",\"TV-14\",\"PG\",\"TV-MA\",\"PG\",\"TV-14\",\"TV-G\",\"R\",\"TV-MA\",\"PG-13\",\"R\",\"R\",\"TV-14\",\"TV-MA\",\"PG\",\"PG\",\"TV-MA\",\"NR\",\"TV-14\",\"TV-MA\",\"R\",\"TV-PG\",\"TV-MA\",\"TV-MA\",\"PG-13\",\"TV-PG\",\"TV-MA\",\"R\",\"R\",\"TV-MA\",\"TV-14\",\"NR\",\"TV-MA\",\"TV-PG\",\"R\",\"TV-MA\",\"TV-14\",\"TV-14\",\"PG-13\",\"TV-14\",\"TV-Y7-FV\",\"TV-PG\",\"R\",\"R\",\"TV-MA\",\"TV-MA\",\"TV-14\",\"R\",\"NR\",\"R\",\"R\",\"TV-MA\",\"TV-MA\",\"TV-14\",\"R\",\"TV-14\",\"TV-MA\",\"TV-MA\",\"TV-PG\",\"TV-14\",\"TV-14\",\"TV-PG\",\"TV-PG\",\"NR\",\"PG-13\",\"TV-14\",\"PG-13\",\"TV-14\",\"TV-MA\",\"TV-14\",\"R\",\"PG-13\",\"TV-MA\",\"TV-PG\",\"PG\",\"R\",\"TV-14\",\"PG-13\",\"R\",\"TV-MA\",\"TV-MA\",\"TV-14\",\"R\",\"TV-MA\",\"R\",\"R\",\"R\",\"TV-14\",\"PG-13\",\"TV-PG\",\"PG\",\"PG\",\"PG-13\",\"PG-13\",\"PG\",\"PG-13\",\"TV-Y\",\"TV-G\",\"TV-MA\",\"TV-PG\",\"TV-PG\",\"TV-14\",\"TV-14\",\"PG-13\",\"TV-14\",\"PG\",\"PG\",\"PG-13\",\"PG-13\",\"TV-MA\",\"TV-14\",\"TV-14\",\"TV-PG\",\"TV-MA\",\"R\",\"TV-14\",\"TV-14\",\"TV-PG\",\"TV-MA\",\"TV-G\",\"R\",\"TV-14\",\"TV-MA\",\"TV-PG\",\"TV-PG\",\"TV-MA\",\"TV-PG\",\"TV-MA\",\"TV-14\",\"PG-13\",\"TV-14\",\"R\",\"R\",\"TV-14\",\"TV-MA\",\"R\",\"PG-13\",\"R\",\"TV-MA\",\"NR\",\"TV-14\",\"TV-14\",\"R\",\"PG\",\"R\",\"TV-MA\",\"R\",\"PG-13\",\"R\",\"R\",\"TV-MA\",\"NR\",\"R\",\"TV-14\",\"TV-MA\",\"TV-PG\",\"TV-PG\",\"TV-MA\",\"TV-MA\",\"TV-14\",\"TV-14\",\"R\",\"TV-MA\",\"TV-14\",\"TV-14\",\"NR\",\"TV-MA\",\"R\",\"TV-MA\",\"G\",\"NR\",\"TV-Y7\",\"TV-PG\",\"TV-MA\",\"TV-PG\",\"R\",\"R\",\"R\",\"TV-14\",\"TV-MA\",\"TV-14\",\"R\",\"TV-MA\",\"TV-14\",\"NR\",\"TV-14\",\"R\",\"PG-13\",\"TV-14\",\"TV-MA\",\"TV-MA\",\"TV-MA\",\"PG\",\"R\",\"TV-PG\",\"R\",\"TV-MA\",\"TV-MA\",\"G\",\"TV-14\",\"G\",\"TV-MA\",\"TV-MA\",\"PG\",\"PG-13\",\"R\",\"R\",\"R\",\"TV-MA\",\"PG\",\"PG\",\"R\",\"TV-MA\",\"TV-MA\",\"TV-PG\",\"R\",\"R\",\"TV-14\",\"R\",\"PG\",\"TV-PG\",\"TV-PG\",\"R\",\"TV-PG\",\"TV-MA\",\"TV-MA\",\"TV-MA\",\"PG\",\"TV-MA\",\"TV-14\",\"TV-PG\",\"R\",\"TV-PG\",\"TV-PG\",\"TV-MA\",\"TV-MA\",\"TV-PG\",\"TV-PG\",\"PG\",\"R\",\"PG\",\"PG-13\",\"PG-13\",\"TV-14\",\"TV-MA\",\"TV-MA\",\"PG-13\",\"TV-MA\",\"TV-14\",\"TV-MA\",\"TV-14\",\"G\",\"PG-13\",\"TV-14\",\"NR\",\"PG\",\"TV-PG\",\"NR\",\"PG\",\"PG\",\"TV-MA\",\"TV-PG\",\"TV-Y\",\"PG-13\",\"TV-MA\",\"R\",\"TV-14\",\"R\",\"R\",\"R\",\"TV-MA\",\"TV-MA\",\"PG\",\"R\",\"R\",\"TV-MA\",\"R\",\"PG\",\"R\",\"R\",\"TV-14\",\"R\",\"TV-MA\",\"TV-MA\",\"PG\",\"R\",\"TV-MA\",\"TV-MA\",\"TV-PG\",\"TV-PG\",\"TV-G\",\"TV-MA\",\"TV-MA\",\"TV-14\",\"TV-14\",\"TV-14\",\"PG\",\"PG-13\",\"TV-14\",\"TV-14\",\"R\",\"TV-14\",\"R\",\"TV-14\",\"TV-G\",\"TV-MA\",\"NR\",\"TV-MA\",\"R\",\"TV-14\",\"R\",\"R\",\"TV-14\",\"TV-G\",\"TV-PG\",\"NR\",\"TV-PG\",\"TV-MA\",\"TV-MA\",\"TV-MA\",\"TV-MA\",\"R\",\"PG-13\",\"R\",\"TV-MA\",\"TV-MA\",\"TV-14\",\"PG-13\",\"TV-MA\",\"PG\",\"R\",\"R\",\"PG-13\",\"R\",\"TV-14\",\"TV-14\",\"TV-MA\",\"TV-MA\",\"TV-MA\",\"TV-14\",\"TV-14\",\"TV-14\",\"TV-PG\",\"TV-MA\",\"TV-14\",\"PG-13\",\"TV-PG\",\"TV-14\",\"TV-PG\",\"TV-MA\",\"TV-MA\",\"TV-MA\",\"NR\",\"TV-14\",\"TV-MA\",\"TV-14\",\"TV-PG\",\"PG-13\",\"PG-13\",\"PG\",\"TV-14\",\"PG\",\"TV-14\",\"R\",\"TV-14\",\"TV-14\",\"TV-PG\",\"R\",\"NR\",\"TV-MA\",\"PG-13\",\"TV-MA\",\"PG\",\"PG-13\",\"TV-14\",\"TV-14\",\"TV-PG\",\"PG\",\"PG-13\",\"R\",\"NR\",\"PG-13\",\"TV-PG\",\"TV-14\",\"PG-13\",\"TV-G\",\"TV-PG\",\"TV-MA\",\"R\",\"R\",\"TV-MA\",\"TV-MA\",\"R\",\"TV-MA\",\"TV-MA\",\"PG\",\"TV-14\",\"TV-14\",\"TV-14\",\"NR\",\"R\",\"R\",\"PG-13\",\"TV-14\",\"TV-14\",\"R\",\"PG-13\",\"PG\",\"TV-MA\",\"R\",\"TV-14\",\"PG\",\"NR\",\"PG\",\"UR\",\"R\",\"PG-13\",\"TV-14\",\"TV-MA\",\"TV-MA\",\"R\",\"TV-MA\",\"PG\",\"NR\",\"PG-13\",\"PG-13\",\"PG\",\"PG\",\"TV-MA\",\"PG\",\"TV-PG\",\"R\",\"PG\",\"TV-14\",\"PG-13\",\"TV-14\",\"R\",\"TV-PG\",\"TV-14\",\"TV-14\",\"PG-13\",\"TV-PG\",\"TV-MA\",\"TV-Y7\",\"TV-14\",\"TV-14\",\"PG\",\"TV-14\",\"TV-MA\",\"PG\",\"TV-14\",\"TV-MA\",\"TV-14\",\"NR\",\"TV-Y7\",\"TV-14\",\"PG\",\"TV-MA\",\"R\",\"TV-14\",\"TV-14\",\"TV-Y\",\"TV-14\",\"TV-14\",\"TV-14\",\"R\",\"TV-MA\",\"PG-13\",\"R\",\"TV-14\",\"TV-MA\",\"R\",\"PG\",\"TV-14\",\"TV-14\",\"TV-14\",\"PG-13\",\"TV-MA\",\"TV-MA\",\"TV-MA\",\"TV-MA\",\"TV-14\",\"PG\",\"TV-14\",\"PG-13\",\"PG-13\",\"R\",\"PG-13\",\"PG-13\",\"TV-14\",\"G\",\"PG-13\",\"TV-14\",\"TV-PG\",\"TV-14\",\"TV-PG\",\"TV-MA\",\"TV-14\",\"PG\",\"TV-14\",\"TV-MA\",\"TV-14\",\"TV-14\",\"TV-14\",\"PG-13\",\"TV-PG\",\"NR\",\"TV-14\",\"TV-14\",\"R\",\"R\",\"TV-MA\",\"TV-MA\",\"TV-14\",\"TV-14\",\"TV-PG\",\"TV-14\",\"TV-14\",\"R\",\"TV-MA\",\"R\",\"TV-14\",\"R\",\"R\",\"R\",\"TV-MA\",\"TV-14\",\"TV-MA\",\"R\",\"PG-13\",\"PG-13\",\"TV-MA\",\"R\",\"NR\",\"PG-13\",\"PG-13\",\"R\",\"TV-PG\",\"R\",\"TV-14\",\"R\",\"TV-14\",\"PG-13\",\"TV-G\",\"PG-13\",\"TV-14\",\"TV-MA\",\"TV-Y7\",\"TV-Y7\",\"TV-Y\",\"TV-Y7\",\"TV-Y7\",\"TV-Y7\",\"TV-Y7\",\"TV-Y7\",\"R\",\"NR\",\"R\",\"TV-MA\",\"R\",\"TV-Y7\",\"TV-PG\",\"TV-PG\",\"TV-14\",\"R\",\"TV-MA\",\"TV-PG\",\"TV-MA\",\"TV-PG\",\"TV-MA\",\"R\",\"PG-13\",\"TV-MA\",\"TV-14\",\"TV-MA\",\"R\",\"PG-13\",\"NC-17\",\"TV-MA\",\"TV-14\",\"TV-MA\",\"R\",\"R\",\"TV-14\",\"TV-PG\",\"PG\",\"TV-Y\",\"TV-Y\",\"TV-Y\",\"TV-Y\",\"TV-MA\",\"PG-13\",\"PG\",\"TV-MA\",\"TV-14\",\"R\",\"TV-G\",\"TV-Y7-FV\",\"TV-Y7-FV\",\"TV-MA\",\"TV-PG\",\"TV-14\",\"R\",\"TV-PG\",\"TV-MA\",\"TV-14\",\"TV-PG\",\"R\",\"R\",\"PG-13\",\"TV-14\",\"TV-14\",\"TV-14\",\"TV-Y7\",\"TV-Y7\",\"PG\",\"PG-13\",\"TV-Y7-FV\",\"TV-Y7\",\"TV-Y7\",\"NR\",\"TV-14\",\"PG-13\",\"R\",\"R\",\"PG-13\",\"TV-MA\",\"PG\",\"R\",\"TV-14\",\"TV-14\",\"NR\",\"TV-14\",\"TV-14\",\"TV-14\",\"TV-MA\",\"TV-MA\",\"TV-14\",\"TV-14\",\"TV-MA\",\"TV-14\",\"TV-14\",\"R\",\"TV-MA\",\"TV-MA\",\"TV-14\",\"TV-PG\",\"TV-14\",\"TV-14\",\"TV-MA\",\"TV-14\",\"TV-PG\",\"R\",\"TV-MA\",\"R\",\"PG-13\",\"NR\",\"TV-MA\",\"TV-14\",\"TV-MA\",\"TV-MA\",\"TV-Y\",\"TV-14\",\"TV-PG\",\"TV-14\",\"TV-PG\",\"TV-14\",\"TV-PG\",\"TV-PG\",\"TV-MA\",\"R\",\"R\",\"TV-MA\",\"TV-14\",\"PG-13\",\"TV-14\",\"TV-14\",\"TV-MA\",\"PG-13\",\"TV-MA\",\"TV-14\",\"TV-MA\",\"R\",\"TV-14\",\"TV-MA\",\"R\",\"R\",\"TV-PG\",\"TV-14\",\"TV-PG\",\"PG\",\"PG\",\"PG\",\"TV-14\",\"NR\",\"TV-MA\",\"TV-14\",\"TV-14\",\"TV-MA\",\"TV-14\",\"TV-PG\",\"TV-PG\",\"TV-PG\",\"TV-MA\",\"R\",\"R\",\"TV-PG\",\"TV-MA\",\"TV-14\",\"TV-PG\",\"R\",\"TV-MA\",\"TV-14\",\"PG-13\",\"PG-13\",\"TV-MA\",\"R\",\"TV-MA\",\"TV-14\",\"R\",\"PG\",\"PG-13\",\"R\",\"TV-14\",\"PG\",\"PG\",\"TV-MA\",\"PG-13\",\"PG-13\",\"TV-14\",\"NR\",\"TV-MA\",\"NR\",\"TV-14\",\"TV-MA\",\"TV-PG\",\"R\",\"TV-MA\",\"TV-MA\",\"R\",\"TV-14\",\"R\",\"PG-13\",\"R\",\"R\",\"PG\",\"TV-MA\",\"PG\",\"TV-Y7\",\"TV-Y7\",\"TV-Y7\",\"TV-Y7\",\"TV-Y7\",\"TV-Y7\",\"TV-Y7\",\"TV-Y7\",\"TV-Y7\",\"TV-Y7\",\"TV-Y7\",\"TV-G\",\"TV-Y7\",\"PG-13\",\"R\",\"R\",\"R\",\"TV-14\",\"R\",\"TV-MA\",\"TV-14\",\"TV-Y7-FV\",\"PG\",\"R\",\"PG-13\",\"PG-13\",\"TV-14\",\"TV-14\",\"PG-13\",\"TV-14\",\"PG-13\",\"TV-PG\",\"PG\",\"PG\",\"NR\",\"TV-PG\",\"TV-PG\",\"TV-PG\",\"TV-14\",\"TV-14\",\"PG-13\",\"TV-MA\",\"missing rating\",\"PG-13\",\"TV-Y\",\"TV-Y\",\"TV-14\",\"TV-14\",\"TV-MA\",\"PG-13\",\"TV-MA\",\"R\",\"TV-14\",\"TV-PG\",\"PG\",\"TV-PG\",\"TV-MA\",\"TV-PG\",\"TV-14\",\"NR\",\"TV-14\",\"TV-MA\",\"TV-MA\",\"PG-13\",\"TV-G\",\"PG\",\"TV-14\",\"R\",\"R\",\"TV-G\",\"TV-MA\",\"R\",\"TV-PG\",\"PG\",\"NR\",\"PG-13\",\"TV-14\",\"TV-MA\",\"R\",\"R\",\"PG-13\",\"TV-PG\",\"TV-MA\",\"PG\",\"TV-Y7\",\"TV-PG\",\"TV-PG\",\"TV-14\",\"TV-G\",\"TV-G\",\"TV-PG\",\"TV-PG\",\"TV-PG\",\"TV-G\",\"TV-14\",\"TV-G\",\"TV-PG\",\"TV-PG\",\"TV-14\",\"TV-PG\",\"TV-PG\",\"TV-PG\",\"TV-PG\",\"TV-G\",\"TV-PG\",\"TV-PG\",\"TV-PG\",\"TV-G\",\"PG-13\",\"PG-13\",\"TV-MA\",\"R\",\"TV-PG\",\"TV-MA\",\"NR\",\"TV-MA\",\"R\",\"R\",\"G\",\"R\",\"TV-PG\",\"PG-13\",\"PG-13\",\"TV-MA\",\"R\",\"TV-MA\",\"TV-MA\",\"TV-MA\",\"TV-14\",\"TV-MA\",\"TV-14\",\"TV-14\",\"TV-14\",\"TV-14\",\"TV-PG\",\"TV-MA\",\"TV-PG\",\"TV-MA\",\"PG-13\",\"TV-PG\",\"PG\",\"TV-G\",\"TV-MA\",\"TV-MA\",\"TV-MA\",\"R\",\"TV-MA\",\"PG\",\"NR\",\"TV-MA\",\"TV-MA\",\"TV-MA\",\"TV-MA\",\"TV-MA\",\"TV-14\",\"TV-MA\",\"TV-PG\",\"TV-MA\",\"PG-13\",\"TV-PG\",\"TV-MA\",\"TV-MA\",\"TV-14\",\"PG-13\",\"TV-14\",\"NR\",\"TV-MA\",\"R\",\"R\",\"TV-PG\",\"TV-14\",\"TV-MA\",\"R\",\"TV-PG\",\"TV-MA\",\"R\",\"TV-14\",\"TV-PG\",\"R\",\"R\",\"TV-PG\",\"TV-14\",\"R\",\"TV-MA\",\"PG\",\"TV-14\",\"TV-14\",\"TV-MA\",\"TV-PG\",\"TV-MA\",\"PG\",\"TV-MA\",\"TV-MA\",\"R\",\"R\",\"TV-MA\",\"PG\",\"TV-MA\",\"PG\",\"PG-13\",\"TV-14\",\"TV-MA\",\"TV-14\",\"TV-14\",\"TV-PG\",\"TV-MA\",\"TV-PG\",\"TV-MA\",\"TV-MA\",\"TV-MA\",\"TV-14\",\"TV-MA\",\"R\",\"TV-14\",\"TV-MA\",\"PG\",\"PG\",\"TV-MA\",\"TV-MA\",\"TV-Y7\",\"TV-Y7\",\"TV-Y7\",\"TV-Y7\",\"TV-Y7\",\"TV-Y7\",\"TV-Y7\",\"TV-Y7\",\"TV-MA\",\"TV-14\",\"TV-14\",\"NR\",\"R\",\"TV-14\",\"TV-MA\",\"TV-MA\",\"TV-MA\",\"TV-14\",\"R\",\"TV-14\",\"R\",\"TV-14\",\"TV-MA\",\"PG-13\",\"PG-13\",\"PG\",\"PG\",\"R\",\"TV-MA\",\"TV-PG\",\"R\",\"TV-14\",\"NR\",\"TV-14\",\"TV-14\",\"TV-PG\",\"PG\",\"TV-14\",\"TV-PG\",\"TV-14\",\"TV-MA\",\"TV-MA\",\"TV-14\",\"NR\",\"TV-14\",\"TV-PG\",\"PG-13\",\"TV-MA\",\"TV-MA\",\"PG-13\",\"TV-14\",\"TV-PG\",\"TV-PG\",\"TV-MA\",\"R\",\"TV-PG\",\"R\",\"PG-13\",\"PG-13\",\"R\",\"TV-MA\",\"TV-MA\",\"R\",\"NR\",\"R\",\"R\",\"NR\",\"R\",\"TV-14\",\"TV-MA\",\"TV-MA\",\"TV-14\",\"TV-14\",\"TV-14\",\"TV-14\",\"PG\",\"PG\",\"PG\",\"PG\",\"PG-13\",\"R\",\"TV-MA\",\"TV-MA\",\"TV-MA\",\"TV-14\",\"R\",\"TV-MA\",\"TV-Y7\",\"TV-PG\",\"R\",\"R\",\"TV-MA\",\"TV-MA\",\"R\",\"PG-13\",\"TV-14\",\"PG\",\"TV-14\",\"TV-14\",\"PG\",\"NR\",\"TV-14\",\"TV-MA\",\"PG-13\",\"TV-14\",\"TV-MA\",\"TV-MA\",\"TV-14\",\"TV-14\",\"TV-MA\",\"R\",\"TV-MA\",\"TV-14\",\"TV-PG\",\"TV-14\",\"TV-MA\",\"TV-PG\",\"TV-14\",\"PG-13\",\"TV-Y\",\"TV-14\",\"TV-14\",\"TV-14\",\"TV-PG\",\"TV-G\",\"PG-13\",\"TV-14\",\"TV-PG\",\"TV-14\",\"TV-14\",\"TV-14\",\"TV-MA\",\"TV-14\",\"TV-14\",\"TV-MA\",\"TV-MA\",\"TV-MA\",\"PG-13\",\"R\",\"R\",\"PG\",\"TV-PG\",\"R\",\"PG-13\",\"R\",\"R\",\"TV-PG\",\"PG-13\",\"R\",\"R\",\"TV-MA\",\"PG\",\"PG-13\",\"PG-13\",\"TV-PG\",\"PG-13\",\"TV-PG\",\"TV-PG\",\"TV-PG\",\"TV-PG\",\"TV-PG\",\"TV-14\",\"TV-PG\",\"TV-PG\",\"TV-PG\",\"TV-PG\",\"TV-14\",\"PG-13\",\"TV-MA\",\"R\",\"R\",\"R\",\"UR\",\"R\",\"TV-MA\",\"TV-14\",\"TV-MA\",\"TV-14\",\"TV-PG\",\"TV-14\",\"PG-13\",\"TV-14\",\"TV-PG\",\"R\",\"PG-13\",\"TV-MA\",\"TV-Y\",\"TV-Y\",\"TV-Y\",\"TV-14\",\"R\",\"PG\",\"TV-MA\",\"TV-14\",\"TV-MA\",\"TV-MA\",\"TV-G\",\"TV-MA\",\"R\",\"TV-PG\",\"TV-14\",\"TV-PG\",\"PG-13\",\"TV-MA\",\"TV-MA\",\"R\",\"R\",\"PG-13\",\"TV-MA\",\"TV-G\",\"PG-13\",\"R\",\"PG\",\"R\",\"R\",\"R\",\"PG-13\",\"R\",\"TV-MA\",\"PG-13\",\"R\",\"TV-14\",\"TV-MA\",\"TV-MA\",\"NR\",\"PG-13\",\"PG-13\",\"R\",\"TV-MA\",\"PG-13\",\"R\",\"NR\",\"PG\",\"TV-MA\",\"NR\",\"PG\",\"PG-13\",\"TV-14\",\"PG-13\",\"PG\",\"TV-14\",\"R\",\"R\",\"TV-MA\",\"PG\",\"PG\",\"PG\",\"TV-MA\",\"TV-MA\",\"TV-14\",\"R\",\"TV-14\",\"PG-13\",\"TV-MA\",\"TV-PG\",\"R\",\"TV-14\",\"R\",\"TV-14\",\"TV-MA\",\"TV-PG\",\"PG-13\",\"NR\",\"TV-PG\",\"TV-MA\",\"PG-13\",\"PG-13\",\"PG\",\"TV-MA\",\"R\",\"R\",\"NR\",\"PG\",\"TV-MA\",\"NR\",\"TV-MA\",\"TV-14\",\"TV-MA\",\"TV-MA\",\"TV-MA\",\"TV-MA\",\"TV-MA\",\"TV-Y7\",\"TV-MA\",\"TV-PG\",\"R\",\"R\",\"PG-13\",\"PG-13\",\"TV-14\",\"TV-MA\",\"TV-MA\",\"TV-G\",\"TV-PG\",\"R\",\"R\",\"R\",\"TV-MA\",\"R\",\"TV-PG\",\"TV-14\",\"R\",\"TV-MA\",\"TV-MA\",\"G\",\"G\",\"TV-14\",\"TV-Y7\",\"TV-14\",\"TV-PG\",\"TV-MA\",\"PG\",\"PG\",\"PG\",\"TV-PG\",\"TV-Y7\",\"TV-MA\",\"TV-MA\",\"R\",\"PG-13\",\"TV-PG\",\"TV-MA\",\"TV-PG\",\"TV-MA\",\"TV-MA\",\"TV-MA\",\"TV-14\",\"R\",\"TV-Y7\",\"PG\",\"PG\",\"TV-MA\",\"TV-MA\",\"PG-13\",\"R\",\"PG\",\"TV-MA\",\"TV-14\",\"TV-MA\",\"R\",\"R\",\"R\",\"R\",\"TV-14\",\"TV-MA\",\"TV-MA\",\"TV-14\",\"TV-MA\",\"TV-14\",\"TV-MA\",\"TV-MA\",\"R\",\"R\",\"TV-14\",\"R\",\"TV-MA\",\"PG-13\",\"PG-13\",\"PG-13\",\"PG-13\",\"R\",\"TV-MA\",\"PG-13\",\"PG-13\",\"TV-14\",\"PG-13\",\"PG-13\",\"TV-MA\",\"TV-14\",\"PG-13\",\"TV-MA\",\"TV-14\",\"R\",\"PG\",\"TV-MA\",\"TV-PG\",\"TV-MA\",\"TV-14\",\"R\",\"TV-MA\",\"TV-14\",\"TV-MA\",\"PG\",\"TV-PG\",\"TV-14\",\"R\",\"TV-14\",\"PG-13\",\"TV-MA\",\"TV-14\",\"R\",\"PG\",\"R\",\"TV-PG\",\"R\",\"R\",\"TV-14\",\"TV-MA\",\"PG\",\"TV-MA\",\"TV-MA\",\"TV-MA\",\"TV-MA\",\"R\",\"TV-14\",\"TV-14\",\"TV-PG\",\"R\",\"TV-14\",\"TV-MA\",\"TV-PG\",\"TV-MA\",\"R\",\"PG-13\",\"R\",\"TV-MA\",\"R\",\"TV-MA\",\"TV-MA\",\"R\",\"R\",\"TV-MA\",\"TV-MA\",\"R\",\"TV-14\",\"R\",\"TV-14\",\"TV-MA\",\"PG\",\"R\",\"PG\",\"PG\",\"TV-MA\",\"PG-13\",\"TV-MA\",\"R\",\"TV-MA\",\"PG-13\",\"TV-PG\",\"R\",\"TV-14\",\"TV-MA\",\"TV-MA\",\"R\",\"TV-MA\",\"PG-13\",\"TV-MA\",\"R\",\"TV-14\",\"TV-14\",\"TV-14\",\"TV-14\",\"TV-MA\",\"TV-14\",\"R\",\"PG-13\",\"R\",\"PG-13\",\"TV-14\",\"TV-MA\",\"PG-13\",\"TV-MA\",\"TV-MA\",\"TV-MA\",\"R\",\"TV-14\",\"TV-14\",\"TV-PG\",\"R\",\"PG\",\"PG-13\",\"PG-13\",\"PG-13\",\"TV-MA\",\"TV-G\",\"PG\",\"PG\",\"R\",\"TV-MA\",\"TV-MA\",\"PG-13\",\"TV-MA\",\"PG-13\",\"TV-14\",\"PG-13\",\"TV-PG\",\"PG-13\",\"R\",\"PG\",\"PG\",\"TV-MA\",\"R\",\"PG-13\",\"R\",\"TV-MA\",\"TV-PG\",\"TV-14\",\"PG\",\"TV-MA\",\"TV-14\",\"R\",\"PG\",\"PG\",\"R\",\"R\",\"R\",\"TV-PG\",\"R\",\"PG\",\"PG-13\",\"PG-13\",\"PG-13\",\"PG-13\",\"TV-14\",\"TV-14\",\"TV-14\",\"TV-PG\",\"TV-14\",\"PG-13\",\"R\",\"R\",\"R\",\"TV-14\",\"TV-MA\",\"TV-PG\",\"R\",\"TV-MA\",\"R\",\"TV-MA\",\"PG\",\"TV-PG\",\"PG-13\",\"PG-13\",\"PG\",\"TV-14\",\"TV-MA\",\"TV-14\",\"PG\",\"R\",\"TV-PG\",\"PG-13\",\"R\",\"NR\",\"R\",\"PG-13\",\"TV-14\",\"PG-13\",\"PG-13\",\"R\",\"PG\",\"G\",\"R\",\"PG\",\"R\",\"TV-MA\",\"TV-MA\",\"G\",\"TV-14\",\"TV-MA\",\"R\",\"PG\",\"G\",\"TV-MA\",\"TV-14\",\"PG-13\",\"TV-MA\",\"TV-PG\",\"PG-13\",\"TV-PG\",\"TV-PG\",\"TV-MA\",\"TV-14\",\"TV-MA\",\"TV-14\",\"TV-MA\",\"TV-MA\",\"TV-14\",\"PG-13\",\"R\",\"NR\",\"PG-13\",\"TV-MA\",\"PG-13\",\"R\",\"R\",\"R\",\"R\",\"PG-13\",\"R\",\"PG-13\",\"TV-G\",\"PG\",\"R\",\"TV-MA\",\"TV-MA\",\"TV-14\",\"PG-13\",\"NR\",\"TV-14\",\"PG-13\",\"PG-13\",\"R\",\"TV-MA\",\"PG\",\"TV-MA\",\"R\",\"TV-14\",\"TV-MA\",\"R\",\"TV-14\",\"R\",\"R\",\"R\",\"TV-14\",\"TV-14\",\"TV-G\",\"PG-13\",\"PG-13\",\"R\",\"R\",\"TV-MA\",\"R\",\"TV-14\",\"PG-13\",\"R\",\"TV-MA\",\"TV-MA\",\"PG-13\",\"PG-13\",\"TV-14\",\"R\",\"PG\",\"PG-13\",\"TV-PG\",\"TV-14\",\"R\",\"TV-14\",\"TV-MA\",\"TV-PG\",\"TV-MA\",\"PG-13\",\"TV-PG\",\"TV-14\",\"TV-MA\",\"TV-14\",\"TV-PG\",\"TV-14\",\"PG-13\",\"TV-14\",\"TV-PG\",\"NR\",\"TV-MA\",\"TV-MA\",\"PG-13\",\"TV-Y7\",\"NR\",\"NR\",\"TV-MA\",\"TV-14\",\"TV-MA\",\"TV-PG\",\"TV-14\",\"TV-MA\",\"TV-14\",\"G\",\"TV-14\",\"TV-14\",\"PG-13\",\"TV-14\",\"TV-Y7\",\"PG-13\",\"TV-14\",\"PG-13\",\"NR\",\"PG-13\",\"TV-MA\",\"TV-MA\",\"TV-MA\",\"R\",\"PG-13\",\"PG-13\",\"R\",\"R\",\"TV-G\",\"TV-PG\",\"PG-13\",\"PG-13\",\"PG\",\"PG-13\",\"PG-13\",\"PG-13\",\"R\",\"TV-14\",\"TV-PG\",\"TV-MA\",\"TV-MA\",\"TV-MA\",\"TV-MA\",\"G\",\"R\",\"R\",\"R\",\"TV-PG\",\"TV-14\",\"PG\",\"R\",\"TV-14\",\"TV-MA\",\"TV-14\",\"TV-MA\",\"R\",\"TV-14\",\"R\",\"NR\",\"R\",\"PG\",\"TV-MA\",\"TV-14\",\"R\",\"PG-13\",\"TV-PG\",\"PG-13\",\"TV-14\",\"TV-14\",\"R\",\"TV-MA\",\"TV-14\",\"R\",\"R\",\"PG-13\",\"TV-14\",\"TV-14\",\"TV-14\",\"NR\",\"PG-13\",\"R\",\"TV-PG\",\"R\",\"TV-14\",\"TV-14\",\"NR\",\"TV-14\",\"TV-MA\",\"TV-MA\",\"TV-14\",\"TV-MA\",\"R\",\"R\",\"TV-PG\",\"PG-13\",\"R\",\"TV-14\",\"PG-13\",\"R\",\"TV-14\",\"TV-14\",\"PG\",\"TV-G\",\"R\",\"TV-14\",\"TV-MA\",\"R\",\"TV-PG\",\"TV-MA\",\"TV-MA\",\"TV-MA\",\"TV-MA\",\"TV-Y7\",\"R\",\"TV-MA\",\"TV-MA\",\"TV-MA\",\"TV-14\",\"PG-13\",\"TV-14\",\"TV-14\",\"R\",\"NR\",\"TV-14\",\"PG-13\",\"R\",\"R\",\"TV-MA\",\"TV-MA\",\"TV-MA\",\"R\",\"TV-14\",\"TV-MA\",\"TV-PG\",\"PG-13\",\"PG-13\",\"TV-MA\",\"G\",\"TV-14\",\"NR\",\"R\",\"R\",\"TV-14\",\"TV-MA\",\"R\",\"TV-MA\",\"PG-13\",\"TV-PG\",\"TV-MA\",\"TV-14\",\"TV-MA\",\"TV-PG\",\"PG-13\",\"R\",\"PG-13\",\"PG-13\",\"R\",\"TV-MA\",\"TV-14\",\"TV-14\",\"TV-14\",\"TV-PG\",\"TV-14\",\"PG\",\"TV-PG\",\"TV-PG\",\"TV-PG\",\"TV-Y7\",\"PG-13\",\"TV-Y\",\"TV-G\",\"TV-PG\",\"TV-MA\",\"TV-PG\",\"UR\",\"R\",\"NR\",\"PG\",\"TV-14\",\"TV-MA\",\"TV-14\",\"TV-MA\",\"R\",\"R\",\"PG\",\"TV-14\"],\"xaxis\":\"x\",\"yaxis\":\"y\",\"type\":\"histogram\"},{\"alignmentgroup\":\"True\",\"bingroup\":\"x\",\"hovertemplate\":\"type=TV Show<br>rating=%{x}<br>count=%{y}<extra></extra>\",\"legendgroup\":\"TV Show\",\"marker\":{\"color\":\"#EF553B\",\"pattern\":{\"shape\":\"\"}},\"name\":\"TV Show\",\"offsetgroup\":\"TV Show\",\"orientation\":\"v\",\"showlegend\":true,\"x\":[\"TV-MA\",\"TV-MA\",\"TV-MA\",\"TV-MA\",\"TV-MA\",\"TV-14\",\"TV-MA\",\"TV-MA\",\"TV-MA\",\"TV-MA\",\"TV-MA\",\"TV-MA\",\"TV-14\",\"TV-14\",\"TV-14\",\"TV-MA\",\"TV-MA\",\"TV-MA\",\"TV-Y7\",\"TV-Y7\",\"TV-Y7\",\"TV-Y7\",\"TV-MA\",\"TV-MA\",\"TV-PG\",\"TV-PG\",\"TV-Y\",\"TV-G\",\"TV-PG\",\"TV-PG\",\"TV-MA\",\"TV-MA\",\"TV-PG\",\"TV-14\",\"TV-14\",\"TV-MA\",\"TV-Y7\",\"TV-Y\",\"TV-Y7\",\"TV-MA\",\"TV-MA\",\"TV-Y7\",\"TV-Y\",\"TV-MA\",\"TV-Y7\",\"TV-14\",\"TV-Y\",\"TV-G\",\"TV-G\",\"TV-MA\",\"TV-MA\",\"TV-Y\",\"TV-Y7\",\"TV-14\",\"TV-Y7\",\"TV-Y7\",\"TV-MA\",\"TV-MA\",\"TV-PG\",\"TV-14\",\"TV-Y\",\"TV-MA\",\"TV-PG\",\"TV-MA\",\"TV-14\",\"TV-PG\",\"TV-14\",\"TV-G\",\"TV-Y\",\"TV-MA\",\"TV-MA\",\"TV-Y7\",\"TV-MA\",\"TV-MA\",\"TV-PG\",\"TV-14\",\"TV-14\",\"TV-PG\",\"TV-MA\",\"TV-MA\",\"TV-14\",\"TV-MA\",\"TV-MA\",\"TV-G\",\"TV-Y\",\"TV-14\",\"TV-MA\",\"TV-MA\",\"TV-PG\",\"TV-MA\",\"TV-Y\",\"TV-MA\",\"TV-Y\",\"TV-14\",\"TV-MA\",\"TV-Y7\",\"TV-MA\",\"TV-Y7\",\"TV-MA\",\"TV-MA\",\"TV-MA\",\"TV-MA\",\"TV-14\",\"TV-PG\",\"TV-Y\",\"TV-14\",\"TV-MA\",\"TV-14\",\"TV-14\",\"TV-MA\",\"TV-MA\",\"TV-PG\",\"TV-MA\",\"TV-MA\",\"TV-MA\",\"TV-14\",\"TV-14\",\"TV-14\",\"TV-PG\",\"TV-14\",\"TV-MA\",\"TV-14\",\"TV-Y7\",\"TV-MA\",\"TV-14\",\"TV-14\",\"TV-14\",\"TV-Y7\",\"TV-14\",\"TV-14\",\"TV-14\",\"TV-MA\",\"TV-Y7\",\"TV-MA\",\"TV-14\",\"TV-MA\",\"TV-14\",\"TV-MA\",\"TV-Y\",\"TV-MA\",\"TV-MA\",\"TV-MA\",\"TV-MA\",\"TV-PG\",\"TV-PG\",\"TV-MA\",\"TV-MA\",\"TV-14\",\"TV-14\",\"TV-MA\",\"TV-MA\",\"TV-MA\",\"TV-MA\",\"TV-Y7\",\"TV-14\",\"TV-MA\",\"TV-14\",\"TV-14\",\"TV-MA\",\"TV-MA\",\"TV-Y\",\"TV-14\",\"TV-MA\",\"TV-MA\",\"TV-MA\",\"TV-14\",\"TV-MA\",\"TV-MA\",\"TV-14\",\"TV-PG\",\"TV-MA\",\"TV-MA\",\"TV-Y\",\"TV-14\",\"TV-MA\",\"TV-Y7\",\"TV-14\",\"TV-MA\",\"TV-MA\",\"TV-MA\",\"TV-14\",\"TV-MA\",\"TV-MA\",\"TV-MA\",\"TV-Y7\",\"TV-MA\",\"TV-MA\",\"TV-Y\",\"TV-MA\",\"TV-Y\",\"TV-G\",\"TV-MA\",\"TV-14\",\"TV-Y\",\"TV-14\",\"TV-14\",\"TV-PG\",\"TV-PG\",\"TV-G\",\"TV-MA\",\"TV-MA\",\"TV-Y\",\"TV-14\",\"TV-Y7\",\"TV-14\",\"TV-14\",\"TV-MA\",\"TV-G\",\"TV-MA\",\"TV-MA\",\"TV-MA\",\"TV-Y\",\"TV-Y7\",\"TV-MA\",\"TV-MA\",\"TV-14\",\"TV-MA\",\"TV-MA\",\"TV-14\",\"TV-Y\",\"TV-14\",\"TV-MA\",\"TV-MA\",\"TV-14\",\"TV-MA\",\"TV-MA\",\"TV-G\",\"TV-MA\",\"TV-MA\",\"TV-14\",\"TV-14\",\"TV-14\",\"TV-14\",\"TV-MA\",\"TV-14\",\"TV-MA\",\"TV-Y\",\"TV-MA\",\"TV-14\",\"TV-14\",\"TV-MA\",\"TV-MA\",\"TV-MA\",\"TV-MA\",\"TV-MA\",\"TV-14\",\"TV-MA\",\"TV-MA\",\"TV-MA\",\"TV-MA\",\"TV-MA\",\"TV-MA\",\"TV-MA\",\"TV-14\",\"TV-14\",\"TV-14\",\"TV-MA\",\"TV-MA\",\"TV-MA\",\"TV-MA\",\"TV-MA\",\"TV-MA\",\"TV-14\",\"TV-MA\",\"TV-PG\",\"TV-Y7\",\"TV-MA\",\"TV-MA\",\"TV-G\",\"TV-Y\",\"TV-G\",\"TV-MA\",\"TV-MA\",\"TV-14\",\"TV-Y7\",\"TV-MA\",\"TV-MA\",\"TV-MA\",\"TV-PG\",\"TV-MA\",\"TV-Y7\",\"TV-MA\",\"TV-MA\",\"TV-PG\",\"TV-14\",\"TV-14\",\"TV-14\",\"TV-MA\",\"TV-MA\",\"TV-Y\",\"TV-Y\",\"TV-14\",\"TV-14\",\"TV-PG\",\"TV-14\",\"TV-Y7\",\"TV-14\",\"TV-MA\",\"TV-MA\",\"TV-MA\",\"TV-14\",\"TV-MA\",\"TV-PG\",\"TV-MA\",\"TV-14\",\"TV-MA\",\"TV-MA\",\"TV-MA\",\"TV-Y7\",\"TV-MA\",\"TV-MA\",\"TV-Y\",\"TV-MA\",\"TV-Y\",\"TV-MA\",\"TV-MA\",\"TV-MA\",\"TV-MA\",\"TV-MA\",\"TV-14\",\"TV-MA\",\"TV-14\",\"TV-14\",\"TV-14\",\"TV-14\",\"TV-MA\",\"TV-Y7\",\"TV-PG\",\"TV-MA\",\"TV-PG\",\"TV-MA\",\"TV-Y\",\"TV-Y\",\"TV-Y\",\"TV-Y7\",\"TV-PG\",\"TV-MA\",\"TV-MA\",\"TV-MA\",\"TV-G\",\"TV-MA\",\"TV-MA\",\"TV-14\",\"TV-14\",\"TV-PG\",\"TV-MA\",\"TV-Y\",\"TV-MA\",\"TV-Y\",\"TV-Y7\",\"TV-14\",\"TV-PG\",\"TV-MA\",\"TV-PG\",\"TV-14\",\"TV-MA\",\"TV-14\",\"TV-14\",\"TV-Y\",\"TV-Y\",\"TV-Y7\",\"TV-PG\",\"TV-14\",\"TV-MA\",\"TV-MA\",\"TV-14\",\"TV-MA\",\"TV-14\",\"TV-MA\",\"TV-MA\",\"TV-MA\",\"TV-MA\",\"TV-MA\",\"TV-PG\",\"TV-PG\",\"TV-G\",\"TV-14\",\"TV-14\",\"TV-MA\",\"TV-14\",\"TV-MA\",\"TV-MA\",\"TV-PG\",\"TV-G\",\"TV-MA\",\"TV-MA\",\"TV-PG\",\"TV-MA\",\"TV-14\",\"TV-Y\",\"TV-Y7\",\"TV-Y\",\"TV-G\",\"TV-MA\",\"TV-14\",\"TV-MA\",\"TV-Y7\",\"TV-14\",\"TV-14\",\"TV-Y7\",\"TV-Y7\",\"TV-PG\",\"TV-MA\",\"TV-MA\",\"TV-14\",\"TV-Y\",\"TV-14\",\"TV-MA\",\"TV-G\",\"TV-MA\",\"TV-MA\",\"TV-MA\",\"TV-MA\",\"TV-MA\",\"TV-G\",\"TV-14\",\"TV-MA\",\"TV-14\",\"TV-Y7\",\"TV-MA\",\"TV-Y7\",\"TV-14\",\"TV-14\",\"TV-Y\",\"TV-MA\",\"TV-14\",\"TV-MA\",\"TV-MA\",\"TV-MA\",\"TV-MA\",\"TV-PG\",\"TV-14\",\"TV-14\",\"TV-MA\",\"TV-14\",\"TV-MA\",\"TV-MA\",\"TV-14\",\"TV-14\",\"TV-MA\",\"TV-MA\",\"TV-MA\",\"TV-14\",\"TV-MA\",\"TV-Y7\",\"TV-14\",\"TV-14\",\"TV-MA\",\"TV-G\",\"TV-MA\",\"TV-MA\",\"TV-MA\",\"TV-MA\",\"TV-G\",\"TV-MA\",\"TV-MA\",\"TV-MA\",\"TV-MA\",\"TV-MA\",\"TV-Y7\",\"TV-MA\",\"TV-14\",\"TV-14\",\"TV-14\",\"TV-MA\",\"TV-14\",\"TV-PG\",\"TV-14\",\"TV-Y7\",\"TV-14\",\"TV-MA\",\"TV-MA\",\"TV-MA\",\"TV-Y\",\"TV-14\",\"TV-14\",\"TV-14\",\"TV-MA\",\"TV-MA\",\"TV-Y\",\"TV-MA\",\"TV-Y7\",\"TV-14\",\"TV-G\",\"TV-MA\",\"TV-MA\",\"TV-MA\",\"TV-MA\",\"TV-Y\",\"TV-14\",\"TV-14\",\"TV-MA\",\"TV-MA\",\"TV-PG\",\"TV-G\",\"TV-14\",\"TV-14\",\"TV-G\",\"TV-G\",\"TV-MA\",\"TV-MA\",\"TV-Y7\",\"TV-Y\",\"TV-G\",\"TV-14\",\"TV-G\",\"TV-MA\",\"TV-MA\",\"TV-MA\",\"TV-14\",\"TV-Y7\",\"TV-PG\",\"TV-MA\",\"TV-PG\",\"TV-MA\",\"TV-14\",\"TV-Y\",\"TV-Y\",\"TV-Y\",\"TV-MA\",\"TV-MA\",\"TV-MA\",\"TV-Y\",\"TV-MA\",\"TV-MA\",\"TV-MA\",\"TV-MA\",\"TV-MA\",\"TV-14\",\"TV-14\",\"TV-MA\",\"TV-14\",\"TV-Y\",\"TV-MA\",\"TV-14\",\"TV-14\",\"TV-Y7\",\"TV-MA\",\"TV-14\",\"TV-Y\",\"TV-MA\",\"TV-MA\",\"TV-14\",\"TV-14\",\"TV-14\",\"TV-G\",\"TV-PG\",\"TV-14\",\"TV-PG\",\"TV-14\",\"TV-14\",\"TV-14\",\"TV-MA\",\"TV-MA\",\"TV-MA\",\"TV-MA\",\"TV-MA\",\"TV-MA\",\"TV-PG\",\"TV-14\",\"TV-14\",\"TV-Y\",\"TV-14\",\"TV-Y\",\"TV-Y\",\"TV-MA\",\"TV-14\",\"TV-14\",\"TV-PG\",\"TV-PG\",\"TV-14\",\"TV-MA\",\"TV-14\",\"TV-MA\",\"TV-14\",\"TV-MA\",\"TV-MA\",\"TV-14\",\"TV-MA\",\"TV-G\",\"TV-14\",\"TV-MA\",\"TV-PG\",\"TV-G\",\"TV-Y7\",\"TV-MA\",\"TV-14\",\"TV-Y\",\"TV-Y\",\"TV-14\",\"TV-MA\",\"TV-MA\",\"TV-MA\",\"TV-MA\",\"TV-MA\",\"TV-14\",\"TV-MA\",\"TV-MA\",\"TV-MA\",\"TV-14\",\"TV-14\",\"TV-Y7\",\"TV-PG\",\"TV-PG\",\"TV-MA\",\"TV-14\",\"TV-14\",\"TV-MA\",\"TV-MA\",\"TV-MA\",\"TV-14\",\"TV-14\",\"TV-14\",\"TV-Y\",\"TV-Y\",\"TV-Y7\",\"TV-Y7\",\"TV-Y\",\"TV-Y\",\"TV-MA\",\"TV-14\",\"TV-PG\",\"TV-PG\",\"TV-Y\",\"TV-14\",\"TV-14\",\"TV-MA\",\"TV-MA\",\"TV-Y\",\"TV-14\",\"TV-MA\",\"TV-MA\",\"TV-MA\",\"TV-MA\",\"TV-MA\",\"TV-MA\",\"TV-14\",\"TV-MA\",\"TV-MA\",\"TV-MA\",\"TV-Y7\",\"TV-Y\",\"TV-14\",\"TV-14\",\"TV-Y7\",\"TV-MA\",\"TV-MA\",\"TV-Y7\",\"TV-MA\",\"TV-MA\",\"TV-14\",\"TV-14\",\"TV-MA\",\"TV-MA\",\"TV-14\",\"TV-Y\",\"TV-Y\",\"TV-PG\",\"TV-MA\",\"TV-PG\",\"TV-14\",\"TV-MA\",\"TV-MA\",\"TV-MA\",\"TV-MA\",\"TV-MA\",\"TV-MA\",\"TV-MA\",\"TV-PG\",\"TV-14\",\"TV-MA\",\"TV-MA\",\"TV-PG\",\"TV-MA\",\"TV-PG\",\"TV-MA\",\"TV-14\",\"TV-14\",\"TV-Y\",\"TV-MA\",\"TV-MA\",\"TV-MA\",\"TV-MA\",\"TV-Y\",\"TV-MA\",\"TV-G\",\"TV-14\",\"TV-MA\",\"TV-MA\",\"TV-MA\",\"TV-14\",\"TV-MA\",\"TV-MA\",\"TV-PG\",\"TV-MA\",\"TV-MA\",\"TV-Y\",\"TV-MA\",\"TV-14\",\"TV-MA\",\"TV-MA\",\"TV-14\",\"TV-G\",\"TV-PG\",\"TV-MA\",\"TV-14\",\"TV-Y7\",\"TV-MA\",\"TV-14\",\"TV-Y7\",\"TV-MA\",\"TV-14\",\"TV-MA\",\"TV-MA\",\"TV-Y\",\"TV-MA\",\"TV-14\",\"TV-MA\",\"TV-MA\",\"TV-Y7\",\"TV-PG\",\"TV-14\",\"TV-Y\",\"TV-MA\",\"TV-MA\",\"TV-14\",\"TV-MA\",\"TV-MA\",\"TV-Y\",\"TV-MA\",\"TV-MA\",\"TV-G\",\"TV-MA\",\"TV-14\",\"TV-MA\",\"TV-14\",\"TV-14\",\"TV-Y7\",\"TV-MA\",\"TV-PG\",\"TV-MA\",\"TV-14\",\"TV-MA\",\"TV-MA\",\"TV-MA\",\"TV-Y7\",\"TV-Y7\",\"TV-MA\",\"TV-G\",\"TV-MA\",\"TV-14\",\"TV-MA\",\"TV-MA\",\"TV-PG\",\"TV-PG\",\"TV-Y7\",\"TV-Y\",\"TV-Y7\",\"TV-MA\",\"TV-14\",\"TV-PG\",\"TV-MA\",\"TV-PG\",\"TV-G\",\"TV-14\",\"TV-G\",\"TV-14\",\"TV-Y\",\"TV-PG\",\"TV-PG\",\"TV-14\",\"TV-Y7\",\"TV-MA\",\"TV-MA\",\"TV-MA\",\"TV-G\",\"TV-14\",\"TV-MA\",\"TV-MA\",\"TV-PG\",\"TV-MA\",\"TV-Y\",\"TV-MA\",\"TV-MA\",\"TV-14\",\"TV-MA\",\"TV-MA\",\"TV-MA\",\"TV-Y\",\"TV-MA\",\"TV-14\",\"TV-PG\",\"TV-Y7\",\"TV-MA\",\"TV-MA\",\"TV-MA\",\"TV-14\",\"TV-MA\",\"TV-MA\",\"TV-Y7\",\"TV-MA\",\"TV-MA\",\"TV-PG\",\"TV-G\",\"TV-G\",\"TV-MA\",\"TV-MA\",\"TV-MA\",\"TV-Y\",\"TV-14\",\"TV-Y\",\"TV-14\",\"TV-MA\",\"TV-MA\",\"TV-MA\",\"TV-MA\",\"TV-G\",\"TV-PG\",\"TV-14\",\"TV-MA\",\"TV-14\",\"TV-PG\",\"TV-MA\",\"TV-MA\",\"TV-MA\",\"TV-PG\",\"TV-G\",\"TV-14\",\"TV-MA\",\"TV-MA\",\"TV-MA\",\"TV-14\",\"TV-MA\",\"TV-MA\",\"TV-MA\",\"TV-14\",\"TV-MA\",\"TV-MA\",\"TV-MA\",\"TV-MA\",\"TV-MA\",\"TV-14\",\"TV-14\",\"TV-MA\",\"TV-14\",\"TV-Y7\",\"TV-MA\",\"TV-MA\",\"TV-MA\",\"TV-MA\",\"TV-MA\",\"TV-MA\",\"TV-MA\",\"TV-MA\",\"TV-G\",\"TV-14\",\"TV-MA\",\"TV-14\",\"TV-14\",\"TV-MA\",\"TV-MA\",\"TV-14\",\"TV-14\",\"TV-MA\",\"TV-14\",\"TV-PG\",\"TV-MA\",\"TV-14\",\"TV-14\",\"TV-Y7\",\"TV-MA\",\"TV-PG\",\"TV-14\",\"TV-MA\",\"TV-Y7\",\"TV-MA\",\"TV-MA\",\"TV-Y\",\"TV-MA\",\"TV-Y\",\"TV-MA\",\"TV-MA\",\"TV-MA\",\"TV-14\",\"TV-MA\",\"TV-Y7\",\"TV-MA\",\"TV-MA\",\"TV-PG\",\"TV-PG\",\"TV-PG\",\"TV-14\",\"TV-MA\",\"TV-Y\",\"TV-MA\",\"TV-PG\",\"TV-G\",\"TV-MA\",\"TV-14\",\"TV-MA\",\"TV-PG\",\"TV-MA\",\"TV-MA\",\"TV-MA\",\"TV-G\",\"TV-MA\",\"TV-PG\",\"TV-MA\",\"TV-14\",\"TV-14\",\"TV-MA\",\"TV-PG\",\"TV-MA\",\"TV-14\",\"TV-MA\",\"TV-PG\",\"TV-14\",\"TV-14\",\"TV-MA\",\"TV-MA\",\"TV-MA\",\"TV-MA\",\"TV-Y\",\"TV-14\",\"TV-MA\",\"TV-MA\",\"TV-MA\",\"TV-MA\",\"TV-MA\",\"TV-MA\",\"TV-MA\",\"TV-MA\",\"TV-14\",\"TV-MA\",\"TV-MA\",\"TV-14\",\"TV-14\",\"TV-MA\",\"TV-MA\",\"TV-Y7\",\"TV-14\",\"TV-MA\",\"TV-MA\",\"TV-MA\",\"TV-14\",\"TV-G\",\"TV-Y7\",\"TV-Y\",\"TV-MA\",\"TV-MA\",\"TV-MA\",\"TV-MA\",\"TV-MA\",\"TV-MA\",\"TV-MA\",\"TV-MA\",\"TV-14\",\"TV-Y\",\"TV-Y7\",\"TV-Y7\",\"TV-PG\",\"TV-MA\",\"TV-MA\",\"TV-14\",\"TV-PG\",\"TV-MA\",\"TV-MA\",\"TV-MA\",\"TV-MA\",\"TV-Y7\",\"TV-MA\",\"TV-MA\",\"TV-14\",\"TV-MA\",\"TV-MA\",\"TV-MA\",\"TV-MA\",\"TV-14\",\"TV-MA\",\"TV-MA\",\"TV-Y\",\"TV-14\",\"TV-14\",\"TV-MA\",\"TV-Y\",\"TV-14\",\"TV-MA\",\"TV-MA\",\"TV-MA\",\"TV-MA\",\"TV-MA\",\"TV-14\",\"TV-MA\",\"TV-MA\",\"TV-14\",\"TV-MA\",\"TV-MA\",\"TV-MA\",\"TV-G\",\"TV-MA\",\"TV-MA\",\"TV-PG\",\"TV-MA\",\"TV-Y\",\"TV-MA\",\"TV-MA\",\"TV-MA\",\"TV-14\",\"TV-MA\",\"TV-Y\",\"TV-MA\",\"TV-Y\",\"TV-14\",\"TV-14\",\"TV-14\",\"TV-MA\",\"TV-MA\",\"TV-14\",\"TV-MA\",\"TV-PG\",\"TV-MA\",\"TV-MA\",\"TV-Y7\",\"TV-MA\",\"TV-14\",\"TV-Y\",\"TV-MA\",\"TV-MA\",\"TV-MA\",\"TV-14\",\"TV-MA\",\"TV-14\",\"TV-14\",\"TV-PG\",\"TV-MA\",\"TV-MA\",\"TV-14\",\"TV-MA\",\"TV-MA\",\"TV-MA\",\"TV-14\",\"TV-14\",\"TV-14\",\"TV-MA\",\"TV-PG\",\"TV-MA\",\"TV-MA\",\"TV-14\",\"TV-PG\",\"TV-14\",\"TV-14\",\"TV-MA\",\"TV-Y\",\"TV-G\",\"TV-14\",\"TV-MA\",\"TV-Y7\",\"TV-MA\",\"TV-MA\",\"TV-Y\",\"TV-MA\",\"TV-MA\",\"TV-14\",\"TV-PG\",\"TV-MA\",\"TV-MA\",\"TV-14\",\"TV-14\",\"TV-PG\",\"TV-Y7\",\"TV-MA\",\"TV-MA\",\"TV-Y7\",\"TV-MA\",\"TV-14\",\"TV-MA\",\"TV-MA\",\"TV-14\",\"TV-PG\",\"TV-MA\",\"TV-Y7\",\"TV-Y\",\"TV-Y7\",\"TV-MA\",\"TV-14\",\"TV-14\",\"TV-MA\",\"TV-MA\",\"TV-MA\",\"TV-MA\",\"TV-PG\",\"TV-14\",\"TV-MA\",\"TV-MA\",\"TV-MA\",\"TV-MA\",\"TV-MA\",\"TV-MA\",\"TV-PG\",\"TV-Y\",\"TV-14\",\"TV-MA\",\"TV-PG\",\"TV-Y7\",\"TV-Y7\",\"TV-MA\",\"TV-PG\",\"TV-PG\",\"TV-MA\",\"TV-14\",\"TV-MA\",\"TV-MA\",\"TV-MA\",\"TV-MA\",\"TV-PG\",\"TV-14\",\"TV-MA\",\"TV-MA\",\"TV-Y\",\"TV-14\",\"TV-Y\",\"TV-MA\",\"TV-14\",\"TV-14\",\"TV-MA\",\"TV-PG\",\"TV-MA\",\"TV-MA\",\"TV-MA\",\"TV-14\",\"TV-14\",\"TV-PG\",\"TV-MA\",\"TV-MA\",\"TV-MA\",\"TV-Y7\",\"TV-Y7\",\"TV-MA\",\"TV-MA\",\"TV-MA\",\"TV-14\",\"TV-MA\",\"TV-14\",\"TV-MA\",\"TV-14\",\"TV-PG\",\"TV-MA\",\"TV-Y\",\"TV-PG\",\"TV-14\",\"TV-MA\",\"TV-MA\",\"TV-14\",\"TV-MA\",\"TV-14\",\"TV-14\",\"TV-MA\",\"TV-14\",\"TV-14\",\"TV-MA\",\"TV-14\",\"TV-Y7\",\"TV-MA\",\"TV-14\",\"TV-PG\",\"TV-MA\",\"TV-PG\",\"TV-MA\",\"TV-G\",\"TV-G\",\"TV-PG\",\"TV-MA\",\"TV-14\",\"TV-PG\",\"TV-14\",\"TV-PG\",\"TV-14\",\"TV-14\",\"TV-14\",\"TV-MA\",\"TV-Y7\",\"TV-MA\",\"TV-MA\",\"TV-MA\",\"TV-MA\",\"TV-MA\",\"TV-14\",\"TV-14\",\"TV-14\",\"TV-MA\",\"TV-PG\",\"TV-G\",\"TV-MA\",\"TV-MA\",\"TV-MA\",\"TV-MA\",\"TV-14\",\"TV-PG\",\"TV-14\",\"TV-MA\",\"TV-MA\",\"TV-Y\",\"TV-PG\",\"TV-Y\",\"TV-Y\",\"TV-Y7\",\"TV-Y7\",\"TV-MA\",\"TV-14\",\"TV-PG\",\"TV-MA\",\"TV-14\",\"TV-MA\",\"TV-14\",\"TV-MA\",\"TV-MA\",\"TV-Y7\",\"TV-14\",\"TV-MA\",\"TV-Y7\",\"TV-14\",\"TV-PG\",\"TV-MA\",\"TV-PG\",\"TV-MA\",\"TV-Y\",\"TV-MA\",\"TV-MA\",\"TV-14\",\"TV-14\",\"TV-MA\",\"TV-MA\",\"TV-MA\",\"TV-MA\",\"TV-Y7\",\"TV-14\",\"TV-PG\",\"TV-MA\",\"TV-MA\",\"TV-MA\",\"TV-MA\",\"TV-14\",\"TV-MA\",\"TV-MA\",\"TV-MA\",\"TV-MA\",\"TV-MA\",\"TV-MA\",\"TV-14\",\"TV-MA\",\"TV-14\",\"TV-MA\",\"TV-MA\",\"TV-MA\",\"TV-MA\",\"TV-MA\",\"TV-MA\",\"TV-14\",\"TV-MA\",\"TV-Y\",\"TV-G\",\"TV-14\",\"TV-14\",\"TV-Y\",\"TV-14\",\"TV-PG\",\"TV-MA\",\"TV-Y\",\"TV-MA\",\"TV-MA\",\"TV-14\",\"TV-PG\",\"TV-MA\",\"TV-MA\",\"TV-MA\",\"TV-14\",\"TV-MA\",\"TV-MA\",\"TV-MA\",\"TV-MA\",\"TV-MA\",\"TV-MA\",\"TV-MA\",\"TV-MA\",\"TV-MA\",\"TV-Y7\",\"TV-MA\",\"TV-MA\",\"TV-MA\",\"TV-14\",\"TV-MA\",\"TV-MA\",\"TV-14\",\"TV-MA\",\"TV-PG\",\"TV-MA\",\"TV-MA\",\"TV-MA\",\"TV-MA\",\"TV-MA\",\"TV-PG\",\"TV-PG\",\"TV-MA\",\"TV-MA\",\"TV-PG\",\"TV-14\",\"TV-MA\",\"TV-Y\",\"TV-MA\",\"TV-14\",\"TV-Y7\",\"TV-MA\",\"TV-14\",\"TV-Y7\",\"TV-14\",\"TV-PG\",\"TV-14\",\"TV-14\",\"TV-PG\",\"TV-Y7\",\"TV-MA\",\"TV-MA\",\"TV-14\",\"TV-14\",\"TV-Y\",\"TV-G\",\"TV-14\",\"TV-MA\",\"TV-14\",\"TV-MA\",\"TV-MA\",\"TV-14\",\"TV-14\",\"TV-14\",\"TV-PG\",\"TV-Y\",\"TV-Y\",\"TV-Y7\",\"TV-MA\",\"TV-MA\",\"TV-MA\",\"TV-MA\",\"TV-MA\",\"TV-Y\",\"TV-MA\",\"TV-MA\",\"TV-14\",\"TV-MA\",\"TV-MA\",\"TV-PG\",\"TV-MA\",\"TV-MA\",\"TV-14\",\"TV-14\",\"TV-MA\",\"TV-MA\",\"TV-MA\",\"TV-14\",\"TV-MA\",\"TV-MA\",\"TV-MA\",\"TV-PG\",\"TV-MA\",\"TV-MA\",\"TV-MA\",\"TV-MA\",\"TV-14\",\"TV-MA\",\"TV-MA\",\"TV-MA\",\"TV-Y\",\"TV-MA\",\"TV-Y\",\"TV-MA\",\"TV-MA\",\"TV-14\",\"TV-G\",\"TV-MA\",\"TV-14\",\"TV-14\",\"TV-MA\",\"TV-MA\",\"TV-MA\",\"TV-MA\",\"TV-MA\",\"TV-MA\",\"TV-MA\",\"TV-G\",\"TV-MA\",\"TV-MA\",\"TV-MA\",\"TV-MA\",\"TV-Y\",\"TV-Y\",\"TV-14\",\"TV-14\",\"TV-14\",\"TV-MA\",\"TV-MA\",\"TV-MA\",\"TV-14\",\"TV-MA\",\"TV-PG\",\"TV-PG\",\"TV-14\",\"TV-PG\",\"TV-14\",\"TV-PG\",\"TV-14\",\"TV-PG\",\"TV-14\",\"TV-14\",\"TV-14\",\"TV-14\",\"TV-14\",\"TV-14\",\"TV-MA\",\"TV-Y7\",\"TV-PG\",\"TV-MA\",\"TV-MA\",\"TV-14\",\"TV-MA\",\"TV-MA\",\"TV-14\",\"TV-14\",\"TV-MA\",\"TV-MA\",\"TV-MA\",\"TV-MA\",\"TV-MA\",\"TV-PG\",\"R\",\"TV-MA\",\"TV-MA\",\"TV-MA\",\"TV-PG\",\"TV-MA\",\"TV-MA\",\"TV-MA\",\"TV-14\",\"TV-MA\",\"TV-PG\",\"TV-MA\",\"TV-MA\",\"TV-MA\",\"TV-PG\",\"TV-MA\",\"TV-PG\",\"TV-MA\",\"TV-Y7\",\"TV-MA\",\"TV-MA\",\"TV-14\",\"TV-Y7\",\"TV-MA\",\"TV-14\",\"TV-Y\",\"TV-MA\",\"TV-MA\",\"TV-14\",\"TV-MA\",\"TV-MA\",\"TV-MA\",\"TV-14\",\"TV-Y\",\"TV-MA\",\"TV-MA\",\"TV-14\",\"TV-MA\",\"TV-Y\",\"TV-14\",\"TV-14\",\"TV-MA\",\"TV-MA\",\"TV-MA\",\"TV-14\",\"TV-Y7\",\"TV-14\",\"TV-MA\",\"TV-14\",\"TV-14\",\"TV-14\",\"TV-14\",\"TV-MA\",\"TV-14\",\"TV-MA\",\"TV-MA\",\"TV-PG\",\"TV-MA\",\"TV-MA\",\"TV-MA\",\"TV-MA\",\"TV-Y7\",\"TV-MA\",\"TV-14\",\"TV-14\",\"TV-MA\",\"TV-MA\",\"TV-PG\",\"TV-PG\",\"TV-MA\",\"TV-MA\",\"TV-MA\",\"TV-14\",\"TV-Y\",\"TV-14\",\"TV-14\",\"TV-MA\",\"TV-PG\",\"TV-MA\",\"TV-14\",\"TV-MA\",\"TV-MA\",\"TV-MA\",\"TV-14\",\"TV-14\",\"TV-Y7\",\"TV-MA\",\"TV-MA\",\"TV-MA\",\"TV-Y\",\"TV-MA\",\"TV-MA\",\"TV-MA\",\"TV-MA\",\"TV-MA\",\"TV-14\",\"TV-MA\",\"TV-MA\",\"TV-MA\",\"TV-14\",\"TV-G\",\"TV-MA\",\"TV-14\",\"TV-14\",\"TV-MA\",\"TV-MA\",\"TV-MA\",\"TV-Y7\",\"TV-Y\",\"TV-MA\",\"TV-14\",\"TV-14\",\"TV-PG\",\"TV-MA\",\"TV-MA\",\"TV-PG\",\"TV-14\",\"TV-MA\",\"TV-MA\",\"TV-MA\",\"TV-14\",\"TV-PG\",\"TV-14\",\"TV-PG\",\"TV-14\",\"TV-MA\",\"TV-MA\",\"TV-PG\",\"TV-14\",\"TV-14\",\"TV-MA\",\"TV-14\",\"TV-MA\",\"TV-MA\",\"TV-MA\",\"TV-14\",\"TV-MA\",\"TV-14\",\"TV-PG\",\"TV-MA\",\"TV-14\",\"TV-MA\",\"TV-MA\",\"TV-MA\",\"TV-MA\",\"TV-MA\",\"TV-Y7\",\"TV-MA\",\"TV-MA\",\"TV-MA\",\"TV-MA\",\"TV-14\",\"TV-MA\",\"TV-G\",\"TV-MA\",\"TV-PG\",\"TV-MA\",\"TV-Y7\",\"TV-MA\",\"TV-PG\",\"TV-MA\",\"TV-MA\",\"TV-MA\",\"TV-14\",\"TV-Y7\",\"TV-Y7\",\"TV-PG\",\"TV-14\",\"TV-14\",\"TV-14\",\"TV-G\",\"TV-MA\",\"TV-Y\",\"TV-MA\",\"TV-PG\",\"TV-MA\",\"TV-MA\",\"TV-MA\",\"TV-Y\",\"TV-MA\",\"TV-MA\",\"TV-MA\",\"TV-14\",\"TV-G\",\"TV-Y\",\"TV-MA\",\"TV-PG\",\"TV-MA\",\"TV-MA\",\"TV-PG\",\"TV-14\",\"TV-14\",\"TV-MA\",\"TV-14\",\"TV-PG\",\"TV-PG\",\"TV-14\",\"TV-MA\",\"TV-MA\",\"TV-MA\",\"TV-PG\",\"TV-MA\",\"TV-MA\",\"TV-Y7\",\"TV-MA\",\"TV-PG\",\"TV-MA\",\"TV-MA\",\"TV-PG\",\"TV-MA\",\"TV-Y\",\"TV-14\",\"TV-14\",\"TV-14\",\"TV-MA\",\"TV-PG\",\"TV-MA\",\"TV-MA\",\"TV-MA\",\"TV-14\",\"TV-MA\",\"TV-MA\",\"TV-14\",\"TV-14\",\"TV-MA\",\"TV-Y7\",\"TV-Y7\",\"TV-MA\",\"TV-14\",\"TV-MA\",\"TV-14\",\"TV-PG\",\"TV-Y7\",\"TV-14\",\"TV-MA\",\"TV-PG\",\"TV-MA\",\"TV-MA\",\"TV-Y\",\"TV-14\",\"TV-MA\",\"TV-MA\",\"TV-G\",\"TV-14\",\"TV-Y7\",\"TV-Y7\",\"TV-MA\",\"TV-MA\",\"TV-Y7\",\"TV-MA\",\"TV-14\",\"TV-MA\",\"TV-MA\",\"TV-MA\",\"TV-MA\",\"TV-MA\",\"TV-PG\",\"TV-PG\",\"TV-MA\",\"TV-MA\",\"TV-MA\",\"TV-14\",\"TV-MA\",\"TV-PG\",\"TV-14\",\"TV-MA\",\"TV-PG\",\"TV-14\",\"TV-14\",\"TV-14\",\"TV-MA\",\"TV-Y7\",\"TV-G\",\"TV-MA\",\"TV-14\",\"TV-MA\",\"TV-MA\",\"TV-MA\",\"TV-MA\",\"TV-MA\",\"TV-MA\",\"TV-PG\",\"TV-MA\",\"TV-Y7\",\"TV-MA\",\"TV-Y\",\"TV-14\",\"TV-MA\",\"TV-14\",\"TV-MA\",\"TV-MA\",\"TV-MA\",\"TV-MA\",\"TV-PG\",\"TV-14\",\"TV-14\",\"TV-MA\",\"TV-MA\",\"TV-Y7\",\"TV-MA\",\"TV-14\",\"TV-MA\",\"TV-MA\",\"TV-Y\",\"TV-Y\",\"TV-MA\",\"TV-14\",\"TV-Y7\",\"TV-MA\",\"TV-14\",\"TV-MA\",\"TV-MA\",\"TV-MA\",\"TV-Y7\",\"TV-MA\",\"TV-Y\",\"TV-Y7\",\"TV-MA\",\"TV-14\",\"TV-MA\",\"TV-PG\",\"TV-G\",\"TV-Y7\",\"TV-Y\",\"TV-PG\",\"TV-14\",\"TV-MA\",\"TV-14\",\"TV-PG\",\"TV-PG\",\"TV-14\",\"TV-MA\",\"TV-MA\",\"TV-MA\",\"TV-Y\",\"TV-MA\",\"TV-MA\",\"TV-PG\",\"TV-PG\",\"TV-MA\",\"TV-MA\",\"TV-MA\",\"TV-MA\",\"TV-MA\",\"TV-14\",\"TV-14\",\"TV-MA\",\"TV-MA\",\"TV-MA\",\"TV-MA\",\"TV-14\",\"TV-MA\",\"TV-14\",\"TV-14\",\"TV-MA\",\"TV-MA\",\"TV-MA\",\"TV-MA\",\"TV-MA\",\"TV-14\",\"TV-MA\",\"TV-MA\",\"TV-14\",\"TV-MA\",\"TV-Y7\",\"TV-14\",\"TV-MA\",\"TV-14\",\"TV-MA\",\"TV-MA\",\"TV-MA\",\"TV-Y7\",\"TV-MA\",\"TV-MA\",\"TV-PG\",\"TV-MA\",\"TV-14\",\"TV-MA\",\"TV-PG\",\"TV-MA\",\"TV-MA\",\"TV-14\",\"TV-14\",\"TV-MA\",\"TV-Y7\",\"TV-MA\",\"TV-MA\",\"TV-MA\",\"TV-14\",\"TV-14\",\"TV-PG\",\"TV-14\",\"TV-14\",\"TV-MA\",\"TV-MA\",\"TV-14\",\"TV-14\",\"TV-14\",\"TV-Y7\",\"TV-14\",\"TV-PG\",\"TV-Y7\",\"TV-14\",\"TV-14\",\"TV-MA\",\"TV-MA\",\"TV-14\",\"TV-MA\",\"TV-MA\",\"TV-MA\",\"TV-MA\",\"TV-MA\",\"TV-Y\",\"TV-MA\",\"TV-14\",\"TV-MA\",\"TV-MA\",\"TV-Y7\",\"TV-MA\",\"TV-MA\",\"TV-G\",\"TV-14\",\"TV-MA\",\"TV-MA\",\"TV-MA\",\"TV-14\",\"TV-14\",\"TV-14\",\"TV-14\",\"TV-MA\",\"TV-MA\",\"TV-PG\",\"TV-MA\",\"TV-PG\",\"TV-14\",\"TV-Y\",\"TV-G\",\"TV-PG\",\"TV-Y7\",\"TV-Y7\",\"TV-Y7\",\"TV-14\",\"TV-Y\",\"TV-14\",\"TV-PG\",\"TV-14\",\"TV-14\",\"TV-14\",\"TV-MA\",\"TV-PG\",\"TV-14\",\"TV-MA\",\"TV-PG\",\"TV-14\",\"TV-14\",\"TV-Y\",\"TV-MA\",\"TV-MA\",\"TV-MA\",\"TV-PG\",\"TV-14\",\"TV-14\",\"TV-14\",\"TV-MA\",\"TV-PG\",\"TV-PG\",\"TV-14\",\"TV-PG\",\"TV-Y7\",\"TV-MA\",\"TV-Y7\",\"TV-MA\",\"TV-MA\",\"TV-MA\",\"TV-MA\",\"TV-14\",\"TV-14\",\"TV-14\",\"TV-14\",\"TV-14\",\"TV-PG\",\"TV-MA\",\"TV-14\",\"TV-MA\",\"TV-14\",\"TV-MA\",\"TV-MA\",\"TV-MA\",\"TV-14\",\"TV-MA\",\"TV-Y7\",\"TV-14\",\"TV-PG\",\"TV-14\",\"TV-14\",\"TV-14\",\"TV-MA\",\"TV-14\",\"TV-Y\",\"TV-14\",\"TV-MA\",\"TV-Y\",\"TV-14\",\"TV-14\",\"TV-14\",\"TV-MA\",\"TV-14\",\"TV-14\",\"TV-14\",\"TV-14\",\"TV-14\",\"TV-14\",\"TV-MA\",\"TV-Y7\",\"TV-14\",\"TV-Y7\",\"TV-MA\",\"TV-Y7\",\"TV-PG\",\"TV-PG\",\"TV-14\",\"TV-PG\",\"TV-14\",\"TV-14\",\"TV-MA\",\"TV-MA\",\"TV-MA\",\"TV-14\",\"TV-Y7\",\"TV-MA\",\"TV-14\",\"TV-14\",\"TV-MA\",\"TV-MA\",\"TV-MA\",\"TV-Y7\",\"TV-Y\",\"TV-14\",\"TV-14\",\"TV-14\",\"TV-MA\",\"TV-Y7\",\"TV-MA\",\"TV-MA\",\"TV-Y7\",\"TV-14\",\"TV-MA\",\"TV-MA\",\"TV-MA\",\"TV-MA\",\"TV-Y7\",\"TV-MA\",\"TV-14\",\"TV-Y\",\"TV-MA\",\"TV-PG\",\"TV-PG\",\"TV-Y7\",\"TV-14\",\"TV-14\",\"TV-MA\",\"TV-Y7\",\"TV-14\",\"TV-PG\",\"TV-14\",\"TV-14\",\"TV-PG\",\"TV-14\",\"TV-14\",\"TV-Y\",\"TV-14\",\"TV-14\",\"TV-MA\",\"TV-14\",\"TV-MA\",\"TV-MA\",\"TV-PG\",\"TV-14\",\"TV-14\",\"TV-MA\",\"TV-14\",\"TV-14\",\"TV-14\",\"TV-14\",\"TV-PG\",\"TV-PG\",\"TV-MA\",\"TV-MA\",\"TV-14\",\"TV-14\",\"TV-14\",\"TV-MA\",\"TV-G\",\"TV-PG\",\"TV-PG\",\"TV-14\",\"TV-14\",\"TV-MA\",\"TV-MA\",\"TV-MA\",\"TV-MA\",\"TV-Y7\",\"TV-14\",\"TV-14\",\"TV-14\",\"TV-MA\",\"TV-14\",\"TV-14\",\"TV-MA\",\"TV-MA\",\"TV-14\",\"TV-MA\",\"TV-14\",\"TV-Y\",\"TV-PG\",\"TV-14\",\"TV-14\",\"TV-14\",\"TV-Y\",\"TV-PG\",\"TV-MA\",\"TV-14\",\"TV-14\",\"TV-Y\",\"TV-14\",\"TV-Y7\",\"TV-14\",\"TV-MA\",\"TV-MA\",\"TV-MA\",\"TV-14\",\"TV-Y7\",\"TV-14\",\"TV-MA\",\"TV-14\",\"TV-G\",\"TV-MA\",\"TV-Y7\",\"TV-Y\",\"TV-14\",\"TV-MA\",\"TV-Y\",\"TV-MA\",\"TV-PG\",\"TV-PG\",\"TV-MA\",\"TV-Y\",\"TV-14\",\"TV-MA\",\"TV-14\",\"TV-14\",\"TV-Y\",\"TV-Y7\",\"TV-Y\",\"TV-MA\",\"TV-Y\",\"TV-PG\",\"TV-MA\",\"TV-MA\",\"TV-PG\",\"TV-MA\",\"TV-Y7\",\"TV-Y\",\"TV-Y\",\"TV-MA\",\"TV-G\",\"TV-MA\",\"TV-14\",\"TV-MA\",\"TV-14\",\"TV-14\",\"TV-MA\",\"TV-14\",\"TV-14\",\"TV-14\",\"TV-14\",\"TV-PG\",\"TV-14\",\"TV-14\",\"TV-MA\",\"TV-14\",\"TV-PG\",\"TV-14\",\"TV-PG\",\"TV-MA\",\"TV-MA\",\"TV-14\",\"TV-PG\",\"TV-Y\",\"TV-14\",\"TV-MA\",\"TV-PG\",\"TV-14\",\"TV-14\",\"TV-14\",\"TV-14\",\"TV-14\",\"TV-PG\",\"TV-Y7\",\"TV-Y7\",\"TV-MA\",\"TV-MA\",\"TV-14\",\"TV-MA\",\"TV-MA\",\"TV-Y\",\"TV-MA\",\"TV-14\",\"TV-PG\",\"TV-Y\",\"TV-PG\",\"TV-14\",\"TV-14\",\"TV-MA\",\"TV-MA\",\"TV-MA\",\"TV-14\",\"TV-Y7\",\"TV-Y7\",\"TV-PG\",\"TV-14\",\"TV-G\",\"TV-G\",\"TV-MA\",\"TV-MA\",\"TV-14\",\"TV-14\",\"TV-G\",\"TV-G\",\"TV-PG\",\"TV-PG\",\"TV-14\",\"TV-MA\",\"TV-G\",\"TV-14\",\"TV-PG\",\"TV-14\",\"TV-14\",\"TV-PG\",\"TV-PG\",\"TV-MA\",\"TV-PG\",\"TV-MA\",\"TV-Y\",\"TV-14\",\"TV-14\",\"TV-MA\",\"TV-14\",\"TV-MA\",\"TV-Y\",\"TV-14\",\"TV-MA\",\"TV-PG\",\"TV-14\",\"TV-PG\",\"TV-PG\",\"TV-14\",\"TV-MA\",\"TV-G\",\"TV-MA\",\"TV-Y7\",\"TV-PG\",\"TV-14\",\"TV-PG\",\"TV-14\",\"TV-MA\",\"TV-MA\",\"TV-MA\",\"TV-MA\",\"TV-MA\",\"TV-MA\",\"TV-14\",\"TV-MA\",\"TV-14\",\"TV-14\",\"TV-14\",\"TV-MA\",\"TV-MA\",\"TV-MA\",\"TV-PG\",\"TV-PG\",\"TV-MA\",\"TV-MA\",\"TV-MA\",\"TV-MA\",\"TV-MA\",\"TV-MA\",\"TV-MA\",\"TV-PG\",\"TV-MA\",\"TV-MA\",\"TV-G\",\"TV-MA\",\"TV-14\",\"TV-14\",\"TV-MA\",\"TV-14\",\"TV-Y\",\"TV-PG\",\"TV-14\",\"TV-MA\",\"NR\",\"TV-MA\",\"TV-MA\",\"TV-PG\",\"TV-14\",\"TV-MA\",\"TV-PG\",\"TV-MA\",\"TV-14\",\"TV-MA\",\"TV-PG\",\"TV-PG\",\"TV-14\",\"TV-14\",\"TV-MA\",\"TV-14\",\"TV-MA\",\"TV-G\",\"TV-MA\",\"TV-14\",\"TV-MA\",\"TV-14\",\"TV-14\",\"TV-G\",\"TV-Y7\",\"TV-PG\",\"TV-14\",\"TV-14\",\"TV-PG\",\"TV-MA\",\"TV-MA\",\"TV-PG\",\"TV-PG\",\"TV-14\",\"TV-PG\",\"TV-14\",\"TV-PG\",\"TV-MA\",\"TV-PG\",\"missing rating\",\"TV-PG\",\"TV-PG\",\"TV-MA\",\"TV-Y\",\"TV-MA\",\"TV-14\",\"TV-14\",\"TV-Y\",\"TV-MA\",\"TV-14\",\"TV-14\",\"TV-14\",\"TV-PG\",\"TV-PG\",\"TV-PG\",\"TV-14\",\"TV-MA\",\"TV-MA\",\"TV-14\",\"TV-MA\",\"TV-MA\",\"TV-14\",\"TV-Y7\",\"TV-PG\",\"TV-14\",\"TV-14\",\"TV-MA\",\"TV-MA\",\"TV-14\",\"TV-MA\",\"TV-Y7\",\"TV-PG\",\"TV-PG\",\"TV-14\",\"TV-MA\",\"TV-PG\",\"TV-Y\",\"TV-MA\",\"TV-14\",\"TV-14\",\"TV-MA\",\"TV-PG\",\"TV-14\",\"TV-Y7\",\"TV-14\",\"TV-14\",\"TV-MA\",\"TV-PG\",\"TV-14\",\"TV-PG\",\"TV-MA\",\"TV-14\",\"TV-14\",\"TV-MA\",\"TV-MA\",\"TV-Y7\",\"TV-PG\",\"TV-MA\",\"TV-MA\",\"TV-G\",\"TV-G\",\"TV-14\",\"TV-14\",\"TV-Y7\",\"TV-14\",\"TV-MA\",\"TV-14\",\"TV-Y\",\"TV-MA\",\"TV-14\",\"TV-14\",\"TV-PG\",\"TV-PG\",\"TV-14\",\"TV-14\",\"TV-14\",\"TV-14\",\"TV-Y\",\"TV-PG\",\"TV-14\",\"TV-14\",\"TV-MA\",\"TV-PG\",\"TV-Y7\",\"TV-14\",\"TV-14\",\"TV-14\",\"TV-MA\",\"TV-PG\",\"TV-14\",\"TV-14\",\"TV-14\",\"TV-14\",\"TV-Y\",\"TV-PG\",\"TV-G\",\"TV-Y\",\"TV-Y\",\"TV-MA\",\"TV-PG\",\"TV-G\",\"TV-14\",\"TV-MA\",\"missing rating\",\"TV-G\",\"TV-14\",\"TV-14\",\"TV-Y\",\"TV-MA\",\"TV-MA\",\"TV-14\",\"TV-14\",\"TV-MA\",\"TV-PG\",\"TV-MA\",\"TV-G\",\"TV-PG\",\"TV-14\",\"TV-Y7\",\"TV-14\",\"TV-14\",\"TV-14\",\"TV-14\",\"TV-14\",\"TV-PG\",\"TV-14\",\"TV-MA\",\"TV-14\",\"TV-PG\",\"TV-14\",\"TV-G\",\"TV-PG\",\"TV-14\",\"TV-14\",\"TV-MA\",\"TV-PG\",\"TV-14\",\"TV-Y7\",\"TV-G\",\"TV-PG\",\"TV-14\",\"TV-MA\",\"TV-14\",\"TV-PG\",\"TV-PG\",\"TV-Y\",\"TV-G\",\"TV-G\",\"TV-G\",\"TV-MA\",\"TV-PG\",\"TV-PG\",\"TV-14\",\"TV-MA\",\"TV-14\",\"TV-PG\",\"TV-G\",\"TV-PG\",\"TV-PG\",\"TV-PG\",\"TV-PG\",\"TV-PG\",\"TV-MA\",\"TV-Y7\",\"TV-G\",\"R\",\"NR\",\"TV-MA\",\"TV-MA\",\"TV-MA\",\"TV-MA\",\"TV-14\",\"TV-MA\",\"TV-14\",\"TV-Y7-FV\",\"TV-PG\",\"TV-Y\",\"TV-PG\",\"TV-14\",\"TV-PG\",\"TV-PG\",\"TV-PG\",\"TV-Y\",\"TV-14\",\"TV-Y\",\"TV-14\",\"TV-14\",\"TV-14\",\"TV-14\",\"TV-PG\",\"TV-MA\",\"TV-14\",\"TV-14\",\"TV-G\",\"TV-PG\",\"TV-14\",\"TV-14\",\"TV-Y7\",\"TV-Y7\",\"TV-Y7\",\"TV-Y7\",\"TV-Y7\",\"TV-Y7\",\"TV-Y7\",\"TV-Y7\",\"TV-Y7\",\"TV-Y7\",\"TV-Y7\",\"TV-Y7\",\"TV-Y7\",\"TV-Y7\",\"TV-Y7\",\"TV-Y7\",\"TV-Y7\",\"TV-Y7\",\"TV-Y7\",\"TV-Y7\",\"TV-Y7\",\"TV-Y\",\"TV-PG\",\"TV-MA\",\"TV-14\",\"TV-MA\",\"TV-MA\",\"TV-MA\",\"TV-14\",\"TV-14\",\"TV-14\",\"TV-14\",\"TV-MA\",\"TV-14\",\"TV-MA\",\"NR\",\"TV-MA\",\"TV-14\",\"TV-MA\",\"TV-PG\",\"TV-MA\",\"TV-MA\",\"TV-14\",\"TV-MA\",\"TV-14\",\"TV-PG\",\"TV-PG\",\"TV-14\",\"NR\",\"TV-PG\",\"TV-PG\",\"TV-G\",\"TV-14\",\"TV-14\",\"TV-MA\",\"TV-14\",\"TV-MA\",\"TV-14\",\"TV-14\",\"TV-Y\",\"TV-MA\",\"TV-14\",\"TV-MA\",\"TV-14\",\"TV-14\",\"TV-MA\",\"TV-MA\",\"TV-Y\",\"TV-MA\",\"TV-Y\",\"TV-14\",\"TV-MA\",\"TV-PG\",\"TV-Y7\",\"TV-MA\",\"TV-Y\",\"TV-14\",\"TV-PG\",\"TV-MA\",\"TV-Y\",\"TV-Y\",\"TV-PG\",\"TV-MA\",\"TV-14\",\"TV-PG\",\"TV-14\",\"TV-MA\",\"TV-PG\",\"TV-Y7\",\"TV-MA\",\"TV-14\",\"TV-MA\",\"TV-PG\",\"TV-Y7\",\"TV-G\",\"TV-PG\",\"TV-14\",\"TV-MA\",\"TV-PG\",\"TV-14\",\"TV-PG\",\"TV-G\",\"TV-MA\",\"TV-MA\",\"TV-14\",\"TV-PG\",\"TV-14\",\"TV-PG\",\"TV-Y7\",\"TV-14\",\"TV-MA\",\"TV-PG\",\"TV-MA\",\"TV-MA\",\"TV-14\",\"TV-Y\",\"TV-PG\",\"TV-G\",\"TV-PG\",\"NR\",\"TV-MA\",\"TV-PG\",\"TV-PG\",\"TV-PG\",\"TV-MA\",\"TV-MA\",\"TV-MA\",\"TV-PG\",\"TV-Y7\",\"TV-PG\",\"TV-MA\",\"TV-MA\",\"TV-14\",\"TV-14\",\"TV-PG\",\"TV-14\",\"TV-PG\",\"TV-G\",\"TV-MA\",\"TV-MA\",\"TV-MA\",\"TV-MA\",\"TV-MA\",\"TV-14\",\"TV-14\",\"TV-PG\",\"TV-14\",\"TV-MA\",\"TV-MA\",\"TV-14\",\"TV-PG\",\"TV-MA\",\"TV-14\",\"TV-14\",\"TV-Y7\",\"TV-MA\",\"TV-MA\",\"TV-14\",\"TV-MA\",\"TV-14\",\"TV-MA\",\"TV-14\",\"TV-14\",\"TV-MA\",\"TV-PG\",\"TV-14\",\"TV-14\",\"TV-14\",\"TV-14\",\"TV-14\",\"TV-Y\",\"TV-MA\",\"TV-Y7\",\"TV-14\",\"TV-MA\",\"TV-MA\",\"TV-MA\",\"TV-14\",\"TV-Y\",\"TV-14\",\"TV-G\",\"TV-Y7\",\"TV-Y\",\"TV-14\",\"TV-MA\",\"TV-MA\",\"TV-PG\",\"TV-14\",\"TV-14\",\"TV-PG\",\"TV-14\",\"TV-PG\",\"TV-PG\",\"TV-G\",\"TV-MA\",\"TV-14\",\"TV-PG\",\"TV-PG\",\"TV-Y7\",\"TV-Y\",\"TV-Y7\",\"TV-Y7\",\"TV-PG\",\"TV-Y7\",\"TV-PG\",\"TV-Y7\"],\"xaxis\":\"x\",\"yaxis\":\"y\",\"type\":\"histogram\"}],                        {\"template\":{\"data\":{\"histogram2dcontour\":[{\"type\":\"histogram2dcontour\",\"colorbar\":{\"outlinewidth\":0,\"ticks\":\"\"},\"colorscale\":[[0.0,\"#0d0887\"],[0.1111111111111111,\"#46039f\"],[0.2222222222222222,\"#7201a8\"],[0.3333333333333333,\"#9c179e\"],[0.4444444444444444,\"#bd3786\"],[0.5555555555555556,\"#d8576b\"],[0.6666666666666666,\"#ed7953\"],[0.7777777777777778,\"#fb9f3a\"],[0.8888888888888888,\"#fdca26\"],[1.0,\"#f0f921\"]]}],\"choropleth\":[{\"type\":\"choropleth\",\"colorbar\":{\"outlinewidth\":0,\"ticks\":\"\"}}],\"histogram2d\":[{\"type\":\"histogram2d\",\"colorbar\":{\"outlinewidth\":0,\"ticks\":\"\"},\"colorscale\":[[0.0,\"#0d0887\"],[0.1111111111111111,\"#46039f\"],[0.2222222222222222,\"#7201a8\"],[0.3333333333333333,\"#9c179e\"],[0.4444444444444444,\"#bd3786\"],[0.5555555555555556,\"#d8576b\"],[0.6666666666666666,\"#ed7953\"],[0.7777777777777778,\"#fb9f3a\"],[0.8888888888888888,\"#fdca26\"],[1.0,\"#f0f921\"]]}],\"heatmap\":[{\"type\":\"heatmap\",\"colorbar\":{\"outlinewidth\":0,\"ticks\":\"\"},\"colorscale\":[[0.0,\"#0d0887\"],[0.1111111111111111,\"#46039f\"],[0.2222222222222222,\"#7201a8\"],[0.3333333333333333,\"#9c179e\"],[0.4444444444444444,\"#bd3786\"],[0.5555555555555556,\"#d8576b\"],[0.6666666666666666,\"#ed7953\"],[0.7777777777777778,\"#fb9f3a\"],[0.8888888888888888,\"#fdca26\"],[1.0,\"#f0f921\"]]}],\"heatmapgl\":[{\"type\":\"heatmapgl\",\"colorbar\":{\"outlinewidth\":0,\"ticks\":\"\"},\"colorscale\":[[0.0,\"#0d0887\"],[0.1111111111111111,\"#46039f\"],[0.2222222222222222,\"#7201a8\"],[0.3333333333333333,\"#9c179e\"],[0.4444444444444444,\"#bd3786\"],[0.5555555555555556,\"#d8576b\"],[0.6666666666666666,\"#ed7953\"],[0.7777777777777778,\"#fb9f3a\"],[0.8888888888888888,\"#fdca26\"],[1.0,\"#f0f921\"]]}],\"contourcarpet\":[{\"type\":\"contourcarpet\",\"colorbar\":{\"outlinewidth\":0,\"ticks\":\"\"}}],\"contour\":[{\"type\":\"contour\",\"colorbar\":{\"outlinewidth\":0,\"ticks\":\"\"},\"colorscale\":[[0.0,\"#0d0887\"],[0.1111111111111111,\"#46039f\"],[0.2222222222222222,\"#7201a8\"],[0.3333333333333333,\"#9c179e\"],[0.4444444444444444,\"#bd3786\"],[0.5555555555555556,\"#d8576b\"],[0.6666666666666666,\"#ed7953\"],[0.7777777777777778,\"#fb9f3a\"],[0.8888888888888888,\"#fdca26\"],[1.0,\"#f0f921\"]]}],\"surface\":[{\"type\":\"surface\",\"colorbar\":{\"outlinewidth\":0,\"ticks\":\"\"},\"colorscale\":[[0.0,\"#0d0887\"],[0.1111111111111111,\"#46039f\"],[0.2222222222222222,\"#7201a8\"],[0.3333333333333333,\"#9c179e\"],[0.4444444444444444,\"#bd3786\"],[0.5555555555555556,\"#d8576b\"],[0.6666666666666666,\"#ed7953\"],[0.7777777777777778,\"#fb9f3a\"],[0.8888888888888888,\"#fdca26\"],[1.0,\"#f0f921\"]]}],\"mesh3d\":[{\"type\":\"mesh3d\",\"colorbar\":{\"outlinewidth\":0,\"ticks\":\"\"}}],\"scatter\":[{\"fillpattern\":{\"fillmode\":\"overlay\",\"size\":10,\"solidity\":0.2},\"type\":\"scatter\"}],\"parcoords\":[{\"type\":\"parcoords\",\"line\":{\"colorbar\":{\"outlinewidth\":0,\"ticks\":\"\"}}}],\"scatterpolargl\":[{\"type\":\"scatterpolargl\",\"marker\":{\"colorbar\":{\"outlinewidth\":0,\"ticks\":\"\"}}}],\"bar\":[{\"error_x\":{\"color\":\"#2a3f5f\"},\"error_y\":{\"color\":\"#2a3f5f\"},\"marker\":{\"line\":{\"color\":\"#E5ECF6\",\"width\":0.5},\"pattern\":{\"fillmode\":\"overlay\",\"size\":10,\"solidity\":0.2}},\"type\":\"bar\"}],\"scattergeo\":[{\"type\":\"scattergeo\",\"marker\":{\"colorbar\":{\"outlinewidth\":0,\"ticks\":\"\"}}}],\"scatterpolar\":[{\"type\":\"scatterpolar\",\"marker\":{\"colorbar\":{\"outlinewidth\":0,\"ticks\":\"\"}}}],\"histogram\":[{\"marker\":{\"pattern\":{\"fillmode\":\"overlay\",\"size\":10,\"solidity\":0.2}},\"type\":\"histogram\"}],\"scattergl\":[{\"type\":\"scattergl\",\"marker\":{\"colorbar\":{\"outlinewidth\":0,\"ticks\":\"\"}}}],\"scatter3d\":[{\"type\":\"scatter3d\",\"line\":{\"colorbar\":{\"outlinewidth\":0,\"ticks\":\"\"}},\"marker\":{\"colorbar\":{\"outlinewidth\":0,\"ticks\":\"\"}}}],\"scattermapbox\":[{\"type\":\"scattermapbox\",\"marker\":{\"colorbar\":{\"outlinewidth\":0,\"ticks\":\"\"}}}],\"scatterternary\":[{\"type\":\"scatterternary\",\"marker\":{\"colorbar\":{\"outlinewidth\":0,\"ticks\":\"\"}}}],\"scattercarpet\":[{\"type\":\"scattercarpet\",\"marker\":{\"colorbar\":{\"outlinewidth\":0,\"ticks\":\"\"}}}],\"carpet\":[{\"aaxis\":{\"endlinecolor\":\"#2a3f5f\",\"gridcolor\":\"white\",\"linecolor\":\"white\",\"minorgridcolor\":\"white\",\"startlinecolor\":\"#2a3f5f\"},\"baxis\":{\"endlinecolor\":\"#2a3f5f\",\"gridcolor\":\"white\",\"linecolor\":\"white\",\"minorgridcolor\":\"white\",\"startlinecolor\":\"#2a3f5f\"},\"type\":\"carpet\"}],\"table\":[{\"cells\":{\"fill\":{\"color\":\"#EBF0F8\"},\"line\":{\"color\":\"white\"}},\"header\":{\"fill\":{\"color\":\"#C8D4E3\"},\"line\":{\"color\":\"white\"}},\"type\":\"table\"}],\"barpolar\":[{\"marker\":{\"line\":{\"color\":\"#E5ECF6\",\"width\":0.5},\"pattern\":{\"fillmode\":\"overlay\",\"size\":10,\"solidity\":0.2}},\"type\":\"barpolar\"}],\"pie\":[{\"automargin\":true,\"type\":\"pie\"}]},\"layout\":{\"autotypenumbers\":\"strict\",\"colorway\":[\"#636efa\",\"#EF553B\",\"#00cc96\",\"#ab63fa\",\"#FFA15A\",\"#19d3f3\",\"#FF6692\",\"#B6E880\",\"#FF97FF\",\"#FECB52\"],\"font\":{\"color\":\"#2a3f5f\"},\"hovermode\":\"closest\",\"hoverlabel\":{\"align\":\"left\"},\"paper_bgcolor\":\"white\",\"plot_bgcolor\":\"#E5ECF6\",\"polar\":{\"bgcolor\":\"#E5ECF6\",\"angularaxis\":{\"gridcolor\":\"white\",\"linecolor\":\"white\",\"ticks\":\"\"},\"radialaxis\":{\"gridcolor\":\"white\",\"linecolor\":\"white\",\"ticks\":\"\"}},\"ternary\":{\"bgcolor\":\"#E5ECF6\",\"aaxis\":{\"gridcolor\":\"white\",\"linecolor\":\"white\",\"ticks\":\"\"},\"baxis\":{\"gridcolor\":\"white\",\"linecolor\":\"white\",\"ticks\":\"\"},\"caxis\":{\"gridcolor\":\"white\",\"linecolor\":\"white\",\"ticks\":\"\"}},\"coloraxis\":{\"colorbar\":{\"outlinewidth\":0,\"ticks\":\"\"}},\"colorscale\":{\"sequential\":[[0.0,\"#0d0887\"],[0.1111111111111111,\"#46039f\"],[0.2222222222222222,\"#7201a8\"],[0.3333333333333333,\"#9c179e\"],[0.4444444444444444,\"#bd3786\"],[0.5555555555555556,\"#d8576b\"],[0.6666666666666666,\"#ed7953\"],[0.7777777777777778,\"#fb9f3a\"],[0.8888888888888888,\"#fdca26\"],[1.0,\"#f0f921\"]],\"sequentialminus\":[[0.0,\"#0d0887\"],[0.1111111111111111,\"#46039f\"],[0.2222222222222222,\"#7201a8\"],[0.3333333333333333,\"#9c179e\"],[0.4444444444444444,\"#bd3786\"],[0.5555555555555556,\"#d8576b\"],[0.6666666666666666,\"#ed7953\"],[0.7777777777777778,\"#fb9f3a\"],[0.8888888888888888,\"#fdca26\"],[1.0,\"#f0f921\"]],\"diverging\":[[0,\"#8e0152\"],[0.1,\"#c51b7d\"],[0.2,\"#de77ae\"],[0.3,\"#f1b6da\"],[0.4,\"#fde0ef\"],[0.5,\"#f7f7f7\"],[0.6,\"#e6f5d0\"],[0.7,\"#b8e186\"],[0.8,\"#7fbc41\"],[0.9,\"#4d9221\"],[1,\"#276419\"]]},\"xaxis\":{\"gridcolor\":\"white\",\"linecolor\":\"white\",\"ticks\":\"\",\"title\":{\"standoff\":15},\"zerolinecolor\":\"white\",\"automargin\":true,\"zerolinewidth\":2},\"yaxis\":{\"gridcolor\":\"white\",\"linecolor\":\"white\",\"ticks\":\"\",\"title\":{\"standoff\":15},\"zerolinecolor\":\"white\",\"automargin\":true,\"zerolinewidth\":2},\"scene\":{\"xaxis\":{\"backgroundcolor\":\"#E5ECF6\",\"gridcolor\":\"white\",\"linecolor\":\"white\",\"showbackground\":true,\"ticks\":\"\",\"zerolinecolor\":\"white\",\"gridwidth\":2},\"yaxis\":{\"backgroundcolor\":\"#E5ECF6\",\"gridcolor\":\"white\",\"linecolor\":\"white\",\"showbackground\":true,\"ticks\":\"\",\"zerolinecolor\":\"white\",\"gridwidth\":2},\"zaxis\":{\"backgroundcolor\":\"#E5ECF6\",\"gridcolor\":\"white\",\"linecolor\":\"white\",\"showbackground\":true,\"ticks\":\"\",\"zerolinecolor\":\"white\",\"gridwidth\":2}},\"shapedefaults\":{\"line\":{\"color\":\"#2a3f5f\"}},\"annotationdefaults\":{\"arrowcolor\":\"#2a3f5f\",\"arrowhead\":0,\"arrowwidth\":1},\"geo\":{\"bgcolor\":\"white\",\"landcolor\":\"#E5ECF6\",\"subunitcolor\":\"white\",\"showland\":true,\"showlakes\":true,\"lakecolor\":\"white\"},\"title\":{\"x\":0.05},\"mapbox\":{\"style\":\"light\"}}},\"xaxis\":{\"anchor\":\"y\",\"domain\":[0.0,1.0],\"title\":{\"text\":\"rating\"}},\"yaxis\":{\"anchor\":\"x\",\"domain\":[0.0,1.0],\"title\":{\"text\":\"count\"}},\"legend\":{\"title\":{\"text\":\"type\"},\"tracegroupgap\":0},\"margin\":{\"t\":60},\"barmode\":\"relative\",\"bargap\":0.1},                        {\"responsive\": true}                    ).then(function(){\n",
       "                            \n",
       "var gd = document.getElementById('f0224d8a-8240-4ba2-bd71-6684b14d1840');\n",
       "var x = new MutationObserver(function (mutations, observer) {{\n",
       "        var display = window.getComputedStyle(gd).display;\n",
       "        if (!display || display === 'none') {{\n",
       "            console.log([gd, 'removed!']);\n",
       "            Plotly.purge(gd);\n",
       "            observer.disconnect();\n",
       "        }}\n",
       "}});\n",
       "\n",
       "// Listen for the removal of the full notebook cells\n",
       "var notebookContainer = gd.closest('#notebook-container');\n",
       "if (notebookContainer) {{\n",
       "    x.observe(notebookContainer, {childList: true});\n",
       "}}\n",
       "\n",
       "// Listen for the clearing of the current output cell\n",
       "var outputEl = gd.closest('.output');\n",
       "if (outputEl) {{\n",
       "    x.observe(outputEl, {childList: true});\n",
       "}}\n",
       "\n",
       "                        })                };                });            </script>        </div>"
      ]
     },
     "metadata": {},
     "output_type": "display_data"
    }
   ],
   "source": [
    "data['rating'].value_counts().head(6)\n",
    "a=px.histogram(data, x=\"rating\",color=\"type\")\n",
    "a.update_layout(bargap=0.1)\n",
    "a.show()"
   ]
  },
  {
   "cell_type": "markdown",
   "id": "04165403",
   "metadata": {
    "papermill": {
     "duration": 0.022002,
     "end_time": "2022-07-21T14:28:31.425652",
     "exception": false,
     "start_time": "2022-07-21T14:28:31.403650",
     "status": "completed"
    },
    "tags": []
   },
   "source": [
    "# Directors based on no of titles"
   ]
  },
  {
   "cell_type": "code",
   "execution_count": 41,
   "id": "39f1b6cd",
   "metadata": {
    "execution": {
     "iopub.execute_input": "2022-07-21T14:28:31.471977Z",
     "iopub.status.busy": "2022-07-21T14:28:31.471276Z",
     "iopub.status.idle": "2022-07-21T14:28:31.727752Z",
     "shell.execute_reply": "2022-07-21T14:28:31.726585Z"
    },
    "papermill": {
     "duration": 0.28236,
     "end_time": "2022-07-21T14:28:31.730203",
     "exception": false,
     "start_time": "2022-07-21T14:28:31.447843",
     "status": "completed"
    },
    "tags": []
   },
   "outputs": [
    {
     "data": {
      "image/png": "[encoded data removed]",
      "text/plain": [
       "<Figure size 1008x504 with 1 Axes>"
      ]
     },
     "metadata": {
      "needs_background": "light"
     },
     "output_type": "display_data"
    }
   ],
   "source": [
    "#data['director'].value_counts().head(7)\n",
    "plt.figure(figsize=(14,7))\n",
    "plt.title('Top 10 Director with most number of releases')\n",
    "plt.xlabel('director')\n",
    "plt.ylabel('count')\n",
    "a = data[data.director != 'missing'].director.str.split(', ', expand=True).stack().reset_index(level=1, drop=True)\n",
    "sns.countplot(y = a, order=a.value_counts().index[:10], palette='mako')\n",
    "plt.show()\n",
    "\n"
   ]
  },
  {
   "cell_type": "markdown",
   "id": "7a21929e",
   "metadata": {
    "papermill": {
     "duration": 0.022544,
     "end_time": "2022-07-21T14:28:31.775632",
     "exception": false,
     "start_time": "2022-07-21T14:28:31.753088",
     "status": "completed"
    },
    "tags": []
   },
   "source": [
    "# Actors based on no of titles in moovies"
   ]
  },
  {
   "cell_type": "code",
   "execution_count": 42,
   "id": "879ed0b3",
   "metadata": {
    "execution": {
     "iopub.execute_input": "2022-07-21T14:28:31.823859Z",
     "iopub.status.busy": "2022-07-21T14:28:31.822947Z",
     "iopub.status.idle": "2022-07-21T14:28:32.373108Z",
     "shell.execute_reply": "2022-07-21T14:28:32.371880Z"
    },
    "papermill": {
     "duration": 0.576873,
     "end_time": "2022-07-21T14:28:32.375607",
     "exception": false,
     "start_time": "2022-07-21T14:28:31.798734",
     "status": "completed"
    },
    "tags": []
   },
   "outputs": [
    {
     "data": {
      "image/png": "[encoded data removed]",
      "text/plain": [
       "<Figure size 1008x504 with 1 Axes>"
      ]
     },
     "metadata": {
      "needs_background": "light"
     },
     "output_type": "display_data"
    }
   ],
   "source": [
    "\n",
    "plt.figure(figsize=(14,7))\n",
    "plt.title('Top 10 actors in movies based on titles ')\n",
    "plt.xlabel('actor')\n",
    "plt.ylabel('count')\n",
    "x=moovies_data.cast.str.split(', ' ,expand=True).stack().reset_index(level=1, drop=True)\n",
    "\n",
    "sns.countplot(y=x,order=x.value_counts().index[ :10])\n",
    "plt.show()"
   ]
  },
  {
   "cell_type": "markdown",
   "id": "07b5edfd",
   "metadata": {
    "papermill": {
     "duration": 0.022464,
     "end_time": "2022-07-21T14:28:32.421014",
     "exception": false,
     "start_time": "2022-07-21T14:28:32.398550",
     "status": "completed"
    },
    "tags": []
   },
   "source": [
    "# Actors based on no of titles in tv shows"
   ]
  },
  {
   "cell_type": "code",
   "execution_count": 43,
   "id": "0b247187",
   "metadata": {
    "execution": {
     "iopub.execute_input": "2022-07-21T14:28:32.469786Z",
     "iopub.status.busy": "2022-07-21T14:28:32.468693Z",
     "iopub.status.idle": "2022-07-21T14:28:32.764501Z",
     "shell.execute_reply": "2022-07-21T14:28:32.763309Z"
    },
    "papermill": {
     "duration": 0.323145,
     "end_time": "2022-07-21T14:28:32.766783",
     "exception": false,
     "start_time": "2022-07-21T14:28:32.443638",
     "status": "completed"
    },
    "tags": []
   },
   "outputs": [
    {
     "data": {
      "image/png": "[encoded data removed]",
      "text/plain": [
       "<Figure size 1008x504 with 1 Axes>"
      ]
     },
     "metadata": {
      "needs_background": "light"
     },
     "output_type": "display_data"
    }
   ],
   "source": [
    "plt.figure(figsize=(14,7))\n",
    "plt.title('Top 10 actors in tv shows based on titles ')\n",
    "plt.xlabel('actor')\n",
    "plt.ylabel('count')\n",
    "x=tv_show.cast.str.split(', ' ,expand=True).stack().reset_index(level=1, drop=True)\n",
    "\n",
    "sns.countplot(y=x,order=x.value_counts().index[ :10])\n",
    "plt.show()"
   ]
  },
  {
   "cell_type": "markdown",
   "id": "cc93db8c",
   "metadata": {
    "papermill": {
     "duration": 0.022904,
     "end_time": "2022-07-21T14:28:32.812787",
     "exception": false,
     "start_time": "2022-07-21T14:28:32.789883",
     "status": "completed"
    },
    "tags": []
   },
   "source": [
    "# Asking & Answering Questions"
   ]
  },
  {
   "cell_type": "code",
   "execution_count": 44,
   "id": "26d1824c",
   "metadata": {
    "execution": {
     "iopub.execute_input": "2022-07-21T14:28:32.861519Z",
     "iopub.status.busy": "2022-07-21T14:28:32.860577Z",
     "iopub.status.idle": "2022-07-21T14:28:32.877689Z",
     "shell.execute_reply": "2022-07-21T14:28:32.876671Z"
    },
    "papermill": {
     "duration": 0.043791,
     "end_time": "2022-07-21T14:28:32.879939",
     "exception": false,
     "start_time": "2022-07-21T14:28:32.836148",
     "status": "completed"
    },
    "tags": []
   },
   "outputs": [
    {
     "data": {
      "text/html": [
       "<div>\n",
       "<style scoped>\n",
       "    .dataframe tbody tr th:only-of-type {\n",
       "        vertical-align: middle;\n",
       "    }\n",
       "\n",
       "    .dataframe tbody tr th {\n",
       "        vertical-align: top;\n",
       "    }\n",
       "\n",
       "    .dataframe thead th {\n",
       "        text-align: right;\n",
       "    }\n",
       "</style>\n",
       "<table border=\"1\" class=\"dataframe\">\n",
       "  <thead>\n",
       "    <tr style=\"text-align: right;\">\n",
       "      <th></th>\n",
       "      <th>show_id</th>\n",
       "      <th>type</th>\n",
       "      <th>title</th>\n",
       "      <th>director</th>\n",
       "      <th>cast</th>\n",
       "      <th>country</th>\n",
       "      <th>date_added</th>\n",
       "      <th>release_year</th>\n",
       "      <th>rating</th>\n",
       "      <th>duration</th>\n",
       "      <th>listed_in</th>\n",
       "      <th>added_in_year</th>\n",
       "      <th>added_in_day</th>\n",
       "    </tr>\n",
       "  </thead>\n",
       "  <tbody>\n",
       "    <tr>\n",
       "      <th>0</th>\n",
       "      <td>s1</td>\n",
       "      <td>Movie</td>\n",
       "      <td>Dick Johnson Is Dead</td>\n",
       "      <td>Kirsten Johnson</td>\n",
       "      <td>missing_cast</td>\n",
       "      <td>United States</td>\n",
       "      <td>2021-09-25 00:00:00</td>\n",
       "      <td>2020</td>\n",
       "      <td>PG-13</td>\n",
       "      <td>90 min</td>\n",
       "      <td>Documentaries</td>\n",
       "      <td>2021.0</td>\n",
       "      <td>25.0</td>\n",
       "    </tr>\n",
       "    <tr>\n",
       "      <th>1</th>\n",
       "      <td>s2</td>\n",
       "      <td>TV Show</td>\n",
       "      <td>Blood &amp; Water</td>\n",
       "      <td>missing</td>\n",
       "      <td>Ama Qamata, Khosi Ngema, Gail Mabalane, Thaban...</td>\n",
       "      <td>South Africa</td>\n",
       "      <td>2021-09-24 00:00:00</td>\n",
       "      <td>2021</td>\n",
       "      <td>TV-MA</td>\n",
       "      <td>2 Seasons</td>\n",
       "      <td>International TV Shows, TV Dramas, TV Mysteries</td>\n",
       "      <td>2021.0</td>\n",
       "      <td>24.0</td>\n",
       "    </tr>\n",
       "  </tbody>\n",
       "</table>\n",
       "</div>"
      ],
      "text/plain": [
       "  show_id     type                 title         director  \\\n",
       "0      s1    Movie  Dick Johnson Is Dead  Kirsten Johnson   \n",
       "1      s2  TV Show         Blood & Water          missing   \n",
       "\n",
       "                                                cast        country  \\\n",
       "0                                       missing_cast  United States   \n",
       "1  Ama Qamata, Khosi Ngema, Gail Mabalane, Thaban...   South Africa   \n",
       "\n",
       "            date_added  release_year rating   duration  \\\n",
       "0  2021-09-25 00:00:00          2020  PG-13     90 min   \n",
       "1  2021-09-24 00:00:00          2021  TV-MA  2 Seasons   \n",
       "\n",
       "                                         listed_in  added_in_year  \\\n",
       "0                                    Documentaries         2021.0   \n",
       "1  International TV Shows, TV Dramas, TV Mysteries         2021.0   \n",
       "\n",
       "   added_in_day  \n",
       "0          25.0  \n",
       "1          24.0  "
      ]
     },
     "execution_count": 44,
     "metadata": {},
     "output_type": "execute_result"
    }
   ],
   "source": [
    "data.head(2)"
   ]
  },
  {
   "cell_type": "markdown",
   "id": "dfa15930",
   "metadata": {
    "papermill": {
     "duration": 0.023181,
     "end_time": "2022-07-21T14:28:32.927724",
     "exception": false,
     "start_time": "2022-07-21T14:28:32.904543",
     "status": "completed"
    },
    "tags": []
   },
   "source": [
    "* find all the instanaces where\n",
    "\n",
    "a. Type is moovie and listed_in is Action & Adventure\n",
    "\n",
    "b. Type is tv show and type is tv drama"
   ]
  },
  {
   "cell_type": "code",
   "execution_count": 45,
   "id": "a00e1be0",
   "metadata": {
    "execution": {
     "iopub.execute_input": "2022-07-21T14:28:32.976553Z",
     "iopub.status.busy": "2022-07-21T14:28:32.975961Z",
     "iopub.status.idle": "2022-07-21T14:28:32.993479Z",
     "shell.execute_reply": "2022-07-21T14:28:32.992629Z"
    },
    "papermill": {
     "duration": 0.044282,
     "end_time": "2022-07-21T14:28:32.995479",
     "exception": false,
     "start_time": "2022-07-21T14:28:32.951197",
     "status": "completed"
    },
    "tags": []
   },
   "outputs": [
    {
     "data": {
      "text/html": [
       "<div>\n",
       "<style scoped>\n",
       "    .dataframe tbody tr th:only-of-type {\n",
       "        vertical-align: middle;\n",
       "    }\n",
       "\n",
       "    .dataframe tbody tr th {\n",
       "        vertical-align: top;\n",
       "    }\n",
       "\n",
       "    .dataframe thead th {\n",
       "        text-align: right;\n",
       "    }\n",
       "</style>\n",
       "<table border=\"1\" class=\"dataframe\">\n",
       "  <thead>\n",
       "    <tr style=\"text-align: right;\">\n",
       "      <th></th>\n",
       "      <th>show_id</th>\n",
       "      <th>type</th>\n",
       "      <th>title</th>\n",
       "      <th>director</th>\n",
       "      <th>cast</th>\n",
       "      <th>country</th>\n",
       "      <th>date_added</th>\n",
       "      <th>release_year</th>\n",
       "      <th>rating</th>\n",
       "      <th>duration</th>\n",
       "      <th>listed_in</th>\n",
       "      <th>added_in_year</th>\n",
       "      <th>added_in_day</th>\n",
       "    </tr>\n",
       "  </thead>\n",
       "  <tbody>\n",
       "    <tr>\n",
       "      <th>46</th>\n",
       "      <td>s47</td>\n",
       "      <td>Movie</td>\n",
       "      <td>Safe House</td>\n",
       "      <td>Daniel Espinosa</td>\n",
       "      <td>Denzel Washington, Ryan Reynolds, Vera Farmiga...</td>\n",
       "      <td>South Africa, United States, Japan</td>\n",
       "      <td>2021-09-16 00:00:00</td>\n",
       "      <td>2012</td>\n",
       "      <td>R</td>\n",
       "      <td>115 min</td>\n",
       "      <td>Action &amp; Adventure</td>\n",
       "      <td>2021.0</td>\n",
       "      <td>16.0</td>\n",
       "    </tr>\n",
       "    <tr>\n",
       "      <th>81</th>\n",
       "      <td>s82</td>\n",
       "      <td>Movie</td>\n",
       "      <td>Kate</td>\n",
       "      <td>Cedric Nicolas-Troyan</td>\n",
       "      <td>Mary Elizabeth Winstead, Jun Kunimura, Woody H...</td>\n",
       "      <td>United States</td>\n",
       "      <td>2021-09-10 00:00:00</td>\n",
       "      <td>2021</td>\n",
       "      <td>R</td>\n",
       "      <td>106 min</td>\n",
       "      <td>Action &amp; Adventure</td>\n",
       "      <td>2021.0</td>\n",
       "      <td>10.0</td>\n",
       "    </tr>\n",
       "  </tbody>\n",
       "</table>\n",
       "</div>"
      ],
      "text/plain": [
       "   show_id   type       title               director  \\\n",
       "46     s47  Movie  Safe House        Daniel Espinosa   \n",
       "81     s82  Movie        Kate  Cedric Nicolas-Troyan   \n",
       "\n",
       "                                                 cast  \\\n",
       "46  Denzel Washington, Ryan Reynolds, Vera Farmiga...   \n",
       "81  Mary Elizabeth Winstead, Jun Kunimura, Woody H...   \n",
       "\n",
       "                               country           date_added  release_year  \\\n",
       "46  South Africa, United States, Japan  2021-09-16 00:00:00          2012   \n",
       "81                       United States  2021-09-10 00:00:00          2021   \n",
       "\n",
       "   rating duration           listed_in  added_in_year  added_in_day  \n",
       "46      R  115 min  Action & Adventure         2021.0          16.0  \n",
       "81      R  106 min  Action & Adventure         2021.0          10.0  "
      ]
     },
     "execution_count": 45,
     "metadata": {},
     "output_type": "execute_result"
    }
   ],
   "source": [
    "data[(data['type']=='Movie') & (data['listed_in']=='Action & Adventure')].head(2)"
   ]
  },
  {
   "cell_type": "code",
   "execution_count": 46,
   "id": "445b3468",
   "metadata": {
    "execution": {
     "iopub.execute_input": "2022-07-21T14:28:33.044608Z",
     "iopub.status.busy": "2022-07-21T14:28:33.044191Z",
     "iopub.status.idle": "2022-07-21T14:28:33.065633Z",
     "shell.execute_reply": "2022-07-21T14:28:33.064476Z"
    },
    "papermill": {
     "duration": 0.048901,
     "end_time": "2022-07-21T14:28:33.067840",
     "exception": false,
     "start_time": "2022-07-21T14:28:33.018939",
     "status": "completed"
    },
    "tags": []
   },
   "outputs": [
    {
     "data": {
      "text/html": [
       "<div>\n",
       "<style scoped>\n",
       "    .dataframe tbody tr th:only-of-type {\n",
       "        vertical-align: middle;\n",
       "    }\n",
       "\n",
       "    .dataframe tbody tr th {\n",
       "        vertical-align: top;\n",
       "    }\n",
       "\n",
       "    .dataframe thead th {\n",
       "        text-align: right;\n",
       "    }\n",
       "</style>\n",
       "<table border=\"1\" class=\"dataframe\">\n",
       "  <thead>\n",
       "    <tr style=\"text-align: right;\">\n",
       "      <th></th>\n",
       "      <th>show_id</th>\n",
       "      <th>type</th>\n",
       "      <th>title</th>\n",
       "      <th>director</th>\n",
       "      <th>cast</th>\n",
       "      <th>country</th>\n",
       "      <th>date_added</th>\n",
       "      <th>release_year</th>\n",
       "      <th>rating</th>\n",
       "      <th>duration</th>\n",
       "      <th>listed_in</th>\n",
       "      <th>added_in_year</th>\n",
       "      <th>added_in_day</th>\n",
       "    </tr>\n",
       "  </thead>\n",
       "  <tbody>\n",
       "    <tr>\n",
       "      <th>425</th>\n",
       "      <td>s426</td>\n",
       "      <td>TV Show</td>\n",
       "      <td>Chicago Med</td>\n",
       "      <td>missing</td>\n",
       "      <td>Colin Donnell, Torrey DeVitto, Oliver Platt, S...</td>\n",
       "      <td>United States</td>\n",
       "      <td>2021-07-22 00:00:00</td>\n",
       "      <td>2019</td>\n",
       "      <td>TV-14</td>\n",
       "      <td>5 Seasons</td>\n",
       "      <td>TV Dramas</td>\n",
       "      <td>2021.0</td>\n",
       "      <td>22.0</td>\n",
       "    </tr>\n",
       "    <tr>\n",
       "      <th>674</th>\n",
       "      <td>s675</td>\n",
       "      <td>TV Show</td>\n",
       "      <td>Pose</td>\n",
       "      <td>missing</td>\n",
       "      <td>Mj Rodriguez, Billy Porter, Evan Peters, Kate ...</td>\n",
       "      <td>United States</td>\n",
       "      <td>2021-06-19 00:00:00</td>\n",
       "      <td>2019</td>\n",
       "      <td>TV-MA</td>\n",
       "      <td>2 Seasons</td>\n",
       "      <td>TV Dramas</td>\n",
       "      <td>2021.0</td>\n",
       "      <td>19.0</td>\n",
       "    </tr>\n",
       "  </tbody>\n",
       "</table>\n",
       "</div>"
      ],
      "text/plain": [
       "    show_id     type        title director  \\\n",
       "425    s426  TV Show  Chicago Med  missing   \n",
       "674    s675  TV Show         Pose  missing   \n",
       "\n",
       "                                                  cast        country  \\\n",
       "425  Colin Donnell, Torrey DeVitto, Oliver Platt, S...  United States   \n",
       "674  Mj Rodriguez, Billy Porter, Evan Peters, Kate ...  United States   \n",
       "\n",
       "              date_added  release_year rating   duration  listed_in  \\\n",
       "425  2021-07-22 00:00:00          2019  TV-14  5 Seasons  TV Dramas   \n",
       "674  2021-06-19 00:00:00          2019  TV-MA  2 Seasons  TV Dramas   \n",
       "\n",
       "     added_in_year  added_in_day  \n",
       "425         2021.0          22.0  \n",
       "674         2021.0          19.0  "
      ]
     },
     "execution_count": 46,
     "metadata": {},
     "output_type": "execute_result"
    }
   ],
   "source": [
    "data[(data['type']=='TV Show') & (data['listed_in']=='TV Dramas')].head(2)\n"
   ]
  },
  {
   "cell_type": "markdown",
   "id": "0236781f",
   "metadata": {
    "papermill": {
     "duration": 0.051403,
     "end_time": "2022-07-21T14:28:33.143751",
     "exception": false,
     "start_time": "2022-07-21T14:28:33.092348",
     "status": "completed"
    },
    "tags": []
   },
   "source": [
    "* All the moovies released in year 2021 and in united state and show only country and release year"
   ]
  },
  {
   "cell_type": "code",
   "execution_count": 47,
   "id": "f56aaa3d",
   "metadata": {
    "execution": {
     "iopub.execute_input": "2022-07-21T14:28:33.194777Z",
     "iopub.status.busy": "2022-07-21T14:28:33.194361Z",
     "iopub.status.idle": "2022-07-21T14:28:33.211132Z",
     "shell.execute_reply": "2022-07-21T14:28:33.210344Z"
    },
    "papermill": {
     "duration": 0.044349,
     "end_time": "2022-07-21T14:28:33.213234",
     "exception": false,
     "start_time": "2022-07-21T14:28:33.168885",
     "status": "completed"
    },
    "tags": []
   },
   "outputs": [
    {
     "data": {
      "text/html": [
       "<div>\n",
       "<style scoped>\n",
       "    .dataframe tbody tr th:only-of-type {\n",
       "        vertical-align: middle;\n",
       "    }\n",
       "\n",
       "    .dataframe tbody tr th {\n",
       "        vertical-align: top;\n",
       "    }\n",
       "\n",
       "    .dataframe thead th {\n",
       "        text-align: right;\n",
       "    }\n",
       "</style>\n",
       "<table border=\"1\" class=\"dataframe\">\n",
       "  <thead>\n",
       "    <tr style=\"text-align: right;\">\n",
       "      <th></th>\n",
       "      <th>country</th>\n",
       "      <th>release_year</th>\n",
       "    </tr>\n",
       "  </thead>\n",
       "  <tbody>\n",
       "    <tr>\n",
       "      <th>9</th>\n",
       "      <td>United States</td>\n",
       "      <td>2021</td>\n",
       "    </tr>\n",
       "    <tr>\n",
       "      <th>15</th>\n",
       "      <td>United States</td>\n",
       "      <td>2021</td>\n",
       "    </tr>\n",
       "    <tr>\n",
       "      <th>40</th>\n",
       "      <td>United States</td>\n",
       "      <td>2021</td>\n",
       "    </tr>\n",
       "    <tr>\n",
       "      <th>55</th>\n",
       "      <td>United States</td>\n",
       "      <td>2021</td>\n",
       "    </tr>\n",
       "    <tr>\n",
       "      <th>81</th>\n",
       "      <td>United States</td>\n",
       "      <td>2021</td>\n",
       "    </tr>\n",
       "    <tr>\n",
       "      <th>...</th>\n",
       "      <td>...</td>\n",
       "      <td>...</td>\n",
       "    </tr>\n",
       "    <tr>\n",
       "      <th>1449</th>\n",
       "      <td>United States</td>\n",
       "      <td>2021</td>\n",
       "    </tr>\n",
       "    <tr>\n",
       "      <th>1455</th>\n",
       "      <td>United States</td>\n",
       "      <td>2021</td>\n",
       "    </tr>\n",
       "    <tr>\n",
       "      <th>1466</th>\n",
       "      <td>United States</td>\n",
       "      <td>2021</td>\n",
       "    </tr>\n",
       "    <tr>\n",
       "      <th>2920</th>\n",
       "      <td>United States</td>\n",
       "      <td>2021</td>\n",
       "    </tr>\n",
       "    <tr>\n",
       "      <th>8437</th>\n",
       "      <td>United States</td>\n",
       "      <td>2021</td>\n",
       "    </tr>\n",
       "  </tbody>\n",
       "</table>\n",
       "<p>138 rows × 2 columns</p>\n",
       "</div>"
      ],
      "text/plain": [
       "            country  release_year\n",
       "9     United States          2021\n",
       "15    United States          2021\n",
       "40    United States          2021\n",
       "55    United States          2021\n",
       "81    United States          2021\n",
       "...             ...           ...\n",
       "1449  United States          2021\n",
       "1455  United States          2021\n",
       "1466  United States          2021\n",
       "2920  United States          2021\n",
       "8437  United States          2021\n",
       "\n",
       "[138 rows x 2 columns]"
      ]
     },
     "execution_count": 47,
     "metadata": {},
     "output_type": "execute_result"
    }
   ],
   "source": [
    "data[(data['release_year']==2021) & (data['country']=='United States')][{'country','release_year'}]"
   ]
  },
  {
   "cell_type": "markdown",
   "id": "6a014d1f",
   "metadata": {
    "papermill": {
     "duration": 0.023782,
     "end_time": "2022-07-21T14:28:33.261137",
     "exception": false,
     "start_time": "2022-07-21T14:28:33.237355",
     "status": "completed"
    },
    "tags": []
   },
   "source": [
    "* show all the record where : type is movie and country is india or rating is R"
   ]
  },
  {
   "cell_type": "code",
   "execution_count": 48,
   "id": "b25c5be1",
   "metadata": {
    "execution": {
     "iopub.execute_input": "2022-07-21T14:28:33.311546Z",
     "iopub.status.busy": "2022-07-21T14:28:33.311135Z",
     "iopub.status.idle": "2022-07-21T14:28:33.331010Z",
     "shell.execute_reply": "2022-07-21T14:28:33.330213Z"
    },
    "papermill": {
     "duration": 0.047475,
     "end_time": "2022-07-21T14:28:33.333039",
     "exception": false,
     "start_time": "2022-07-21T14:28:33.285564",
     "status": "completed"
    },
    "tags": []
   },
   "outputs": [
    {
     "data": {
      "text/html": [
       "<div>\n",
       "<style scoped>\n",
       "    .dataframe tbody tr th:only-of-type {\n",
       "        vertical-align: middle;\n",
       "    }\n",
       "\n",
       "    .dataframe tbody tr th {\n",
       "        vertical-align: top;\n",
       "    }\n",
       "\n",
       "    .dataframe thead th {\n",
       "        text-align: right;\n",
       "    }\n",
       "</style>\n",
       "<table border=\"1\" class=\"dataframe\">\n",
       "  <thead>\n",
       "    <tr style=\"text-align: right;\">\n",
       "      <th></th>\n",
       "      <th>show_id</th>\n",
       "      <th>type</th>\n",
       "      <th>title</th>\n",
       "      <th>director</th>\n",
       "      <th>cast</th>\n",
       "      <th>country</th>\n",
       "      <th>date_added</th>\n",
       "      <th>release_year</th>\n",
       "      <th>rating</th>\n",
       "      <th>duration</th>\n",
       "      <th>listed_in</th>\n",
       "      <th>added_in_year</th>\n",
       "      <th>added_in_day</th>\n",
       "    </tr>\n",
       "  </thead>\n",
       "  <tbody>\n",
       "    <tr>\n",
       "      <th>46</th>\n",
       "      <td>s47</td>\n",
       "      <td>Movie</td>\n",
       "      <td>Safe House</td>\n",
       "      <td>Daniel Espinosa</td>\n",
       "      <td>Denzel Washington, Ryan Reynolds, Vera Farmiga...</td>\n",
       "      <td>South Africa, United States, Japan</td>\n",
       "      <td>2021-09-16 00:00:00</td>\n",
       "      <td>2012</td>\n",
       "      <td>R</td>\n",
       "      <td>115 min</td>\n",
       "      <td>Action &amp; Adventure</td>\n",
       "      <td>2021.0</td>\n",
       "      <td>16.0</td>\n",
       "    </tr>\n",
       "    <tr>\n",
       "      <th>48</th>\n",
       "      <td>s49</td>\n",
       "      <td>Movie</td>\n",
       "      <td>Training Day</td>\n",
       "      <td>Antoine Fuqua</td>\n",
       "      <td>Denzel Washington, Ethan Hawke, Scott Glenn, T...</td>\n",
       "      <td>United States</td>\n",
       "      <td>2021-09-16 00:00:00</td>\n",
       "      <td>2001</td>\n",
       "      <td>R</td>\n",
       "      <td>122 min</td>\n",
       "      <td>Dramas, Thrillers</td>\n",
       "      <td>2021.0</td>\n",
       "      <td>16.0</td>\n",
       "    </tr>\n",
       "  </tbody>\n",
       "</table>\n",
       "</div>"
      ],
      "text/plain": [
       "   show_id   type         title         director  \\\n",
       "46     s47  Movie    Safe House  Daniel Espinosa   \n",
       "48     s49  Movie  Training Day    Antoine Fuqua   \n",
       "\n",
       "                                                 cast  \\\n",
       "46  Denzel Washington, Ryan Reynolds, Vera Farmiga...   \n",
       "48  Denzel Washington, Ethan Hawke, Scott Glenn, T...   \n",
       "\n",
       "                               country           date_added  release_year  \\\n",
       "46  South Africa, United States, Japan  2021-09-16 00:00:00          2012   \n",
       "48                       United States  2021-09-16 00:00:00          2001   \n",
       "\n",
       "   rating duration           listed_in  added_in_year  added_in_day  \n",
       "46      R  115 min  Action & Adventure         2021.0          16.0  \n",
       "48      R  122 min   Dramas, Thrillers         2021.0          16.0  "
      ]
     },
     "execution_count": 48,
     "metadata": {},
     "output_type": "execute_result"
    }
   ],
   "source": [
    "data[(data['type']=='Movie') & (data['country']=='india') | (data['rating']=='R')].head(2)"
   ]
  },
  {
   "cell_type": "markdown",
   "id": "1360ee3a",
   "metadata": {
    "papermill": {
     "duration": 0.025476,
     "end_time": "2022-07-21T14:28:33.383591",
     "exception": false,
     "start_time": "2022-07-21T14:28:33.358115",
     "status": "completed"
    },
    "tags": []
   },
   "source": [
    "* how many moovies got rating R after year 2016"
   ]
  },
  {
   "cell_type": "code",
   "execution_count": 49,
   "id": "db054534",
   "metadata": {
    "execution": {
     "iopub.execute_input": "2022-07-21T14:28:33.435052Z",
     "iopub.status.busy": "2022-07-21T14:28:33.434286Z",
     "iopub.status.idle": "2022-07-21T14:28:33.444136Z",
     "shell.execute_reply": "2022-07-21T14:28:33.443280Z"
    },
    "papermill": {
     "duration": 0.037646,
     "end_time": "2022-07-21T14:28:33.446176",
     "exception": false,
     "start_time": "2022-07-21T14:28:33.408530",
     "status": "completed"
    },
    "tags": []
   },
   "outputs": [
    {
     "data": {
      "text/plain": [
       "(233, 13)"
      ]
     },
     "execution_count": 49,
     "metadata": {},
     "output_type": "execute_result"
    }
   ],
   "source": [
    "data[(data['type']=='Movie') & (data['rating']=='R') & (data['release_year'] > 2016)].shape"
   ]
  },
  {
   "cell_type": "markdown",
   "id": "29d6131e",
   "metadata": {
    "papermill": {
     "duration": 0.023811,
     "end_time": "2022-07-21T14:28:33.494374",
     "exception": false,
     "start_time": "2022-07-21T14:28:33.470563",
     "status": "completed"
    },
    "tags": []
   },
   "source": [
    "* split the duration iinto two new colums minute and units"
   ]
  },
  {
   "cell_type": "code",
   "execution_count": 50,
   "id": "3f1dbd50",
   "metadata": {
    "execution": {
     "iopub.execute_input": "2022-07-21T14:28:33.552976Z",
     "iopub.status.busy": "2022-07-21T14:28:33.552149Z",
     "iopub.status.idle": "2022-07-21T14:28:33.575932Z",
     "shell.execute_reply": "2022-07-21T14:28:33.574136Z"
    },
    "papermill": {
     "duration": 0.060496,
     "end_time": "2022-07-21T14:28:33.579422",
     "exception": false,
     "start_time": "2022-07-21T14:28:33.518926",
     "status": "completed"
    },
    "tags": []
   },
   "outputs": [],
   "source": [
    "data[['minutes','unit']]=data['duration'].str.split(' ',expand=True)"
   ]
  },
  {
   "cell_type": "code",
   "execution_count": 51,
   "id": "ed819d19",
   "metadata": {
    "execution": {
     "iopub.execute_input": "2022-07-21T14:28:33.642120Z",
     "iopub.status.busy": "2022-07-21T14:28:33.640951Z",
     "iopub.status.idle": "2022-07-21T14:28:33.659487Z",
     "shell.execute_reply": "2022-07-21T14:28:33.658318Z"
    },
    "papermill": {
     "duration": 0.052723,
     "end_time": "2022-07-21T14:28:33.661862",
     "exception": false,
     "start_time": "2022-07-21T14:28:33.609139",
     "status": "completed"
    },
    "tags": []
   },
   "outputs": [
    {
     "data": {
      "text/html": [
       "<div>\n",
       "<style scoped>\n",
       "    .dataframe tbody tr th:only-of-type {\n",
       "        vertical-align: middle;\n",
       "    }\n",
       "\n",
       "    .dataframe tbody tr th {\n",
       "        vertical-align: top;\n",
       "    }\n",
       "\n",
       "    .dataframe thead th {\n",
       "        text-align: right;\n",
       "    }\n",
       "</style>\n",
       "<table border=\"1\" class=\"dataframe\">\n",
       "  <thead>\n",
       "    <tr style=\"text-align: right;\">\n",
       "      <th></th>\n",
       "      <th>show_id</th>\n",
       "      <th>type</th>\n",
       "      <th>title</th>\n",
       "      <th>director</th>\n",
       "      <th>cast</th>\n",
       "      <th>country</th>\n",
       "      <th>date_added</th>\n",
       "      <th>release_year</th>\n",
       "      <th>rating</th>\n",
       "      <th>duration</th>\n",
       "      <th>listed_in</th>\n",
       "      <th>added_in_year</th>\n",
       "      <th>added_in_day</th>\n",
       "      <th>minutes</th>\n",
       "      <th>unit</th>\n",
       "    </tr>\n",
       "  </thead>\n",
       "  <tbody>\n",
       "    <tr>\n",
       "      <th>0</th>\n",
       "      <td>s1</td>\n",
       "      <td>Movie</td>\n",
       "      <td>Dick Johnson Is Dead</td>\n",
       "      <td>Kirsten Johnson</td>\n",
       "      <td>missing_cast</td>\n",
       "      <td>United States</td>\n",
       "      <td>2021-09-25 00:00:00</td>\n",
       "      <td>2020</td>\n",
       "      <td>PG-13</td>\n",
       "      <td>90 min</td>\n",
       "      <td>Documentaries</td>\n",
       "      <td>2021.0</td>\n",
       "      <td>25.0</td>\n",
       "      <td>90</td>\n",
       "      <td>min</td>\n",
       "    </tr>\n",
       "    <tr>\n",
       "      <th>1</th>\n",
       "      <td>s2</td>\n",
       "      <td>TV Show</td>\n",
       "      <td>Blood &amp; Water</td>\n",
       "      <td>missing</td>\n",
       "      <td>Ama Qamata, Khosi Ngema, Gail Mabalane, Thaban...</td>\n",
       "      <td>South Africa</td>\n",
       "      <td>2021-09-24 00:00:00</td>\n",
       "      <td>2021</td>\n",
       "      <td>TV-MA</td>\n",
       "      <td>2 Seasons</td>\n",
       "      <td>International TV Shows, TV Dramas, TV Mysteries</td>\n",
       "      <td>2021.0</td>\n",
       "      <td>24.0</td>\n",
       "      <td>2</td>\n",
       "      <td>Seasons</td>\n",
       "    </tr>\n",
       "  </tbody>\n",
       "</table>\n",
       "</div>"
      ],
      "text/plain": [
       "  show_id     type                 title         director  \\\n",
       "0      s1    Movie  Dick Johnson Is Dead  Kirsten Johnson   \n",
       "1      s2  TV Show         Blood & Water          missing   \n",
       "\n",
       "                                                cast        country  \\\n",
       "0                                       missing_cast  United States   \n",
       "1  Ama Qamata, Khosi Ngema, Gail Mabalane, Thaban...   South Africa   \n",
       "\n",
       "            date_added  release_year rating   duration  \\\n",
       "0  2021-09-25 00:00:00          2020  PG-13     90 min   \n",
       "1  2021-09-24 00:00:00          2021  TV-MA  2 Seasons   \n",
       "\n",
       "                                         listed_in  added_in_year  \\\n",
       "0                                    Documentaries         2021.0   \n",
       "1  International TV Shows, TV Dramas, TV Mysteries         2021.0   \n",
       "\n",
       "   added_in_day minutes     unit  \n",
       "0          25.0      90      min  \n",
       "1          24.0       2  Seasons  "
      ]
     },
     "execution_count": 51,
     "metadata": {},
     "output_type": "execute_result"
    }
   ],
   "source": [
    "data.head(2)"
   ]
  },
  {
   "cell_type": "markdown",
   "id": "3bfa8916",
   "metadata": {
    "papermill": {
     "duration": 0.02478,
     "end_time": "2022-07-21T14:28:33.711541",
     "exception": false,
     "start_time": "2022-07-21T14:28:33.686761",
     "status": "completed"
    },
    "tags": []
   },
   "source": [
    "* which couuntry has the highest no of t v shows"
   ]
  },
  {
   "cell_type": "code",
   "execution_count": 52,
   "id": "4667ff94",
   "metadata": {
    "execution": {
     "iopub.execute_input": "2022-07-21T14:28:33.763069Z",
     "iopub.status.busy": "2022-07-21T14:28:33.762627Z",
     "iopub.status.idle": "2022-07-21T14:28:33.776528Z",
     "shell.execute_reply": "2022-07-21T14:28:33.775453Z"
    },
    "papermill": {
     "duration": 0.042623,
     "end_time": "2022-07-21T14:28:33.778582",
     "exception": false,
     "start_time": "2022-07-21T14:28:33.735959",
     "status": "completed"
    },
    "tags": []
   },
   "outputs": [
    {
     "data": {
      "text/plain": [
       "United States    760\n",
       "Name: country, dtype: int64"
      ]
     },
     "execution_count": 52,
     "metadata": {},
     "output_type": "execute_result"
    }
   ],
   "source": [
    "f=data[data['type']=='TV Show']\n",
    "f['country'].value_counts().head(1)"
   ]
  },
  {
   "cell_type": "markdown",
   "id": "8d934e25",
   "metadata": {
    "papermill": {
     "duration": 0.024561,
     "end_time": "2022-07-21T14:28:33.827590",
     "exception": false,
     "start_time": "2022-07-21T14:28:33.803029",
     "status": "completed"
    },
    "tags": []
   },
   "source": [
    "* which country has the highest no of movies \n",
    "\n",
    "use groupby"
   ]
  },
  {
   "cell_type": "code",
   "execution_count": 53,
   "id": "a4951a10",
   "metadata": {
    "execution": {
     "iopub.execute_input": "2022-07-21T14:28:33.878215Z",
     "iopub.status.busy": "2022-07-21T14:28:33.877784Z",
     "iopub.status.idle": "2022-07-21T14:28:33.893742Z",
     "shell.execute_reply": "2022-07-21T14:28:33.892648Z"
    },
    "papermill": {
     "duration": 0.044164,
     "end_time": "2022-07-21T14:28:33.896031",
     "exception": false,
     "start_time": "2022-07-21T14:28:33.851867",
     "status": "completed"
    },
    "tags": []
   },
   "outputs": [
    {
     "data": {
      "text/plain": [
       "country        type \n",
       "United States  Movie    2058\n",
       "Name: type, dtype: int64"
      ]
     },
     "execution_count": 53,
     "metadata": {},
     "output_type": "execute_result"
    }
   ],
   "source": [
    "w=data[data['type']=='Movie']\n",
    "#p=data[w]\n",
    "w.groupby('country')['type'].value_counts().sort_values(ascending=False).head(1)"
   ]
  },
  {
   "cell_type": "markdown",
   "id": "7e7385fd",
   "metadata": {
    "papermill": {
     "duration": 0.023987,
     "end_time": "2022-07-21T14:28:33.945814",
     "exception": false,
     "start_time": "2022-07-21T14:28:33.921827",
     "status": "completed"
    },
    "tags": []
   },
   "source": [
    "\n",
    "# Conclusion "
   ]
  },
  {
   "cell_type": "markdown",
   "id": "7c50d4bf",
   "metadata": {
    "papermill": {
     "duration": 0.024843,
     "end_time": "2022-07-21T14:28:33.995832",
     "exception": false,
     "start_time": "2022-07-21T14:28:33.970989",
     "status": "completed"
    },
    "tags": []
   },
   "source": [
    "1. Netflix consist of 70% Movies And 30% Tv Shows.\n",
    "2. It Has Content Form Year 1942 to 2021.\n",
    "3. United States is at the top for both Movies and Tv Shows & india at 2nd .\n",
    "4. The popular streaming platform started gaining attraction after 2014. Since then, the amount of      content added has been increasing significantly,\n",
    "5. The rating TV-MA has most of the content .\n",
    "6. Netflix add maximum moovies at the first day of the months than any other day\n",
    "7. Netflix add highest number of moovie in 2019 year.\n",
    "8. The director with most number of releases is Rajiv chalika.\n",
    "9. International Movies is a genre that is mostly in Netflix.\n",
    "11. The most popular actor on Netflix TV Shows based on the number of titles is Takahiro Sakurai.\n",
    "12. The most popular actor on Netflix movie, based on the number of titles, is Anupam Kher.\n",
    "13. Mostly 1 season duration is there in netflix\n",
    " \n"
   ]
  }
 ],
 "metadata": {
  "kernelspec": {
   "display_name": "Python 3",
   "language": "python",
   "name": "python3"
  },
  "language_info": {
   "codemirror_mode": {
    "name": "ipython",
    "version": 3
   },
   "file_extension": ".py",
   "mimetype": "text/x-python",
   "name": "python",
   "nbconvert_exporter": "python",
   "pygments_lexer": "ipython3",
   "version": "3.7.12"
  },
  "papermill": {
   "default_parameters": {},
   "duration": 21.684667,
   "end_time": "2022-07-21T14:28:34.943028",
   "environment_variables": {},
   "exception": null,
   "input_path": "__notebook__.ipynb",
   "output_path": "__notebook__.ipynb",
   "parameters": {},
   "start_time": "2022-07-21T14:28:13.258361",
   "version": "2.3.4"
  }
 },
 "nbformat": 4,
 "nbformat_minor": 5
}
